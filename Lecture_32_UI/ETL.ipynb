{
 "cells": [
  {
   "cell_type": "code",
   "metadata": {
    "ExecuteTime": {
     "end_time": "2024-07-20T11:20:19.666950Z",
     "start_time": "2024-07-20T11:20:19.664055Z"
    }
   },
   "source": [
    "import pandas as pd"
   ],
   "outputs": [],
   "execution_count": 7
  },
  {
   "cell_type": "markdown",
   "metadata": {},
   "source": [
    "## Load data"
   ]
  },
  {
   "cell_type": "code",
   "metadata": {
    "ExecuteTime": {
     "end_time": "2024-07-20T11:23:26.360949Z",
     "start_time": "2024-07-20T11:23:26.355154Z"
    }
   },
   "source": [
    "try:\n",
    "    google_ads = pd.read_csv('google_ads.csv')\n",
    "    facebook_ads = pd.read_csv('facebook_ads.csv')\n",
    "    x_ads = pd.read_csv('facebook_ads.csv')\n",
    "except pd.errors.ParserError as e:\n",
    "    print(f\"Encountered a parsing error: {e}\")"
   ],
   "outputs": [],
   "execution_count": 16
  },
  {
   "cell_type": "code",
   "metadata": {
    "ExecuteTime": {
     "end_time": "2024-07-20T11:21:48.884889Z",
     "start_time": "2024-07-20T11:21:48.878889Z"
    }
   },
   "source": "google_ads.head()",
   "outputs": [
    {
     "data": {
      "text/plain": [
       "         Date  Impressions  Clicks    Cost\n",
       "0  21/06/2023         2834     355  203.62\n",
       "1  02/05/2023         7949     610  111.89\n",
       "2  03/08/2023         2147     325  288.17\n",
       "3  04/10/2023         3656     464  423.82\n",
       "4  05/11/2023         1999     349  170.00"
      ],
      "text/html": [
       "<div>\n",
       "<style scoped>\n",
       "    .dataframe tbody tr th:only-of-type {\n",
       "        vertical-align: middle;\n",
       "    }\n",
       "\n",
       "    .dataframe tbody tr th {\n",
       "        vertical-align: top;\n",
       "    }\n",
       "\n",
       "    .dataframe thead th {\n",
       "        text-align: right;\n",
       "    }\n",
       "</style>\n",
       "<table border=\"1\" class=\"dataframe\">\n",
       "  <thead>\n",
       "    <tr style=\"text-align: right;\">\n",
       "      <th></th>\n",
       "      <th>Date</th>\n",
       "      <th>Impressions</th>\n",
       "      <th>Clicks</th>\n",
       "      <th>Cost</th>\n",
       "    </tr>\n",
       "  </thead>\n",
       "  <tbody>\n",
       "    <tr>\n",
       "      <th>0</th>\n",
       "      <td>21/06/2023</td>\n",
       "      <td>2834</td>\n",
       "      <td>355</td>\n",
       "      <td>203.62</td>\n",
       "    </tr>\n",
       "    <tr>\n",
       "      <th>1</th>\n",
       "      <td>02/05/2023</td>\n",
       "      <td>7949</td>\n",
       "      <td>610</td>\n",
       "      <td>111.89</td>\n",
       "    </tr>\n",
       "    <tr>\n",
       "      <th>2</th>\n",
       "      <td>03/08/2023</td>\n",
       "      <td>2147</td>\n",
       "      <td>325</td>\n",
       "      <td>288.17</td>\n",
       "    </tr>\n",
       "    <tr>\n",
       "      <th>3</th>\n",
       "      <td>04/10/2023</td>\n",
       "      <td>3656</td>\n",
       "      <td>464</td>\n",
       "      <td>423.82</td>\n",
       "    </tr>\n",
       "    <tr>\n",
       "      <th>4</th>\n",
       "      <td>05/11/2023</td>\n",
       "      <td>1999</td>\n",
       "      <td>349</td>\n",
       "      <td>170.00</td>\n",
       "    </tr>\n",
       "  </tbody>\n",
       "</table>\n",
       "</div>"
      ]
     },
     "execution_count": 11,
     "metadata": {},
     "output_type": "execute_result"
    }
   ],
   "execution_count": 11
  },
  {
   "cell_type": "code",
   "metadata": {
    "ExecuteTime": {
     "end_time": "2024-07-20T11:23:48.041152Z",
     "start_time": "2024-07-20T11:23:48.034247Z"
    }
   },
   "source": "x_ads.head()",
   "outputs": [
    {
     "data": {
      "text/plain": [
       "         date  impressions  clicks   spent\n",
       "0  01/21/2023         9374     283  380.13\n",
       "1  03/13/2023         6496     850  201.62\n",
       "2  03/29/2023         9267     251  422.72\n",
       "3  04/10/2023          289     786  230.38\n",
       "4  04/13/2023         1284     828  308.90"
      ],
      "text/html": [
       "<div>\n",
       "<style scoped>\n",
       "    .dataframe tbody tr th:only-of-type {\n",
       "        vertical-align: middle;\n",
       "    }\n",
       "\n",
       "    .dataframe tbody tr th {\n",
       "        vertical-align: top;\n",
       "    }\n",
       "\n",
       "    .dataframe thead th {\n",
       "        text-align: right;\n",
       "    }\n",
       "</style>\n",
       "<table border=\"1\" class=\"dataframe\">\n",
       "  <thead>\n",
       "    <tr style=\"text-align: right;\">\n",
       "      <th></th>\n",
       "      <th>date</th>\n",
       "      <th>impressions</th>\n",
       "      <th>clicks</th>\n",
       "      <th>spent</th>\n",
       "    </tr>\n",
       "  </thead>\n",
       "  <tbody>\n",
       "    <tr>\n",
       "      <th>0</th>\n",
       "      <td>01/21/2023</td>\n",
       "      <td>9374</td>\n",
       "      <td>283</td>\n",
       "      <td>380.13</td>\n",
       "    </tr>\n",
       "    <tr>\n",
       "      <th>1</th>\n",
       "      <td>03/13/2023</td>\n",
       "      <td>6496</td>\n",
       "      <td>850</td>\n",
       "      <td>201.62</td>\n",
       "    </tr>\n",
       "    <tr>\n",
       "      <th>2</th>\n",
       "      <td>03/29/2023</td>\n",
       "      <td>9267</td>\n",
       "      <td>251</td>\n",
       "      <td>422.72</td>\n",
       "    </tr>\n",
       "    <tr>\n",
       "      <th>3</th>\n",
       "      <td>04/10/2023</td>\n",
       "      <td>289</td>\n",
       "      <td>786</td>\n",
       "      <td>230.38</td>\n",
       "    </tr>\n",
       "    <tr>\n",
       "      <th>4</th>\n",
       "      <td>04/13/2023</td>\n",
       "      <td>1284</td>\n",
       "      <td>828</td>\n",
       "      <td>308.90</td>\n",
       "    </tr>\n",
       "  </tbody>\n",
       "</table>\n",
       "</div>"
      ]
     },
     "execution_count": 17,
     "metadata": {},
     "output_type": "execute_result"
    }
   ],
   "execution_count": 17
  },
  {
   "cell_type": "markdown",
   "metadata": {},
   "source": [
    "## Standardize Column Names"
   ]
  },
  {
   "cell_type": "code",
   "metadata": {
    "ExecuteTime": {
     "end_time": "2024-07-20T11:24:21.066931Z",
     "start_time": "2024-07-20T11:24:21.063825Z"
    }
   },
   "source": [
    "# Rename columns to create a uniform structure\n",
    "columns_mappings = {\n",
    "    'date': 'Date',\n",
    "    'impressions': 'Impressions',\n",
    "    'clicks': 'Clicks',\n",
    "    'spent': 'Cost'\n",
    "}\n",
    "\n",
    "x_ads.rename(columns=columns_mappings, inplace=True)"
   ],
   "outputs": [],
   "execution_count": 18
  },
  {
   "cell_type": "code",
   "metadata": {
    "ExecuteTime": {
     "end_time": "2024-07-20T11:24:23.965680Z",
     "start_time": "2024-07-20T11:24:23.955307Z"
    }
   },
   "source": "x.head()",
   "outputs": [
    {
     "ename": "NameError",
     "evalue": "name 'x' is not defined",
     "output_type": "error",
     "traceback": [
      "\u001B[1;31m---------------------------------------------------------------------------\u001B[0m",
      "\u001B[1;31mNameError\u001B[0m                                 Traceback (most recent call last)",
      "Cell \u001B[1;32mIn[19], line 1\u001B[0m\n\u001B[1;32m----> 1\u001B[0m \u001B[43mx\u001B[49m\u001B[38;5;241m.\u001B[39mhead()\n",
      "\u001B[1;31mNameError\u001B[0m: name 'x' is not defined"
     ]
    }
   ],
   "execution_count": 19
  },
  {
   "cell_type": "markdown",
   "metadata": {},
   "source": [
    "## Normalize Data Formats"
   ]
  },
  {
   "cell_type": "code",
   "execution_count": 22,
   "metadata": {},
   "outputs": [
    {
     "data": {
      "text/html": [
       "<div>\n",
       "<style scoped>\n",
       "    .dataframe tbody tr th:only-of-type {\n",
       "        vertical-align: middle;\n",
       "    }\n",
       "\n",
       "    .dataframe tbody tr th {\n",
       "        vertical-align: top;\n",
       "    }\n",
       "\n",
       "    .dataframe thead th {\n",
       "        text-align: right;\n",
       "    }\n",
       "</style>\n",
       "<table border=\"1\" class=\"dataframe\">\n",
       "  <thead>\n",
       "    <tr style=\"text-align: right;\">\n",
       "      <th></th>\n",
       "      <th>Date</th>\n",
       "      <th>Impressions</th>\n",
       "      <th>Clicks</th>\n",
       "      <th>Cost</th>\n",
       "    </tr>\n",
       "  </thead>\n",
       "  <tbody>\n",
       "    <tr>\n",
       "      <th>0</th>\n",
       "      <td>2023-01-21</td>\n",
       "      <td>9374</td>\n",
       "      <td>283</td>\n",
       "      <td>380.13</td>\n",
       "    </tr>\n",
       "    <tr>\n",
       "      <th>1</th>\n",
       "      <td>2023-03-13</td>\n",
       "      <td>6496</td>\n",
       "      <td>850</td>\n",
       "      <td>201.62</td>\n",
       "    </tr>\n",
       "    <tr>\n",
       "      <th>2</th>\n",
       "      <td>2023-03-29</td>\n",
       "      <td>9267</td>\n",
       "      <td>251</td>\n",
       "      <td>422.72</td>\n",
       "    </tr>\n",
       "    <tr>\n",
       "      <th>3</th>\n",
       "      <td>2023-04-10</td>\n",
       "      <td>289</td>\n",
       "      <td>786</td>\n",
       "      <td>230.38</td>\n",
       "    </tr>\n",
       "    <tr>\n",
       "      <th>4</th>\n",
       "      <td>2023-04-13</td>\n",
       "      <td>1284</td>\n",
       "      <td>828</td>\n",
       "      <td>308.90</td>\n",
       "    </tr>\n",
       "  </tbody>\n",
       "</table>\n",
       "</div>"
      ],
      "text/plain": [
       "        Date  Impressions  Clicks    Cost\n",
       "0 2023-01-21         9374     283  380.13\n",
       "1 2023-03-13         6496     850  201.62\n",
       "2 2023-03-29         9267     251  422.72\n",
       "3 2023-04-10          289     786  230.38\n",
       "4 2023-04-13         1284     828  308.90"
      ]
     },
     "execution_count": 22,
     "metadata": {},
     "output_type": "execute_result"
    }
   ],
   "source": [
    "# Convert to standardized datetime format\n",
    "facebook_ads['Date'] = pd.to_datetime(facebook_ads['Date'], format='mixed')\n",
    "facebook_ads.head()\n"
   ]
  },
  {
   "metadata": {
    "ExecuteTime": {
     "end_time": "2024-07-20T11:28:55.162925Z",
     "start_time": "2024-07-20T11:28:55.158522Z"
    }
   },
   "cell_type": "code",
   "source": [
    "data = {\n",
    "    'Date': ['2023-08-20', '20AUG2023', '2023-09-15', '15SEP2023', '12-JUN-2024']\n",
    "}\n",
    "\n",
    "facebook_ads = pd.DataFrame(data)\n",
    "\n",
    "# Convert the 'Date' column to datetime with format='mixed'\n",
    "facebook_ads['Date'] = pd.to_datetime(facebook_ads['Date'], format='mixed')\n",
    "\n",
    "print(facebook_ads)"
   ],
   "outputs": [
    {
     "name": "stdout",
     "output_type": "stream",
     "text": [
      "        Date\n",
      "0 2023-08-20\n",
      "1 2023-08-20\n",
      "2 2023-09-15\n",
      "3 2023-09-15\n",
      "4 2024-06-12\n"
     ]
    }
   ],
   "execution_count": 25
  },
  {
   "cell_type": "markdown",
   "metadata": {},
   "source": [
    "## Data Aggregation:\n",
    "\n",
    "\n",
    "Let's consider next scenario, where we have data from different marketing channels: Social Media, Email, PPC (pay-per-click), and Display Ads.  \n",
    "\n",
    "Each channel generates its own set of data, including impressions, clicks, conversions, and costs. \n",
    "\n",
    "We want to aggregate this data to analyze overall performance metrics such as total impressions, clicks, conversions, average CPC (Cost Per Click), average CPA (Cost Per Acquisition), and ROI (Return on Investment) by channel. "
   ]
  },
  {
   "cell_type": "code",
   "metadata": {
    "ExecuteTime": {
     "end_time": "2024-07-20T11:29:30.715843Z",
     "start_time": "2024-07-20T11:29:30.708707Z"
    }
   },
   "source": [
    "# Sample data representing different marketing channels\n",
    "data = {\n",
    "    'Channel': ['Social Media', 'Email', 'PPC', 'Display Ads', 'Social Media', 'Email', 'PPC', 'Display Ads'],\n",
    "    'Impressions': [100000, 50000, 120000, 80000, 110000, 55000, 130000, 90000],\n",
    "    'Clicks': [1000, 700, 1500, 800, 1100, 750, 1600, 850],\n",
    "    'Conversions': [50, 60, 70, 40, 55, 65, 75, 45],\n",
    "    'Total Spent': [2000, 1000, 2500, 1600, 2100, 1100, 2600, 1700],\n",
    "    'Total Revenue': [5000, 4000, 7000, 3000, 5200, 4200, 7300, 3200]\n",
    "}\n",
    "\n",
    "# Creating a DataFrame\n",
    "df = pd.DataFrame(data)\n",
    "df"
   ],
   "outputs": [
    {
     "data": {
      "text/plain": [
       "        Channel  Impressions  Clicks  Conversions  Total Spent  Total Revenue\n",
       "0  Social Media       100000    1000           50         2000           5000\n",
       "1         Email        50000     700           60         1000           4000\n",
       "2           PPC       120000    1500           70         2500           7000\n",
       "3   Display Ads        80000     800           40         1600           3000\n",
       "4  Social Media       110000    1100           55         2100           5200\n",
       "5         Email        55000     750           65         1100           4200\n",
       "6           PPC       130000    1600           75         2600           7300\n",
       "7   Display Ads        90000     850           45         1700           3200"
      ],
      "text/html": [
       "<div>\n",
       "<style scoped>\n",
       "    .dataframe tbody tr th:only-of-type {\n",
       "        vertical-align: middle;\n",
       "    }\n",
       "\n",
       "    .dataframe tbody tr th {\n",
       "        vertical-align: top;\n",
       "    }\n",
       "\n",
       "    .dataframe thead th {\n",
       "        text-align: right;\n",
       "    }\n",
       "</style>\n",
       "<table border=\"1\" class=\"dataframe\">\n",
       "  <thead>\n",
       "    <tr style=\"text-align: right;\">\n",
       "      <th></th>\n",
       "      <th>Channel</th>\n",
       "      <th>Impressions</th>\n",
       "      <th>Clicks</th>\n",
       "      <th>Conversions</th>\n",
       "      <th>Total Spent</th>\n",
       "      <th>Total Revenue</th>\n",
       "    </tr>\n",
       "  </thead>\n",
       "  <tbody>\n",
       "    <tr>\n",
       "      <th>0</th>\n",
       "      <td>Social Media</td>\n",
       "      <td>100000</td>\n",
       "      <td>1000</td>\n",
       "      <td>50</td>\n",
       "      <td>2000</td>\n",
       "      <td>5000</td>\n",
       "    </tr>\n",
       "    <tr>\n",
       "      <th>1</th>\n",
       "      <td>Email</td>\n",
       "      <td>50000</td>\n",
       "      <td>700</td>\n",
       "      <td>60</td>\n",
       "      <td>1000</td>\n",
       "      <td>4000</td>\n",
       "    </tr>\n",
       "    <tr>\n",
       "      <th>2</th>\n",
       "      <td>PPC</td>\n",
       "      <td>120000</td>\n",
       "      <td>1500</td>\n",
       "      <td>70</td>\n",
       "      <td>2500</td>\n",
       "      <td>7000</td>\n",
       "    </tr>\n",
       "    <tr>\n",
       "      <th>3</th>\n",
       "      <td>Display Ads</td>\n",
       "      <td>80000</td>\n",
       "      <td>800</td>\n",
       "      <td>40</td>\n",
       "      <td>1600</td>\n",
       "      <td>3000</td>\n",
       "    </tr>\n",
       "    <tr>\n",
       "      <th>4</th>\n",
       "      <td>Social Media</td>\n",
       "      <td>110000</td>\n",
       "      <td>1100</td>\n",
       "      <td>55</td>\n",
       "      <td>2100</td>\n",
       "      <td>5200</td>\n",
       "    </tr>\n",
       "    <tr>\n",
       "      <th>5</th>\n",
       "      <td>Email</td>\n",
       "      <td>55000</td>\n",
       "      <td>750</td>\n",
       "      <td>65</td>\n",
       "      <td>1100</td>\n",
       "      <td>4200</td>\n",
       "    </tr>\n",
       "    <tr>\n",
       "      <th>6</th>\n",
       "      <td>PPC</td>\n",
       "      <td>130000</td>\n",
       "      <td>1600</td>\n",
       "      <td>75</td>\n",
       "      <td>2600</td>\n",
       "      <td>7300</td>\n",
       "    </tr>\n",
       "    <tr>\n",
       "      <th>7</th>\n",
       "      <td>Display Ads</td>\n",
       "      <td>90000</td>\n",
       "      <td>850</td>\n",
       "      <td>45</td>\n",
       "      <td>1700</td>\n",
       "      <td>3200</td>\n",
       "    </tr>\n",
       "  </tbody>\n",
       "</table>\n",
       "</div>"
      ]
     },
     "execution_count": 26,
     "metadata": {},
     "output_type": "execute_result"
    }
   ],
   "execution_count": 26
  },
  {
   "cell_type": "code",
   "metadata": {
    "ExecuteTime": {
     "end_time": "2024-07-20T11:31:09.756537Z",
     "start_time": "2024-07-20T11:31:09.750219Z"
    }
   },
   "source": [
    "aggregated_data = df.groupby('Channel').sum().reset_index()\n",
    "aggregated_data\n",
    "# # Calculating additional metrics\n",
    "# aggregated_data['CPC'] = aggregated_data['Total Spent'] / aggregated_data['Clicks']\n",
    "# aggregated_data['CPA'] = aggregated_data['Total Spent'] / aggregated_data['Conversions']\n",
    "# aggregated_data['ROI'] = ((aggregated_data['Total Revenue'] - aggregated_data['Total Spent']) / aggregated_data['Total Spent']) * 100\n",
    "# \n",
    "# aggregated_data\n"
   ],
   "outputs": [
    {
     "data": {
      "text/plain": [
       "        Channel  Impressions  Clicks  Conversions  Total Spent  Total Revenue\n",
       "0   Display Ads       170000    1650           85         3300           6200\n",
       "1         Email       105000    1450          125         2100           8200\n",
       "2           PPC       250000    3100          145         5100          14300\n",
       "3  Social Media       210000    2100          105         4100          10200"
      ],
      "text/html": [
       "<div>\n",
       "<style scoped>\n",
       "    .dataframe tbody tr th:only-of-type {\n",
       "        vertical-align: middle;\n",
       "    }\n",
       "\n",
       "    .dataframe tbody tr th {\n",
       "        vertical-align: top;\n",
       "    }\n",
       "\n",
       "    .dataframe thead th {\n",
       "        text-align: right;\n",
       "    }\n",
       "</style>\n",
       "<table border=\"1\" class=\"dataframe\">\n",
       "  <thead>\n",
       "    <tr style=\"text-align: right;\">\n",
       "      <th></th>\n",
       "      <th>Channel</th>\n",
       "      <th>Impressions</th>\n",
       "      <th>Clicks</th>\n",
       "      <th>Conversions</th>\n",
       "      <th>Total Spent</th>\n",
       "      <th>Total Revenue</th>\n",
       "    </tr>\n",
       "  </thead>\n",
       "  <tbody>\n",
       "    <tr>\n",
       "      <th>0</th>\n",
       "      <td>Display Ads</td>\n",
       "      <td>170000</td>\n",
       "      <td>1650</td>\n",
       "      <td>85</td>\n",
       "      <td>3300</td>\n",
       "      <td>6200</td>\n",
       "    </tr>\n",
       "    <tr>\n",
       "      <th>1</th>\n",
       "      <td>Email</td>\n",
       "      <td>105000</td>\n",
       "      <td>1450</td>\n",
       "      <td>125</td>\n",
       "      <td>2100</td>\n",
       "      <td>8200</td>\n",
       "    </tr>\n",
       "    <tr>\n",
       "      <th>2</th>\n",
       "      <td>PPC</td>\n",
       "      <td>250000</td>\n",
       "      <td>3100</td>\n",
       "      <td>145</td>\n",
       "      <td>5100</td>\n",
       "      <td>14300</td>\n",
       "    </tr>\n",
       "    <tr>\n",
       "      <th>3</th>\n",
       "      <td>Social Media</td>\n",
       "      <td>210000</td>\n",
       "      <td>2100</td>\n",
       "      <td>105</td>\n",
       "      <td>4100</td>\n",
       "      <td>10200</td>\n",
       "    </tr>\n",
       "  </tbody>\n",
       "</table>\n",
       "</div>"
      ]
     },
     "execution_count": 32,
     "metadata": {},
     "output_type": "execute_result"
    }
   ],
   "execution_count": 32
  }
 ],
 "metadata": {
  "kernelspec": {
   "display_name": ".venv",
   "language": "python",
   "name": "python3"
  },
  "language_info": {
   "codemirror_mode": {
    "name": "ipython",
    "version": 3
   },
   "file_extension": ".py",
   "mimetype": "text/x-python",
   "name": "python",
   "nbconvert_exporter": "python",
   "pygments_lexer": "ipython3",
   "version": "3.12.0"
  }
 },
 "nbformat": 4,
 "nbformat_minor": 2
}
