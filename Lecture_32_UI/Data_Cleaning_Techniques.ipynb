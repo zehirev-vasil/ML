{
 "cells": [
  {
   "cell_type": "code",
   "metadata": {
    "ExecuteTime": {
     "end_time": "2024-07-19T18:38:16.929176Z",
     "start_time": "2024-07-19T18:38:16.159720Z"
    }
   },
   "source": [
    "import pandas as pd\n",
    "import numpy as np\n",
    "\n",
    "import matplotlib.pyplot as plt\n",
    "import seaborn as sns"
   ],
   "outputs": [],
   "execution_count": 2
  },
  {
   "cell_type": "markdown",
   "metadata": {},
   "source": [
    "# <a id='toc1_'></a>[Data Cleaning Techniques with Pandas and NumPy](#toc0_)"
   ]
  },
  {
   "cell_type": "markdown",
   "metadata": {},
   "source": [
    "**Table of contents**<a id='toc0_'></a>    \n",
    "- [Data Cleaning Techniques with Pandas and NumPy](#toc1_)    \n",
    "  - [Basic Data Cleaning Operations](#toc1_1_)    \n",
    "    - [Handling Missing Values](#toc1_1_1_)    \n",
    "      - [Fill missing values](#toc1_1_1_1_)    \n",
    "      - [Remove rows/columns with missing values](#toc1_1_1_2_)    \n",
    "    - [Handle Duplicate data](#toc1_1_2_)    \n",
    "    - [Replacing values](#toc1_1_3_)    \n",
    "      - [Basic Replacement](#toc1_1_3_1_)    \n",
    "      - [Replacing Multiple Values](#toc1_1_3_2_)    \n",
    "      - [Replacing Values in a Specific Column](#toc1_1_3_3_)    \n",
    "      - [Using Regular Expressions](#toc1_1_3_4_)    \n",
    "    - [Detecting and Removing Outliers](#toc1_1_4_)    \n",
    "  - [Examples](#toc1_2_)    \n",
    "    - [Handling Duplicate Customer Profiles by Email](#toc1_2_1_)    \n",
    "    - [ Handling Missing Values in Patient Records](#toc1_2_2_)    \n",
    "      - [Identifying Missing Values](#toc1_2_2_1_)    \n",
    "      - [Filling Missing Values with a Default Value](#toc1_2_2_2_)    \n",
    "      - [Dropping Rows with Missing Values](#toc1_2_2_3_)    \n",
    "    - [Handling Inconsistent Formats](#toc1_2_3_)    \n",
    "    - [Handling Incorrect Values](#toc1_2_4_)    \n",
    "\n",
    "<!-- vscode-jupyter-toc-config\n",
    "\tnumbering=false\n",
    "\tanchor=true\n",
    "\tflat=false\n",
    "\tminLevel=1\n",
    "\tmaxLevel=6\n",
    "\t/vscode-jupyter-toc-config -->\n",
    "<!-- THIS CELL WILL BE REPLACED ON TOC UPDATE. DO NOT WRITE YOUR TEXT IN THIS CELL -->"
   ]
  },
  {
   "cell_type": "markdown",
   "metadata": {},
   "source": [
    "## <a id='toc1_1_'></a>[Basic Data Cleaning Operations](#toc0_)\n",
    "\n",
    "### <a id='toc1_1_1_'></a>[Handling Missing Values](#toc0_)\n",
    "\n",
    "Pandas offers several methods to deal with missing data, such as removal and imputation.\n",
    "\n",
    "Reference: [Working with missing data - User Guide]([https://](https://pandas.pydata.org/pandas-docs/stable/user_guide/missing_data.html#missing-data))"
   ]
  },
  {
   "cell_type": "markdown",
   "metadata": {},
   "source": [
    "#### <a id='toc1_1_1_1_'></a>[Fill missing values](#toc0_)\n",
    "\n",
    "[pandas.DataFrame.fillna](https://pandas.pydata.org/pandas-docs/stable/reference/api/pandas.DataFrame.fillna.html) is used to fill NaN with a value\n",
    "\n",
    "[pandas.DataFrame.ffill](https://pandas.pydata.org/pandas-docs/stable/reference/api/pandas.DataFrame.ffill.html) is used to fill NaN values by propagating the last valid observation to next valid.\n",
    "\n",
    "[pandas.DataFrame.bfill]([https://](https://pandas.pydata.org/pandas-docs/stable/reference/api/pandas.DataFrame.bfill.html)) is uset to fill NaN values by using the next valid observation to fill the gap."
   ]
  },
  {
   "cell_type": "code",
   "metadata": {
    "ExecuteTime": {
     "end_time": "2024-07-19T18:41:54.974658Z",
     "start_time": "2024-07-19T18:41:54.967771Z"
    }
   },
   "source": [
    "# Example dataset\n",
    "data = {\n",
    "    'A': [1, np.nan, 3, 4, 5],\n",
    "    'B': [6, 7, 8, np.nan, 10],\n",
    "    'C': [11, 12, np.nan, np.nan, 15]\n",
    "}\n",
    "df = pd.DataFrame(data)\n",
    "df"
   ],
   "outputs": [
    {
     "data": {
      "text/plain": [
       "     A     B     C\n",
       "0  1.0   6.0  11.0\n",
       "1  NaN   7.0  12.0\n",
       "2  3.0   8.0   NaN\n",
       "3  4.0   NaN   NaN\n",
       "4  5.0  10.0  15.0"
      ],
      "text/html": [
       "<div>\n",
       "<style scoped>\n",
       "    .dataframe tbody tr th:only-of-type {\n",
       "        vertical-align: middle;\n",
       "    }\n",
       "\n",
       "    .dataframe tbody tr th {\n",
       "        vertical-align: top;\n",
       "    }\n",
       "\n",
       "    .dataframe thead th {\n",
       "        text-align: right;\n",
       "    }\n",
       "</style>\n",
       "<table border=\"1\" class=\"dataframe\">\n",
       "  <thead>\n",
       "    <tr style=\"text-align: right;\">\n",
       "      <th></th>\n",
       "      <th>A</th>\n",
       "      <th>B</th>\n",
       "      <th>C</th>\n",
       "    </tr>\n",
       "  </thead>\n",
       "  <tbody>\n",
       "    <tr>\n",
       "      <th>0</th>\n",
       "      <td>1.0</td>\n",
       "      <td>6.0</td>\n",
       "      <td>11.0</td>\n",
       "    </tr>\n",
       "    <tr>\n",
       "      <th>1</th>\n",
       "      <td>NaN</td>\n",
       "      <td>7.0</td>\n",
       "      <td>12.0</td>\n",
       "    </tr>\n",
       "    <tr>\n",
       "      <th>2</th>\n",
       "      <td>3.0</td>\n",
       "      <td>8.0</td>\n",
       "      <td>NaN</td>\n",
       "    </tr>\n",
       "    <tr>\n",
       "      <th>3</th>\n",
       "      <td>4.0</td>\n",
       "      <td>NaN</td>\n",
       "      <td>NaN</td>\n",
       "    </tr>\n",
       "    <tr>\n",
       "      <th>4</th>\n",
       "      <td>5.0</td>\n",
       "      <td>10.0</td>\n",
       "      <td>15.0</td>\n",
       "    </tr>\n",
       "  </tbody>\n",
       "</table>\n",
       "</div>"
      ]
     },
     "execution_count": 10,
     "metadata": {},
     "output_type": "execute_result"
    }
   ],
   "execution_count": 10
  },
  {
   "cell_type": "code",
   "metadata": {
    "ExecuteTime": {
     "end_time": "2024-07-19T18:39:27.335916Z",
     "start_time": "2024-07-19T18:39:27.329094Z"
    }
   },
   "source": [
    "# Replace all NaN elements with 0s.\n",
    "df_fillna_zeros = df.fillna(value=0)\n",
    "df_fillna_zeros"
   ],
   "outputs": [
    {
     "data": {
      "text/plain": [
       "     A     B     C\n",
       "0  1.0   6.0  11.0\n",
       "1  0.0   7.0  12.0\n",
       "2  3.0   8.0   0.0\n",
       "3  4.0   0.0   0.0\n",
       "4  5.0  10.0  15.0"
      ],
      "text/html": [
       "<div>\n",
       "<style scoped>\n",
       "    .dataframe tbody tr th:only-of-type {\n",
       "        vertical-align: middle;\n",
       "    }\n",
       "\n",
       "    .dataframe tbody tr th {\n",
       "        vertical-align: top;\n",
       "    }\n",
       "\n",
       "    .dataframe thead th {\n",
       "        text-align: right;\n",
       "    }\n",
       "</style>\n",
       "<table border=\"1\" class=\"dataframe\">\n",
       "  <thead>\n",
       "    <tr style=\"text-align: right;\">\n",
       "      <th></th>\n",
       "      <th>A</th>\n",
       "      <th>B</th>\n",
       "      <th>C</th>\n",
       "    </tr>\n",
       "  </thead>\n",
       "  <tbody>\n",
       "    <tr>\n",
       "      <th>0</th>\n",
       "      <td>1.0</td>\n",
       "      <td>6.0</td>\n",
       "      <td>11.0</td>\n",
       "    </tr>\n",
       "    <tr>\n",
       "      <th>1</th>\n",
       "      <td>0.0</td>\n",
       "      <td>7.0</td>\n",
       "      <td>12.0</td>\n",
       "    </tr>\n",
       "    <tr>\n",
       "      <th>2</th>\n",
       "      <td>3.0</td>\n",
       "      <td>8.0</td>\n",
       "      <td>0.0</td>\n",
       "    </tr>\n",
       "    <tr>\n",
       "      <th>3</th>\n",
       "      <td>4.0</td>\n",
       "      <td>0.0</td>\n",
       "      <td>0.0</td>\n",
       "    </tr>\n",
       "    <tr>\n",
       "      <th>4</th>\n",
       "      <td>5.0</td>\n",
       "      <td>10.0</td>\n",
       "      <td>15.0</td>\n",
       "    </tr>\n",
       "  </tbody>\n",
       "</table>\n",
       "</div>"
      ]
     },
     "execution_count": 4,
     "metadata": {},
     "output_type": "execute_result"
    }
   ],
   "execution_count": 4
  },
  {
   "cell_type": "code",
   "metadata": {
    "ExecuteTime": {
     "end_time": "2024-07-19T18:40:34.642487Z",
     "start_time": "2024-07-19T18:40:34.635132Z"
    }
   },
   "source": [
    "# Replace all NaN in column A with 0; in column Б with its mean; in column C with its median\n",
    "values = {\n",
    "    'A': 0,\n",
    "    'B': df['B'].mean(),\n",
    "    'C': df['C'].median()\n",
    "}\n",
    "df_fillna_dict_values = df.fillna(value=values)\n",
    "df_fillna_dict_values"
   ],
   "outputs": [
    {
     "data": {
      "text/plain": [
       "     A      B     C\n",
       "0  1.0   6.00  11.0\n",
       "1  0.0   7.00  12.0\n",
       "2  3.0   8.00  12.0\n",
       "3  4.0   7.75  12.0\n",
       "4  5.0  10.00  15.0"
      ],
      "text/html": [
       "<div>\n",
       "<style scoped>\n",
       "    .dataframe tbody tr th:only-of-type {\n",
       "        vertical-align: middle;\n",
       "    }\n",
       "\n",
       "    .dataframe tbody tr th {\n",
       "        vertical-align: top;\n",
       "    }\n",
       "\n",
       "    .dataframe thead th {\n",
       "        text-align: right;\n",
       "    }\n",
       "</style>\n",
       "<table border=\"1\" class=\"dataframe\">\n",
       "  <thead>\n",
       "    <tr style=\"text-align: right;\">\n",
       "      <th></th>\n",
       "      <th>A</th>\n",
       "      <th>B</th>\n",
       "      <th>C</th>\n",
       "    </tr>\n",
       "  </thead>\n",
       "  <tbody>\n",
       "    <tr>\n",
       "      <th>0</th>\n",
       "      <td>1.0</td>\n",
       "      <td>6.00</td>\n",
       "      <td>11.0</td>\n",
       "    </tr>\n",
       "    <tr>\n",
       "      <th>1</th>\n",
       "      <td>0.0</td>\n",
       "      <td>7.00</td>\n",
       "      <td>12.0</td>\n",
       "    </tr>\n",
       "    <tr>\n",
       "      <th>2</th>\n",
       "      <td>3.0</td>\n",
       "      <td>8.00</td>\n",
       "      <td>12.0</td>\n",
       "    </tr>\n",
       "    <tr>\n",
       "      <th>3</th>\n",
       "      <td>4.0</td>\n",
       "      <td>7.75</td>\n",
       "      <td>12.0</td>\n",
       "    </tr>\n",
       "    <tr>\n",
       "      <th>4</th>\n",
       "      <td>5.0</td>\n",
       "      <td>10.00</td>\n",
       "      <td>15.0</td>\n",
       "    </tr>\n",
       "  </tbody>\n",
       "</table>\n",
       "</div>"
      ]
     },
     "execution_count": 6,
     "metadata": {},
     "output_type": "execute_result"
    }
   ],
   "execution_count": 6
  },
  {
   "metadata": {
    "ExecuteTime": {
     "end_time": "2024-07-19T18:41:21.616006Z",
     "start_time": "2024-07-19T18:41:21.609382Z"
    }
   },
   "cell_type": "code",
   "source": "df",
   "outputs": [
    {
     "data": {
      "text/plain": [
       "     A     B     C\n",
       "0  1.0   6.0  11.0\n",
       "1  NaN   7.0  12.0\n",
       "2  3.0   8.0   NaN\n",
       "3  4.0   NaN   NaN\n",
       "4  5.0  10.0  15.0"
      ],
      "text/html": [
       "<div>\n",
       "<style scoped>\n",
       "    .dataframe tbody tr th:only-of-type {\n",
       "        vertical-align: middle;\n",
       "    }\n",
       "\n",
       "    .dataframe tbody tr th {\n",
       "        vertical-align: top;\n",
       "    }\n",
       "\n",
       "    .dataframe thead th {\n",
       "        text-align: right;\n",
       "    }\n",
       "</style>\n",
       "<table border=\"1\" class=\"dataframe\">\n",
       "  <thead>\n",
       "    <tr style=\"text-align: right;\">\n",
       "      <th></th>\n",
       "      <th>A</th>\n",
       "      <th>B</th>\n",
       "      <th>C</th>\n",
       "    </tr>\n",
       "  </thead>\n",
       "  <tbody>\n",
       "    <tr>\n",
       "      <th>0</th>\n",
       "      <td>1.0</td>\n",
       "      <td>6.0</td>\n",
       "      <td>11.0</td>\n",
       "    </tr>\n",
       "    <tr>\n",
       "      <th>1</th>\n",
       "      <td>NaN</td>\n",
       "      <td>7.0</td>\n",
       "      <td>12.0</td>\n",
       "    </tr>\n",
       "    <tr>\n",
       "      <th>2</th>\n",
       "      <td>3.0</td>\n",
       "      <td>8.0</td>\n",
       "      <td>NaN</td>\n",
       "    </tr>\n",
       "    <tr>\n",
       "      <th>3</th>\n",
       "      <td>4.0</td>\n",
       "      <td>NaN</td>\n",
       "      <td>NaN</td>\n",
       "    </tr>\n",
       "    <tr>\n",
       "      <th>4</th>\n",
       "      <td>5.0</td>\n",
       "      <td>10.0</td>\n",
       "      <td>15.0</td>\n",
       "    </tr>\n",
       "  </tbody>\n",
       "</table>\n",
       "</div>"
      ]
     },
     "execution_count": 8,
     "metadata": {},
     "output_type": "execute_result"
    }
   ],
   "execution_count": 8
  },
  {
   "cell_type": "code",
   "metadata": {
    "ExecuteTime": {
     "end_time": "2024-07-19T18:41:45.514180Z",
     "start_time": "2024-07-19T18:41:45.508334Z"
    }
   },
   "source": [
    "# fill NaN values by propagating the last valid observation to next valid\n",
    "df_fflil = df.ffill()\n",
    "df_fflil"
   ],
   "outputs": [
    {
     "data": {
      "text/plain": [
       "     A     B     C\n",
       "0  1.0   6.0  11.0\n",
       "1  1.0   7.0  12.0\n",
       "2  3.0   8.0  12.0\n",
       "3  4.0   8.0  12.0\n",
       "4  5.0  10.0  15.0"
      ],
      "text/html": [
       "<div>\n",
       "<style scoped>\n",
       "    .dataframe tbody tr th:only-of-type {\n",
       "        vertical-align: middle;\n",
       "    }\n",
       "\n",
       "    .dataframe tbody tr th {\n",
       "        vertical-align: top;\n",
       "    }\n",
       "\n",
       "    .dataframe thead th {\n",
       "        text-align: right;\n",
       "    }\n",
       "</style>\n",
       "<table border=\"1\" class=\"dataframe\">\n",
       "  <thead>\n",
       "    <tr style=\"text-align: right;\">\n",
       "      <th></th>\n",
       "      <th>A</th>\n",
       "      <th>B</th>\n",
       "      <th>C</th>\n",
       "    </tr>\n",
       "  </thead>\n",
       "  <tbody>\n",
       "    <tr>\n",
       "      <th>0</th>\n",
       "      <td>1.0</td>\n",
       "      <td>6.0</td>\n",
       "      <td>11.0</td>\n",
       "    </tr>\n",
       "    <tr>\n",
       "      <th>1</th>\n",
       "      <td>1.0</td>\n",
       "      <td>7.0</td>\n",
       "      <td>12.0</td>\n",
       "    </tr>\n",
       "    <tr>\n",
       "      <th>2</th>\n",
       "      <td>3.0</td>\n",
       "      <td>8.0</td>\n",
       "      <td>12.0</td>\n",
       "    </tr>\n",
       "    <tr>\n",
       "      <th>3</th>\n",
       "      <td>4.0</td>\n",
       "      <td>8.0</td>\n",
       "      <td>12.0</td>\n",
       "    </tr>\n",
       "    <tr>\n",
       "      <th>4</th>\n",
       "      <td>5.0</td>\n",
       "      <td>10.0</td>\n",
       "      <td>15.0</td>\n",
       "    </tr>\n",
       "  </tbody>\n",
       "</table>\n",
       "</div>"
      ]
     },
     "execution_count": 9,
     "metadata": {},
     "output_type": "execute_result"
    }
   ],
   "execution_count": 9
  },
  {
   "metadata": {
    "ExecuteTime": {
     "end_time": "2024-07-19T18:47:20.454426Z",
     "start_time": "2024-07-19T18:47:20.449134Z"
    }
   },
   "cell_type": "code",
   "source": [
    "df.B.ffill(inplace=True)\n",
    "df"
   ],
   "outputs": [
    {
     "name": "stderr",
     "output_type": "stream",
     "text": [
      "C:\\Users\\zehir\\AppData\\Local\\Temp\\ipykernel_21364\\1826456583.py:1: FutureWarning: A value is trying to be set on a copy of a DataFrame or Series through chained assignment using an inplace method.\n",
      "The behavior will change in pandas 3.0. This inplace method will never work because the intermediate object on which we are setting values always behaves as a copy.\n",
      "\n",
      "For example, when doing 'df[col].method(value, inplace=True)', try using 'df.method({col: value}, inplace=True)' or df[col] = df[col].method(value) instead, to perform the operation inplace on the original object.\n",
      "\n",
      "\n",
      "  df.B.ffill(inplace=True)\n"
     ]
    },
    {
     "data": {
      "text/plain": [
       "     A     B     C\n",
       "0  1.0   6.0  11.0\n",
       "1  1.0   7.0  12.0\n",
       "2  3.0   8.0   NaN\n",
       "3  4.0   8.0   NaN\n",
       "4  5.0  10.0  15.0"
      ],
      "text/html": [
       "<div>\n",
       "<style scoped>\n",
       "    .dataframe tbody tr th:only-of-type {\n",
       "        vertical-align: middle;\n",
       "    }\n",
       "\n",
       "    .dataframe tbody tr th {\n",
       "        vertical-align: top;\n",
       "    }\n",
       "\n",
       "    .dataframe thead th {\n",
       "        text-align: right;\n",
       "    }\n",
       "</style>\n",
       "<table border=\"1\" class=\"dataframe\">\n",
       "  <thead>\n",
       "    <tr style=\"text-align: right;\">\n",
       "      <th></th>\n",
       "      <th>A</th>\n",
       "      <th>B</th>\n",
       "      <th>C</th>\n",
       "    </tr>\n",
       "  </thead>\n",
       "  <tbody>\n",
       "    <tr>\n",
       "      <th>0</th>\n",
       "      <td>1.0</td>\n",
       "      <td>6.0</td>\n",
       "      <td>11.0</td>\n",
       "    </tr>\n",
       "    <tr>\n",
       "      <th>1</th>\n",
       "      <td>1.0</td>\n",
       "      <td>7.0</td>\n",
       "      <td>12.0</td>\n",
       "    </tr>\n",
       "    <tr>\n",
       "      <th>2</th>\n",
       "      <td>3.0</td>\n",
       "      <td>8.0</td>\n",
       "      <td>NaN</td>\n",
       "    </tr>\n",
       "    <tr>\n",
       "      <th>3</th>\n",
       "      <td>4.0</td>\n",
       "      <td>8.0</td>\n",
       "      <td>NaN</td>\n",
       "    </tr>\n",
       "    <tr>\n",
       "      <th>4</th>\n",
       "      <td>5.0</td>\n",
       "      <td>10.0</td>\n",
       "      <td>15.0</td>\n",
       "    </tr>\n",
       "  </tbody>\n",
       "</table>\n",
       "</div>"
      ]
     },
     "execution_count": 18,
     "metadata": {},
     "output_type": "execute_result"
    }
   ],
   "execution_count": 18
  },
  {
   "cell_type": "markdown",
   "metadata": {},
   "source": [
    "#### <a id='toc1_1_1_2_'></a>[Remove rows/columns with missing values](#toc0_)\n",
    "\n",
    "[pandas.DataFrame.dropna](https://pandas.pydata.org/pandas-docs/stable/reference/api/pandas.DataFrame.dropna.html) is used to drop rows or columns with missing data\n",
    "\n",
    "By using the `how{‘any’, ‘all’}, default ‘any’` parameter we can  determine if row or column is removed from DataFrame, when we have at least one NA or all NA."
   ]
  },
  {
   "cell_type": "code",
   "metadata": {
    "ExecuteTime": {
     "end_time": "2024-07-19T18:48:18.706009Z",
     "start_time": "2024-07-19T18:48:18.700083Z"
    }
   },
   "source": [
    "# Example dataset\n",
    "data = {\n",
    "    'A': [1, np.nan, 3, np.nan, 5],\n",
    "    'B': [6, 7, 8, np.nan, 10],\n",
    "    'C': [11, 12, np.nan, np.nan, 15]\n",
    "}\n",
    "df = pd.DataFrame(data)\n",
    "df"
   ],
   "outputs": [
    {
     "data": {
      "text/plain": [
       "     A     B     C\n",
       "0  1.0   6.0  11.0\n",
       "1  NaN   7.0  12.0\n",
       "2  3.0   8.0   NaN\n",
       "3  NaN   NaN   NaN\n",
       "4  5.0  10.0  15.0"
      ],
      "text/html": [
       "<div>\n",
       "<style scoped>\n",
       "    .dataframe tbody tr th:only-of-type {\n",
       "        vertical-align: middle;\n",
       "    }\n",
       "\n",
       "    .dataframe tbody tr th {\n",
       "        vertical-align: top;\n",
       "    }\n",
       "\n",
       "    .dataframe thead th {\n",
       "        text-align: right;\n",
       "    }\n",
       "</style>\n",
       "<table border=\"1\" class=\"dataframe\">\n",
       "  <thead>\n",
       "    <tr style=\"text-align: right;\">\n",
       "      <th></th>\n",
       "      <th>A</th>\n",
       "      <th>B</th>\n",
       "      <th>C</th>\n",
       "    </tr>\n",
       "  </thead>\n",
       "  <tbody>\n",
       "    <tr>\n",
       "      <th>0</th>\n",
       "      <td>1.0</td>\n",
       "      <td>6.0</td>\n",
       "      <td>11.0</td>\n",
       "    </tr>\n",
       "    <tr>\n",
       "      <th>1</th>\n",
       "      <td>NaN</td>\n",
       "      <td>7.0</td>\n",
       "      <td>12.0</td>\n",
       "    </tr>\n",
       "    <tr>\n",
       "      <th>2</th>\n",
       "      <td>3.0</td>\n",
       "      <td>8.0</td>\n",
       "      <td>NaN</td>\n",
       "    </tr>\n",
       "    <tr>\n",
       "      <th>3</th>\n",
       "      <td>NaN</td>\n",
       "      <td>NaN</td>\n",
       "      <td>NaN</td>\n",
       "    </tr>\n",
       "    <tr>\n",
       "      <th>4</th>\n",
       "      <td>5.0</td>\n",
       "      <td>10.0</td>\n",
       "      <td>15.0</td>\n",
       "    </tr>\n",
       "  </tbody>\n",
       "</table>\n",
       "</div>"
      ]
     },
     "execution_count": 19,
     "metadata": {},
     "output_type": "execute_result"
    }
   ],
   "execution_count": 19
  },
  {
   "cell_type": "code",
   "metadata": {
    "ExecuteTime": {
     "end_time": "2024-07-19T18:48:43.165508Z",
     "start_time": "2024-07-19T18:48:43.159192Z"
    }
   },
   "source": [
    "# Dropping rows with all missing values\n",
    "df.dropna(how='all', inplace=True)\n",
    "df"
   ],
   "outputs": [
    {
     "data": {
      "text/plain": [
       "     A     B     C\n",
       "0  1.0   6.0  11.0\n",
       "1  NaN   7.0  12.0\n",
       "2  3.0   8.0   NaN\n",
       "4  5.0  10.0  15.0"
      ],
      "text/html": [
       "<div>\n",
       "<style scoped>\n",
       "    .dataframe tbody tr th:only-of-type {\n",
       "        vertical-align: middle;\n",
       "    }\n",
       "\n",
       "    .dataframe tbody tr th {\n",
       "        vertical-align: top;\n",
       "    }\n",
       "\n",
       "    .dataframe thead th {\n",
       "        text-align: right;\n",
       "    }\n",
       "</style>\n",
       "<table border=\"1\" class=\"dataframe\">\n",
       "  <thead>\n",
       "    <tr style=\"text-align: right;\">\n",
       "      <th></th>\n",
       "      <th>A</th>\n",
       "      <th>B</th>\n",
       "      <th>C</th>\n",
       "    </tr>\n",
       "  </thead>\n",
       "  <tbody>\n",
       "    <tr>\n",
       "      <th>0</th>\n",
       "      <td>1.0</td>\n",
       "      <td>6.0</td>\n",
       "      <td>11.0</td>\n",
       "    </tr>\n",
       "    <tr>\n",
       "      <th>1</th>\n",
       "      <td>NaN</td>\n",
       "      <td>7.0</td>\n",
       "      <td>12.0</td>\n",
       "    </tr>\n",
       "    <tr>\n",
       "      <th>2</th>\n",
       "      <td>3.0</td>\n",
       "      <td>8.0</td>\n",
       "      <td>NaN</td>\n",
       "    </tr>\n",
       "    <tr>\n",
       "      <th>4</th>\n",
       "      <td>5.0</td>\n",
       "      <td>10.0</td>\n",
       "      <td>15.0</td>\n",
       "    </tr>\n",
       "  </tbody>\n",
       "</table>\n",
       "</div>"
      ]
     },
     "execution_count": 20,
     "metadata": {},
     "output_type": "execute_result"
    }
   ],
   "execution_count": 20
  },
  {
   "cell_type": "code",
   "metadata": {
    "ExecuteTime": {
     "end_time": "2024-07-19T18:49:21.031315Z",
     "start_time": "2024-07-19T18:49:21.024792Z"
    }
   },
   "source": [
    "# Dropping columns with any missing values (how='any' is default)\n",
    "df.dropna(axis=1, inplace=True)\n",
    "df"
   ],
   "outputs": [
    {
     "data": {
      "text/plain": [
       "      B\n",
       "0   6.0\n",
       "1   7.0\n",
       "2   8.0\n",
       "4  10.0"
      ],
      "text/html": [
       "<div>\n",
       "<style scoped>\n",
       "    .dataframe tbody tr th:only-of-type {\n",
       "        vertical-align: middle;\n",
       "    }\n",
       "\n",
       "    .dataframe tbody tr th {\n",
       "        vertical-align: top;\n",
       "    }\n",
       "\n",
       "    .dataframe thead th {\n",
       "        text-align: right;\n",
       "    }\n",
       "</style>\n",
       "<table border=\"1\" class=\"dataframe\">\n",
       "  <thead>\n",
       "    <tr style=\"text-align: right;\">\n",
       "      <th></th>\n",
       "      <th>B</th>\n",
       "    </tr>\n",
       "  </thead>\n",
       "  <tbody>\n",
       "    <tr>\n",
       "      <th>0</th>\n",
       "      <td>6.0</td>\n",
       "    </tr>\n",
       "    <tr>\n",
       "      <th>1</th>\n",
       "      <td>7.0</td>\n",
       "    </tr>\n",
       "    <tr>\n",
       "      <th>2</th>\n",
       "      <td>8.0</td>\n",
       "    </tr>\n",
       "    <tr>\n",
       "      <th>4</th>\n",
       "      <td>10.0</td>\n",
       "    </tr>\n",
       "  </tbody>\n",
       "</table>\n",
       "</div>"
      ]
     },
     "execution_count": 21,
     "metadata": {},
     "output_type": "execute_result"
    }
   ],
   "execution_count": 21
  },
  {
   "cell_type": "markdown",
   "metadata": {},
   "source": [
    "### <a id='toc1_1_2_'></a>[Handle Duplicate data](#toc0_)"
   ]
  },
  {
   "cell_type": "markdown",
   "metadata": {},
   "source": [
    "Duplicate data can be easily identified and removed using Pandas's [duplicated()](https://pandas.pydata.org/pandas-docs/stable/reference/api/pandas.DataFrame.duplicated.html) method"
   ]
  },
  {
   "cell_type": "code",
   "metadata": {
    "ExecuteTime": {
     "end_time": "2024-07-19T18:49:37.807425Z",
     "start_time": "2024-07-19T18:49:37.801743Z"
    }
   },
   "source": [
    "# Example dataset with duplicate rows\n",
    "data = {\n",
    "    'A': [1, 1, 2, 3, 4, 4],\n",
    "    'B': ['a', 'a', 'b', 'c', 'd', 'd']\n",
    "}\n",
    "df = pd.DataFrame(data)\n",
    "df"
   ],
   "outputs": [
    {
     "data": {
      "text/plain": [
       "   A  B\n",
       "0  1  a\n",
       "1  1  a\n",
       "2  2  b\n",
       "3  3  c\n",
       "4  4  d\n",
       "5  4  d"
      ],
      "text/html": [
       "<div>\n",
       "<style scoped>\n",
       "    .dataframe tbody tr th:only-of-type {\n",
       "        vertical-align: middle;\n",
       "    }\n",
       "\n",
       "    .dataframe tbody tr th {\n",
       "        vertical-align: top;\n",
       "    }\n",
       "\n",
       "    .dataframe thead th {\n",
       "        text-align: right;\n",
       "    }\n",
       "</style>\n",
       "<table border=\"1\" class=\"dataframe\">\n",
       "  <thead>\n",
       "    <tr style=\"text-align: right;\">\n",
       "      <th></th>\n",
       "      <th>A</th>\n",
       "      <th>B</th>\n",
       "    </tr>\n",
       "  </thead>\n",
       "  <tbody>\n",
       "    <tr>\n",
       "      <th>0</th>\n",
       "      <td>1</td>\n",
       "      <td>a</td>\n",
       "    </tr>\n",
       "    <tr>\n",
       "      <th>1</th>\n",
       "      <td>1</td>\n",
       "      <td>a</td>\n",
       "    </tr>\n",
       "    <tr>\n",
       "      <th>2</th>\n",
       "      <td>2</td>\n",
       "      <td>b</td>\n",
       "    </tr>\n",
       "    <tr>\n",
       "      <th>3</th>\n",
       "      <td>3</td>\n",
       "      <td>c</td>\n",
       "    </tr>\n",
       "    <tr>\n",
       "      <th>4</th>\n",
       "      <td>4</td>\n",
       "      <td>d</td>\n",
       "    </tr>\n",
       "    <tr>\n",
       "      <th>5</th>\n",
       "      <td>4</td>\n",
       "      <td>d</td>\n",
       "    </tr>\n",
       "  </tbody>\n",
       "</table>\n",
       "</div>"
      ]
     },
     "execution_count": 22,
     "metadata": {},
     "output_type": "execute_result"
    }
   ],
   "execution_count": 22
  },
  {
   "cell_type": "code",
   "metadata": {
    "ExecuteTime": {
     "end_time": "2024-07-19T18:51:09.678174Z",
     "start_time": "2024-07-19T18:51:09.673861Z"
    }
   },
   "source": [
    "# Identifying duplicate rows\n",
    "duplicates = df.duplicated()\n",
    "duplicates"
   ],
   "outputs": [
    {
     "data": {
      "text/plain": [
       "0    False\n",
       "1     True\n",
       "2    False\n",
       "3    False\n",
       "4    False\n",
       "5     True\n",
       "dtype: bool"
      ]
     },
     "execution_count": 23,
     "metadata": {},
     "output_type": "execute_result"
    }
   ],
   "execution_count": 23
  },
  {
   "metadata": {
    "ExecuteTime": {
     "end_time": "2024-07-19T18:56:31.363790Z",
     "start_time": "2024-07-19T18:56:31.360102Z"
    }
   },
   "cell_type": "code",
   "source": [
    "# Sample data\n",
    "data = {\n",
    "    'Name': ['Alice', 'Bob', 'Charlie', 'Dave', 'Alice', 'Bob'],\n",
    "    'Age': [25, 30, 35, 40, 25, 30],\n",
    "    'City': ['New York', 'Los Angeles', 'Chicago', 'Houston', 'New York', 'San Francisco']\n",
    "}\n",
    "\n",
    "# Creating DataFrame\n",
    "df = pd.DataFrame(data)"
   ],
   "outputs": [],
   "execution_count": 37
  },
  {
   "cell_type": "code",
   "metadata": {
    "ExecuteTime": {
     "end_time": "2024-07-19T18:55:58.224069Z",
     "start_time": "2024-07-19T18:55:58.217827Z"
    }
   },
   "source": [
    "# Removing duplicate rows\n",
    "df.drop_duplicates()"
   ],
   "outputs": [
    {
     "data": {
      "text/plain": [
       "      Name  Age           City\n",
       "0    Alice   25       New York\n",
       "1      Bob   30    Los Angeles\n",
       "2  Charlie   35        Chicago\n",
       "3     Dave   40        Houston\n",
       "5      Bob   30  San Francisco"
      ],
      "text/html": [
       "<div>\n",
       "<style scoped>\n",
       "    .dataframe tbody tr th:only-of-type {\n",
       "        vertical-align: middle;\n",
       "    }\n",
       "\n",
       "    .dataframe tbody tr th {\n",
       "        vertical-align: top;\n",
       "    }\n",
       "\n",
       "    .dataframe thead th {\n",
       "        text-align: right;\n",
       "    }\n",
       "</style>\n",
       "<table border=\"1\" class=\"dataframe\">\n",
       "  <thead>\n",
       "    <tr style=\"text-align: right;\">\n",
       "      <th></th>\n",
       "      <th>Name</th>\n",
       "      <th>Age</th>\n",
       "      <th>City</th>\n",
       "    </tr>\n",
       "  </thead>\n",
       "  <tbody>\n",
       "    <tr>\n",
       "      <th>0</th>\n",
       "      <td>Alice</td>\n",
       "      <td>25</td>\n",
       "      <td>New York</td>\n",
       "    </tr>\n",
       "    <tr>\n",
       "      <th>1</th>\n",
       "      <td>Bob</td>\n",
       "      <td>30</td>\n",
       "      <td>Los Angeles</td>\n",
       "    </tr>\n",
       "    <tr>\n",
       "      <th>2</th>\n",
       "      <td>Charlie</td>\n",
       "      <td>35</td>\n",
       "      <td>Chicago</td>\n",
       "    </tr>\n",
       "    <tr>\n",
       "      <th>3</th>\n",
       "      <td>Dave</td>\n",
       "      <td>40</td>\n",
       "      <td>Houston</td>\n",
       "    </tr>\n",
       "    <tr>\n",
       "      <th>5</th>\n",
       "      <td>Bob</td>\n",
       "      <td>30</td>\n",
       "      <td>San Francisco</td>\n",
       "    </tr>\n",
       "  </tbody>\n",
       "</table>\n",
       "</div>"
      ]
     },
     "execution_count": 35,
     "metadata": {},
     "output_type": "execute_result"
    }
   ],
   "execution_count": 35
  },
  {
   "cell_type": "markdown",
   "metadata": {},
   "source": [
    "### <a id='toc1_1_3_'></a>[Replacing values](#toc0_)\n",
    "\n",
    "Replacing values is a common operation in data cleaning and preparation. Pandas provides a convenient method .replace() for this purpose.\n",
    "\n",
    "#### <a id='toc1_1_3_1_'></a>[Basic Replacement](#toc0_)\n",
    "\n",
    "If you want to replace all occurrences of a specific value in a DataFrame:"
   ]
  },
  {
   "cell_type": "code",
   "metadata": {
    "ExecuteTime": {
     "end_time": "2024-07-19T19:00:53.752536Z",
     "start_time": "2024-07-19T19:00:53.748188Z"
    }
   },
   "source": [
    "# Sample DataFrame\n",
    "df = pd.DataFrame({\n",
    "    'A': [1, 2, 3, 4, 5],\n",
    "    'B': [5, 6, 7, 8, 9],\n",
    "    'C': ['one', 'two', 'three', 'four', 'five']\n",
    "})\n",
    "\n",
    "# Replacing value 5 with 50 in the entire DataFrame\n",
    "df.A.replace(1, 100)"
   ],
   "outputs": [
    {
     "data": {
      "text/plain": [
       "0    100\n",
       "1      2\n",
       "2      3\n",
       "3      4\n",
       "4      5\n",
       "Name: A, dtype: int64"
      ]
     },
     "execution_count": 39,
     "metadata": {},
     "output_type": "execute_result"
    }
   ],
   "execution_count": 39
  },
  {
   "cell_type": "markdown",
   "metadata": {},
   "source": [
    "#### <a id='toc1_1_3_2_'></a>[Replacing Multiple Values](#toc0_)\n",
    "\n",
    "You can replace multiple values at once by passing a list of values and their replacements or by using a mapping dict."
   ]
  },
  {
   "cell_type": "code",
   "execution_count": 13,
   "metadata": {},
   "outputs": [
    {
     "data": {
      "text/html": [
       "<div>\n",
       "<style scoped>\n",
       "    .dataframe tbody tr th:only-of-type {\n",
       "        vertical-align: middle;\n",
       "    }\n",
       "\n",
       "    .dataframe tbody tr th {\n",
       "        vertical-align: top;\n",
       "    }\n",
       "\n",
       "    .dataframe thead th {\n",
       "        text-align: right;\n",
       "    }\n",
       "</style>\n",
       "<table border=\"1\" class=\"dataframe\">\n",
       "  <thead>\n",
       "    <tr style=\"text-align: right;\">\n",
       "      <th></th>\n",
       "      <th>A</th>\n",
       "      <th>B</th>\n",
       "      <th>C</th>\n",
       "    </tr>\n",
       "  </thead>\n",
       "  <tbody>\n",
       "    <tr>\n",
       "      <th>0</th>\n",
       "      <td>1</td>\n",
       "      <td>50</td>\n",
       "      <td>one</td>\n",
       "    </tr>\n",
       "    <tr>\n",
       "      <th>1</th>\n",
       "      <td>20</td>\n",
       "      <td>6</td>\n",
       "      <td>two</td>\n",
       "    </tr>\n",
       "    <tr>\n",
       "      <th>2</th>\n",
       "      <td>30</td>\n",
       "      <td>7</td>\n",
       "      <td>three</td>\n",
       "    </tr>\n",
       "    <tr>\n",
       "      <th>3</th>\n",
       "      <td>4</td>\n",
       "      <td>8</td>\n",
       "      <td>four</td>\n",
       "    </tr>\n",
       "    <tr>\n",
       "      <th>4</th>\n",
       "      <td>50</td>\n",
       "      <td>9</td>\n",
       "      <td>five</td>\n",
       "    </tr>\n",
       "  </tbody>\n",
       "</table>\n",
       "</div>"
      ],
      "text/plain": [
       "    A   B      C\n",
       "0   1  50    one\n",
       "1  20   6    two\n",
       "2  30   7  three\n",
       "3   4   8   four\n",
       "4  50   9   five"
      ]
     },
     "execution_count": 13,
     "metadata": {},
     "output_type": "execute_result"
    }
   ],
   "source": [
    "# Using lists:\n",
    "# df.replace([2,3],[20,30], inplace=True)\n",
    "\n",
    "# Using mapping dict:\n",
    "df.replace({2: 20, 3: 30}, inplace=True)\n",
    "df"
   ]
  },
  {
   "cell_type": "markdown",
   "metadata": {},
   "source": [
    "#### <a id='toc1_1_3_3_'></a>[Replacing Values in a Specific Column](#toc0_)\n",
    "\n",
    "If you want to replace values in a specific column, you can use the replace method on that column:"
   ]
  },
  {
   "cell_type": "code",
   "metadata": {
    "ExecuteTime": {
     "end_time": "2024-07-19T19:01:09.602134Z",
     "start_time": "2024-07-19T19:01:09.596451Z"
    }
   },
   "source": [
    "# Replacing values in column 'C'\n",
    "df['C'] = df['C'].replace({'one': 'ONE', 'two': 'TWO'})\n",
    "df"
   ],
   "outputs": [
    {
     "data": {
      "text/plain": [
       "   A  B      C\n",
       "0  1  5    ONE\n",
       "1  2  6    TWO\n",
       "2  3  7  three\n",
       "3  4  8   four\n",
       "4  5  9   five"
      ],
      "text/html": [
       "<div>\n",
       "<style scoped>\n",
       "    .dataframe tbody tr th:only-of-type {\n",
       "        vertical-align: middle;\n",
       "    }\n",
       "\n",
       "    .dataframe tbody tr th {\n",
       "        vertical-align: top;\n",
       "    }\n",
       "\n",
       "    .dataframe thead th {\n",
       "        text-align: right;\n",
       "    }\n",
       "</style>\n",
       "<table border=\"1\" class=\"dataframe\">\n",
       "  <thead>\n",
       "    <tr style=\"text-align: right;\">\n",
       "      <th></th>\n",
       "      <th>A</th>\n",
       "      <th>B</th>\n",
       "      <th>C</th>\n",
       "    </tr>\n",
       "  </thead>\n",
       "  <tbody>\n",
       "    <tr>\n",
       "      <th>0</th>\n",
       "      <td>1</td>\n",
       "      <td>5</td>\n",
       "      <td>ONE</td>\n",
       "    </tr>\n",
       "    <tr>\n",
       "      <th>1</th>\n",
       "      <td>2</td>\n",
       "      <td>6</td>\n",
       "      <td>TWO</td>\n",
       "    </tr>\n",
       "    <tr>\n",
       "      <th>2</th>\n",
       "      <td>3</td>\n",
       "      <td>7</td>\n",
       "      <td>three</td>\n",
       "    </tr>\n",
       "    <tr>\n",
       "      <th>3</th>\n",
       "      <td>4</td>\n",
       "      <td>8</td>\n",
       "      <td>four</td>\n",
       "    </tr>\n",
       "    <tr>\n",
       "      <th>4</th>\n",
       "      <td>5</td>\n",
       "      <td>9</td>\n",
       "      <td>five</td>\n",
       "    </tr>\n",
       "  </tbody>\n",
       "</table>\n",
       "</div>"
      ]
     },
     "execution_count": 40,
     "metadata": {},
     "output_type": "execute_result"
    }
   ],
   "execution_count": 40
  },
  {
   "cell_type": "markdown",
   "metadata": {},
   "source": [
    "#### <a id='toc1_1_3_4_'></a>[Using Regular Expressions](#toc0_)\n",
    "\n",
    "The replace method can also work with regular expressions, which is very powerful for pattern-based replacement:"
   ]
  },
  {
   "cell_type": "code",
   "metadata": {
    "ExecuteTime": {
     "end_time": "2024-07-19T19:02:17.192981Z",
     "start_time": "2024-07-19T19:02:17.187460Z"
    }
   },
   "source": "df.replace(to_replace=r'^f.*', value='STARTS WITH F', regex=True)",
   "outputs": [
    {
     "data": {
      "text/plain": [
       "   A  B              C\n",
       "0  1  5            ONE\n",
       "1  2  6            TWO\n",
       "2  3  7          three\n",
       "3  4  8  STARTS WITH F\n",
       "4  5  9  STARTS WITH F"
      ],
      "text/html": [
       "<div>\n",
       "<style scoped>\n",
       "    .dataframe tbody tr th:only-of-type {\n",
       "        vertical-align: middle;\n",
       "    }\n",
       "\n",
       "    .dataframe tbody tr th {\n",
       "        vertical-align: top;\n",
       "    }\n",
       "\n",
       "    .dataframe thead th {\n",
       "        text-align: right;\n",
       "    }\n",
       "</style>\n",
       "<table border=\"1\" class=\"dataframe\">\n",
       "  <thead>\n",
       "    <tr style=\"text-align: right;\">\n",
       "      <th></th>\n",
       "      <th>A</th>\n",
       "      <th>B</th>\n",
       "      <th>C</th>\n",
       "    </tr>\n",
       "  </thead>\n",
       "  <tbody>\n",
       "    <tr>\n",
       "      <th>0</th>\n",
       "      <td>1</td>\n",
       "      <td>5</td>\n",
       "      <td>ONE</td>\n",
       "    </tr>\n",
       "    <tr>\n",
       "      <th>1</th>\n",
       "      <td>2</td>\n",
       "      <td>6</td>\n",
       "      <td>TWO</td>\n",
       "    </tr>\n",
       "    <tr>\n",
       "      <th>2</th>\n",
       "      <td>3</td>\n",
       "      <td>7</td>\n",
       "      <td>three</td>\n",
       "    </tr>\n",
       "    <tr>\n",
       "      <th>3</th>\n",
       "      <td>4</td>\n",
       "      <td>8</td>\n",
       "      <td>STARTS WITH F</td>\n",
       "    </tr>\n",
       "    <tr>\n",
       "      <th>4</th>\n",
       "      <td>5</td>\n",
       "      <td>9</td>\n",
       "      <td>STARTS WITH F</td>\n",
       "    </tr>\n",
       "  </tbody>\n",
       "</table>\n",
       "</div>"
      ]
     },
     "execution_count": 42,
     "metadata": {},
     "output_type": "execute_result"
    }
   ],
   "execution_count": 42
  },
  {
   "cell_type": "markdown",
   "metadata": {},
   "source": [
    "Replacing empty strings and strings with only whitespaces with np.nan"
   ]
  },
  {
   "cell_type": "code",
   "metadata": {
    "ExecuteTime": {
     "end_time": "2024-07-19T19:02:55.195797Z",
     "start_time": "2024-07-19T19:02:55.190648Z"
    }
   },
   "source": [
    "# introduce empty strings and strings with spaces\n",
    "df.loc[3,'C'] = ''\n",
    "df.loc[4,'C'] = '     '\n",
    "df"
   ],
   "outputs": [
    {
     "data": {
      "text/plain": [
       "   A  B      C\n",
       "0  1  5    ONE\n",
       "1  2  6    TWO\n",
       "2  3  7  three\n",
       "3  4  8       \n",
       "4  5  9       "
      ],
      "text/html": [
       "<div>\n",
       "<style scoped>\n",
       "    .dataframe tbody tr th:only-of-type {\n",
       "        vertical-align: middle;\n",
       "    }\n",
       "\n",
       "    .dataframe tbody tr th {\n",
       "        vertical-align: top;\n",
       "    }\n",
       "\n",
       "    .dataframe thead th {\n",
       "        text-align: right;\n",
       "    }\n",
       "</style>\n",
       "<table border=\"1\" class=\"dataframe\">\n",
       "  <thead>\n",
       "    <tr style=\"text-align: right;\">\n",
       "      <th></th>\n",
       "      <th>A</th>\n",
       "      <th>B</th>\n",
       "      <th>C</th>\n",
       "    </tr>\n",
       "  </thead>\n",
       "  <tbody>\n",
       "    <tr>\n",
       "      <th>0</th>\n",
       "      <td>1</td>\n",
       "      <td>5</td>\n",
       "      <td>ONE</td>\n",
       "    </tr>\n",
       "    <tr>\n",
       "      <th>1</th>\n",
       "      <td>2</td>\n",
       "      <td>6</td>\n",
       "      <td>TWO</td>\n",
       "    </tr>\n",
       "    <tr>\n",
       "      <th>2</th>\n",
       "      <td>3</td>\n",
       "      <td>7</td>\n",
       "      <td>three</td>\n",
       "    </tr>\n",
       "    <tr>\n",
       "      <th>3</th>\n",
       "      <td>4</td>\n",
       "      <td>8</td>\n",
       "      <td></td>\n",
       "    </tr>\n",
       "    <tr>\n",
       "      <th>4</th>\n",
       "      <td>5</td>\n",
       "      <td>9</td>\n",
       "      <td></td>\n",
       "    </tr>\n",
       "  </tbody>\n",
       "</table>\n",
       "</div>"
      ]
     },
     "execution_count": 43,
     "metadata": {},
     "output_type": "execute_result"
    }
   ],
   "execution_count": 43
  },
  {
   "cell_type": "code",
   "metadata": {
    "ExecuteTime": {
     "end_time": "2024-07-19T19:03:03.348061Z",
     "start_time": "2024-07-19T19:03:03.342738Z"
    }
   },
   "source": [
    "df.replace(to_replace=r'^\\s*$', value=np.nan, regex=True, inplace=True)\n",
    "df"
   ],
   "outputs": [
    {
     "data": {
      "text/plain": [
       "   A  B      C\n",
       "0  1  5    ONE\n",
       "1  2  6    TWO\n",
       "2  3  7  three\n",
       "3  4  8    NaN\n",
       "4  5  9    NaN"
      ],
      "text/html": [
       "<div>\n",
       "<style scoped>\n",
       "    .dataframe tbody tr th:only-of-type {\n",
       "        vertical-align: middle;\n",
       "    }\n",
       "\n",
       "    .dataframe tbody tr th {\n",
       "        vertical-align: top;\n",
       "    }\n",
       "\n",
       "    .dataframe thead th {\n",
       "        text-align: right;\n",
       "    }\n",
       "</style>\n",
       "<table border=\"1\" class=\"dataframe\">\n",
       "  <thead>\n",
       "    <tr style=\"text-align: right;\">\n",
       "      <th></th>\n",
       "      <th>A</th>\n",
       "      <th>B</th>\n",
       "      <th>C</th>\n",
       "    </tr>\n",
       "  </thead>\n",
       "  <tbody>\n",
       "    <tr>\n",
       "      <th>0</th>\n",
       "      <td>1</td>\n",
       "      <td>5</td>\n",
       "      <td>ONE</td>\n",
       "    </tr>\n",
       "    <tr>\n",
       "      <th>1</th>\n",
       "      <td>2</td>\n",
       "      <td>6</td>\n",
       "      <td>TWO</td>\n",
       "    </tr>\n",
       "    <tr>\n",
       "      <th>2</th>\n",
       "      <td>3</td>\n",
       "      <td>7</td>\n",
       "      <td>three</td>\n",
       "    </tr>\n",
       "    <tr>\n",
       "      <th>3</th>\n",
       "      <td>4</td>\n",
       "      <td>8</td>\n",
       "      <td>NaN</td>\n",
       "    </tr>\n",
       "    <tr>\n",
       "      <th>4</th>\n",
       "      <td>5</td>\n",
       "      <td>9</td>\n",
       "      <td>NaN</td>\n",
       "    </tr>\n",
       "  </tbody>\n",
       "</table>\n",
       "</div>"
      ]
     },
     "execution_count": 44,
     "metadata": {},
     "output_type": "execute_result"
    }
   ],
   "execution_count": 44
  },
  {
   "cell_type": "markdown",
   "metadata": {},
   "source": [
    "### <a id='toc1_1_4_'></a>[Detecting and Removing Outliers](#toc0_)\n",
    "\n",
    "Outlier detection can be done using various statistical methods, and one of the most common methods is the Interquartile Range (IQR) method, which is visually represented in a box plot ([Box_plot @wikipedia](https://en.wikipedia.org/wiki/Box_plot#Elements)).\n",
    "\n",
    "Here's how the IQR method works:\n",
    "\n",
    "1. Calculate the IQR: The IQR is the difference between the third quartile (Q3, the 75th percentile) and the first quartile (Q1, the 25th percentile). This range represents the middle 50% of the data.\n",
    "\n",
    "2. Determine the Whiskers: The \"whiskers\" on a box plot extend to the highest and lowest values within 1.5 times the IQR from the Q1 and Q3. Mathematically, this is represented as:\n",
    "        \n",
    "        Lower whisker = Q1 − 1.5 * IQR\n",
    "        Upper whisker = Q3 + 1.5 * IQR\n",
    "\n",
    "3. Identify Outliers: Any data points that fall outside of the whiskers are considered outliers. In a box plot, these are often depicted as individual points beyond the whiskers.\n",
    "\n",
    "<img src=\"./images/IQR.webp\" style=\"height:200px; margin-left:50px\">\n",
    "\n",
    "Let's look at next example"
   ]
  },
  {
   "cell_type": "code",
   "metadata": {
    "ExecuteTime": {
     "end_time": "2024-07-19T19:03:40.370612Z",
     "start_time": "2024-07-19T19:03:40.363438Z"
    }
   },
   "source": [
    "# dataset of transaction amounts with less extreme outliers\n",
    "data = {\n",
    "    'transaction_amount': [\n",
    "        # Main data cluster\n",
    "        49, 51, 50, 50, 51, 52, 48, 49, 50, 51, 50, 49, 52, 48, 50, 51, 49, 50, 51, 52,\n",
    "        48, 50, 49, 51, 52, 49, 50, 51, 48, 52, 50, 49, 51, 50, 52, 48, 50, 51, 49, 50,\n",
    "        51, 52, 48, 50, 49, 51, 52, 49, 50, 51, 48, 52, 50, 49, 51, 50, 52, 48, 50, 51,\n",
    "        # outliers\n",
    "        40, 45, 60, 61, 62, 39\n",
    "    ]\n",
    "}\n",
    "\n",
    "df = pd.DataFrame(data)\n",
    "\n",
    "# show some stats on data:\n",
    "df.describe()"
   ],
   "outputs": [
    {
     "data": {
      "text/plain": [
       "       transaction_amount\n",
       "count           66.000000\n",
       "mean            50.212121\n",
       "std              3.293421\n",
       "min             39.000000\n",
       "25%             49.000000\n",
       "50%             50.000000\n",
       "75%             51.000000\n",
       "max             62.000000"
      ],
      "text/html": [
       "<div>\n",
       "<style scoped>\n",
       "    .dataframe tbody tr th:only-of-type {\n",
       "        vertical-align: middle;\n",
       "    }\n",
       "\n",
       "    .dataframe tbody tr th {\n",
       "        vertical-align: top;\n",
       "    }\n",
       "\n",
       "    .dataframe thead th {\n",
       "        text-align: right;\n",
       "    }\n",
       "</style>\n",
       "<table border=\"1\" class=\"dataframe\">\n",
       "  <thead>\n",
       "    <tr style=\"text-align: right;\">\n",
       "      <th></th>\n",
       "      <th>transaction_amount</th>\n",
       "    </tr>\n",
       "  </thead>\n",
       "  <tbody>\n",
       "    <tr>\n",
       "      <th>count</th>\n",
       "      <td>66.000000</td>\n",
       "    </tr>\n",
       "    <tr>\n",
       "      <th>mean</th>\n",
       "      <td>50.212121</td>\n",
       "    </tr>\n",
       "    <tr>\n",
       "      <th>std</th>\n",
       "      <td>3.293421</td>\n",
       "    </tr>\n",
       "    <tr>\n",
       "      <th>min</th>\n",
       "      <td>39.000000</td>\n",
       "    </tr>\n",
       "    <tr>\n",
       "      <th>25%</th>\n",
       "      <td>49.000000</td>\n",
       "    </tr>\n",
       "    <tr>\n",
       "      <th>50%</th>\n",
       "      <td>50.000000</td>\n",
       "    </tr>\n",
       "    <tr>\n",
       "      <th>75%</th>\n",
       "      <td>51.000000</td>\n",
       "    </tr>\n",
       "    <tr>\n",
       "      <th>max</th>\n",
       "      <td>62.000000</td>\n",
       "    </tr>\n",
       "  </tbody>\n",
       "</table>\n",
       "</div>"
      ]
     },
     "execution_count": 45,
     "metadata": {},
     "output_type": "execute_result"
    }
   ],
   "execution_count": 45
  },
  {
   "cell_type": "code",
   "metadata": {
    "ExecuteTime": {
     "end_time": "2024-07-19T19:04:16.783877Z",
     "start_time": "2024-07-19T19:04:16.672597Z"
    }
   },
   "source": [
    "# Plot the data:\n",
    "plt.figure(figsize=(6, 2))\n",
    "sns.boxplot(x='transaction_amount', data=df,\n",
    "            showfliers=True,\n",
    "            flierprops=dict(marker='o', color='red', markersize=5),\n",
    "            boxprops=dict(color=\"skyblue\"),\n",
    "            whiskerprops=dict(color=\"green\"),\n",
    "            capprops=dict(color=\"green\"),\n",
    "            medianprops=dict(color=\"gold\"))\n",
    "\n",
    "plt.title('Transaction Amounts Box Plot')\n",
    "plt.xlabel('Transaction Amount')\n",
    "plt.show()"
   ],
   "outputs": [
    {
     "name": "stderr",
     "output_type": "stream",
     "text": [
      "C:\\Users\\zehir\\Documents\\GitHub\\ML\\venv\\Lib\\site-packages\\seaborn\\categorical.py:700: UserWarning: Setting the 'color' property will override the edgecolor or facecolor properties.\n",
      "  artists = ax.bxp(**boxplot_kws)\n"
     ]
    },
    {
     "data": {
      "text/plain": [
       "<Figure size 600x200 with 1 Axes>"
      ],
      "image/png": "[encoded data removed]"
     },
     "metadata": {},
     "output_type": "display_data"
    }
   ],
   "execution_count": 46
  },
  {
   "cell_type": "markdown",
   "metadata": {},
   "source": [
    "- Central Box: (skyblue) represents the interquartile range (IQR), containing the middle 50% of the data between the first quartile (Q1) and third quartile (Q3).\n",
    "- Median Line: (gold) shows the median of the data.\n",
    "- Whiskers: (green) extend from the central box to show the full range of the data, typically to 1.5 * IQR beyond the quartiles (though this can be adjusted). They give a sense of the distribution's spread outside the middle 50%.\n",
    "- Outliers: (black circles) reoresents data points that fall outside of the whiskers' range"
   ]
  },
  {
   "cell_type": "code",
   "metadata": {
    "ExecuteTime": {
     "end_time": "2024-07-19T19:05:07.035436Z",
     "start_time": "2024-07-19T19:05:07.029858Z"
    }
   },
   "source": [
    "# Outlier detection and removal using IQR\n",
    "Q1 = df['transaction_amount'].quantile(0.25)\n",
    "Q3 = df['transaction_amount'].quantile(0.75)\n",
    "IQR = Q3 - Q1\n",
    "print(f'IQR: {IQR}')\n",
    "\n",
    "lower_bound = Q1 - 1.5 * IQR\n",
    "upper_bound = Q3 + 1.5 * IQR\n",
    "\n",
    "# Identifying outliers\n",
    "outliers = df[(df['transaction_amount'] < lower_bound) | (df['transaction_amount'] > upper_bound)]\n",
    "print('Outliers:')\n",
    "print(outliers['transaction_amount'].tolist())\n",
    "\n",
    "df_filtered = df[(df['transaction_amount'] >= lower_bound) & (df['transaction_amount'] <= upper_bound)]\n",
    "print(f'Filtered data:')\n",
    "print(df_filtered['transaction_amount'].tolist())\n",
    "print(f\"Number of outliers removed: {len(df) - len(df_filtered)}\")"
   ],
   "outputs": [
    {
     "name": "stdout",
     "output_type": "stream",
     "text": [
      "IQR: 2.0\n",
      "Outliers:\n",
      "[40, 45, 60, 61, 62, 39]\n",
      "Filtered data:\n",
      "[49, 51, 50, 50, 51, 52, 48, 49, 50, 51, 50, 49, 52, 48, 50, 51, 49, 50, 51, 52, 48, 50, 49, 51, 52, 49, 50, 51, 48, 52, 50, 49, 51, 50, 52, 48, 50, 51, 49, 50, 51, 52, 48, 50, 49, 51, 52, 49, 50, 51, 48, 52, 50, 49, 51, 50, 52, 48, 50, 51]\n",
      "Number of outliers removed: 6\n"
     ]
    }
   ],
   "execution_count": 48
  },
  {
   "cell_type": "markdown",
   "metadata": {},
   "source": [
    "## <a id='toc1_2_'></a>[Examples](#toc0_)"
   ]
  },
  {
   "cell_type": "markdown",
   "metadata": {},
   "source": [
    "### <a id='toc1_2_1_'></a>[Handling Duplicate Customer Profiles by Email](#toc0_)\n",
    "\n",
    "In this example we will remove duplicate customer profiles based on their email, regardless of differences in their customer IDs or names. This method is especially useful in situations where the email address is a unique identifier for customer profiles."
   ]
  },
  {
   "cell_type": "code",
   "execution_count": 21,
   "metadata": {},
   "outputs": [
    {
     "data": {
      "text/html": [
       "<div>\n",
       "<style scoped>\n",
       "    .dataframe tbody tr th:only-of-type {\n",
       "        vertical-align: middle;\n",
       "    }\n",
       "\n",
       "    .dataframe tbody tr th {\n",
       "        vertical-align: top;\n",
       "    }\n",
       "\n",
       "    .dataframe thead th {\n",
       "        text-align: right;\n",
       "    }\n",
       "</style>\n",
       "<table border=\"1\" class=\"dataframe\">\n",
       "  <thead>\n",
       "    <tr style=\"text-align: right;\">\n",
       "      <th></th>\n",
       "      <th>CustomerID</th>\n",
       "      <th>Name</th>\n",
       "      <th>Email</th>\n",
       "    </tr>\n",
       "  </thead>\n",
       "  <tbody>\n",
       "    <tr>\n",
       "      <th>0</th>\n",
       "      <td>101</td>\n",
       "      <td>Ivan Petrov</td>\n",
       "      <td>ivan_petrov@example.com</td>\n",
       "    </tr>\n",
       "    <tr>\n",
       "      <th>1</th>\n",
       "      <td>102</td>\n",
       "      <td>Maria Ivanova</td>\n",
       "      <td>maria_ivanova@example.com</td>\n",
       "    </tr>\n",
       "    <tr>\n",
       "      <th>2</th>\n",
       "      <td>103</td>\n",
       "      <td>Georgi Dimitrov</td>\n",
       "      <td>georgi_dimitrov@example.com</td>\n",
       "    </tr>\n",
       "    <tr>\n",
       "      <th>3</th>\n",
       "      <td>104</td>\n",
       "      <td>Ivan Georgiev</td>\n",
       "      <td>ivan_georgiev@example.com</td>\n",
       "    </tr>\n",
       "    <tr>\n",
       "      <th>4</th>\n",
       "      <td>105</td>\n",
       "      <td>Maria Ivanova</td>\n",
       "      <td>maria_ivanova@example.com</td>\n",
       "    </tr>\n",
       "  </tbody>\n",
       "</table>\n",
       "</div>"
      ],
      "text/plain": [
       "   CustomerID             Name                        Email\n",
       "0         101      Ivan Petrov      ivan_petrov@example.com\n",
       "1         102    Maria Ivanova    maria_ivanova@example.com\n",
       "2         103  Georgi Dimitrov  georgi_dimitrov@example.com\n",
       "3         104    Ivan Georgiev    ivan_georgiev@example.com\n",
       "4         105    Maria Ivanova    maria_ivanova@example.com"
      ]
     },
     "execution_count": 21,
     "metadata": {},
     "output_type": "execute_result"
    }
   ],
   "source": [
    "# Sample DataFrame with customer profiles\n",
    "data = {\n",
    "    'CustomerID': [101, 102, 103, 104, 105],\n",
    "    'Name': ['Ivan Petrov', 'Maria Ivanova', 'Georgi Dimitrov', 'Ivan Georgiev', 'Maria Ivanova'],\n",
    "    'Email': ['ivan_petrov@example.com', 'maria_ivanova@example.com', 'georgi_dimitrov@example.com', 'ivan_georgiev@example.com', 'maria_ivanova@example.com']\n",
    "}\n",
    "\n",
    "df = pd.DataFrame(data)\n",
    "df"
   ]
  },
  {
   "cell_type": "code",
   "execution_count": 22,
   "metadata": {},
   "outputs": [
    {
     "data": {
      "text/plain": [
       "0    False\n",
       "1    False\n",
       "2    False\n",
       "3    False\n",
       "4     True\n",
       "dtype: bool"
      ]
     },
     "execution_count": 22,
     "metadata": {},
     "output_type": "execute_result"
    }
   ],
   "source": [
    "# Identifying duplicate rows based on the 'Email' column\n",
    "duplicates_by_email = df.duplicated(subset=['Email'])\n",
    "duplicates_by_email"
   ]
  },
  {
   "cell_type": "code",
   "execution_count": 23,
   "metadata": {},
   "outputs": [
    {
     "data": {
      "text/html": [
       "<div>\n",
       "<style scoped>\n",
       "    .dataframe tbody tr th:only-of-type {\n",
       "        vertical-align: middle;\n",
       "    }\n",
       "\n",
       "    .dataframe tbody tr th {\n",
       "        vertical-align: top;\n",
       "    }\n",
       "\n",
       "    .dataframe thead th {\n",
       "        text-align: right;\n",
       "    }\n",
       "</style>\n",
       "<table border=\"1\" class=\"dataframe\">\n",
       "  <thead>\n",
       "    <tr style=\"text-align: right;\">\n",
       "      <th></th>\n",
       "      <th>CustomerID</th>\n",
       "      <th>Name</th>\n",
       "      <th>Email</th>\n",
       "    </tr>\n",
       "  </thead>\n",
       "  <tbody>\n",
       "    <tr>\n",
       "      <th>0</th>\n",
       "      <td>101</td>\n",
       "      <td>Ivan Petrov</td>\n",
       "      <td>ivan_petrov@example.com</td>\n",
       "    </tr>\n",
       "    <tr>\n",
       "      <th>1</th>\n",
       "      <td>102</td>\n",
       "      <td>Maria Ivanova</td>\n",
       "      <td>maria_ivanova@example.com</td>\n",
       "    </tr>\n",
       "    <tr>\n",
       "      <th>2</th>\n",
       "      <td>103</td>\n",
       "      <td>Georgi Dimitrov</td>\n",
       "      <td>georgi_dimitrov@example.com</td>\n",
       "    </tr>\n",
       "    <tr>\n",
       "      <th>3</th>\n",
       "      <td>104</td>\n",
       "      <td>Ivan Georgiev</td>\n",
       "      <td>ivan_georgiev@example.com</td>\n",
       "    </tr>\n",
       "  </tbody>\n",
       "</table>\n",
       "</div>"
      ],
      "text/plain": [
       "   CustomerID             Name                        Email\n",
       "0         101      Ivan Petrov      ivan_petrov@example.com\n",
       "1         102    Maria Ivanova    maria_ivanova@example.com\n",
       "2         103  Georgi Dimitrov  georgi_dimitrov@example.com\n",
       "3         104    Ivan Georgiev    ivan_georgiev@example.com"
      ]
     },
     "execution_count": 23,
     "metadata": {},
     "output_type": "execute_result"
    }
   ],
   "source": [
    "# Removing duplicate rows based on 'Email', keeping the first occurrence (default)\n",
    "df_cleaned = df.drop_duplicates(subset=['Email'])\n",
    "df_cleaned"
   ]
  },
  {
   "cell_type": "markdown",
   "metadata": {},
   "source": [
    "### <a id='toc1_2_2_'></a>[ Handling Missing Values in Patient Records](#toc0_)\n",
    "\n",
    "In this example, we'll work with a dataset of patient records where some entries are missing the age or address. We'll see how to identify these missing entries and several strategies for handling them using Pandas."
   ]
  },
  {
   "cell_type": "code",
   "metadata": {
    "ExecuteTime": {
     "end_time": "2024-07-19T19:05:48.694783Z",
     "start_time": "2024-07-19T19:05:48.688826Z"
    }
   },
   "source": [
    "# Sample DataFrame with patient records\n",
    "data = {\n",
    "    'PatientID': [1, 2, 3, 4, 5],\n",
    "    'Name': ['Ivan Ivanov', 'Maria Popova', 'Georgi Georgiev', 'Sofia Petrova', 'Nikolai Nikolov'],\n",
    "    'Age': [30, np.nan, 45, np.nan, 50],\n",
    "    'Address': ['1000 Sofia', np.nan, '1500 Plovdiv', '1300 Varna', np.nan]\n",
    "}\n",
    "\n",
    "df = pd.DataFrame(data)\n",
    "df"
   ],
   "outputs": [
    {
     "data": {
      "text/plain": [
       "   PatientID             Name   Age       Address\n",
       "0          1      Ivan Ivanov  30.0    1000 Sofia\n",
       "1          2     Maria Popova   NaN           NaN\n",
       "2          3  Georgi Georgiev  45.0  1500 Plovdiv\n",
       "3          4    Sofia Petrova   NaN    1300 Varna\n",
       "4          5  Nikolai Nikolov  50.0           NaN"
      ],
      "text/html": [
       "<div>\n",
       "<style scoped>\n",
       "    .dataframe tbody tr th:only-of-type {\n",
       "        vertical-align: middle;\n",
       "    }\n",
       "\n",
       "    .dataframe tbody tr th {\n",
       "        vertical-align: top;\n",
       "    }\n",
       "\n",
       "    .dataframe thead th {\n",
       "        text-align: right;\n",
       "    }\n",
       "</style>\n",
       "<table border=\"1\" class=\"dataframe\">\n",
       "  <thead>\n",
       "    <tr style=\"text-align: right;\">\n",
       "      <th></th>\n",
       "      <th>PatientID</th>\n",
       "      <th>Name</th>\n",
       "      <th>Age</th>\n",
       "      <th>Address</th>\n",
       "    </tr>\n",
       "  </thead>\n",
       "  <tbody>\n",
       "    <tr>\n",
       "      <th>0</th>\n",
       "      <td>1</td>\n",
       "      <td>Ivan Ivanov</td>\n",
       "      <td>30.0</td>\n",
       "      <td>1000 Sofia</td>\n",
       "    </tr>\n",
       "    <tr>\n",
       "      <th>1</th>\n",
       "      <td>2</td>\n",
       "      <td>Maria Popova</td>\n",
       "      <td>NaN</td>\n",
       "      <td>NaN</td>\n",
       "    </tr>\n",
       "    <tr>\n",
       "      <th>2</th>\n",
       "      <td>3</td>\n",
       "      <td>Georgi Georgiev</td>\n",
       "      <td>45.0</td>\n",
       "      <td>1500 Plovdiv</td>\n",
       "    </tr>\n",
       "    <tr>\n",
       "      <th>3</th>\n",
       "      <td>4</td>\n",
       "      <td>Sofia Petrova</td>\n",
       "      <td>NaN</td>\n",
       "      <td>1300 Varna</td>\n",
       "    </tr>\n",
       "    <tr>\n",
       "      <th>4</th>\n",
       "      <td>5</td>\n",
       "      <td>Nikolai Nikolov</td>\n",
       "      <td>50.0</td>\n",
       "      <td>NaN</td>\n",
       "    </tr>\n",
       "  </tbody>\n",
       "</table>\n",
       "</div>"
      ]
     },
     "execution_count": 49,
     "metadata": {},
     "output_type": "execute_result"
    }
   ],
   "execution_count": 49
  },
  {
   "cell_type": "markdown",
   "metadata": {},
   "source": [
    "#### <a id='toc1_2_2_1_'></a>[Identifying Missing Values](#toc0_)"
   ]
  },
  {
   "cell_type": "code",
   "metadata": {
    "ExecuteTime": {
     "end_time": "2024-07-19T19:06:09.053964Z",
     "start_time": "2024-07-19T19:06:09.047694Z"
    }
   },
   "source": [
    "# Identify rows with missing 'Age' or 'Address'\n",
    "mask = df['Age'].isna() | df['Address'].isna()\n",
    "missing_age_or_address = df[mask]\n",
    "missing_age_or_address"
   ],
   "outputs": [
    {
     "data": {
      "text/plain": [
       "   PatientID             Name   Age     Address\n",
       "1          2     Maria Popova   NaN         NaN\n",
       "3          4    Sofia Petrova   NaN  1300 Varna\n",
       "4          5  Nikolai Nikolov  50.0         NaN"
      ],
      "text/html": [
       "<div>\n",
       "<style scoped>\n",
       "    .dataframe tbody tr th:only-of-type {\n",
       "        vertical-align: middle;\n",
       "    }\n",
       "\n",
       "    .dataframe tbody tr th {\n",
       "        vertical-align: top;\n",
       "    }\n",
       "\n",
       "    .dataframe thead th {\n",
       "        text-align: right;\n",
       "    }\n",
       "</style>\n",
       "<table border=\"1\" class=\"dataframe\">\n",
       "  <thead>\n",
       "    <tr style=\"text-align: right;\">\n",
       "      <th></th>\n",
       "      <th>PatientID</th>\n",
       "      <th>Name</th>\n",
       "      <th>Age</th>\n",
       "      <th>Address</th>\n",
       "    </tr>\n",
       "  </thead>\n",
       "  <tbody>\n",
       "    <tr>\n",
       "      <th>1</th>\n",
       "      <td>2</td>\n",
       "      <td>Maria Popova</td>\n",
       "      <td>NaN</td>\n",
       "      <td>NaN</td>\n",
       "    </tr>\n",
       "    <tr>\n",
       "      <th>3</th>\n",
       "      <td>4</td>\n",
       "      <td>Sofia Petrova</td>\n",
       "      <td>NaN</td>\n",
       "      <td>1300 Varna</td>\n",
       "    </tr>\n",
       "    <tr>\n",
       "      <th>4</th>\n",
       "      <td>5</td>\n",
       "      <td>Nikolai Nikolov</td>\n",
       "      <td>50.0</td>\n",
       "      <td>NaN</td>\n",
       "    </tr>\n",
       "  </tbody>\n",
       "</table>\n",
       "</div>"
      ]
     },
     "execution_count": 50,
     "metadata": {},
     "output_type": "execute_result"
    }
   ],
   "execution_count": 50
  },
  {
   "cell_type": "markdown",
   "metadata": {},
   "source": [
    "#### <a id='toc1_2_2_2_'></a>[Filling Missing Values with a Default Value](#toc0_)\n"
   ]
  },
  {
   "cell_type": "code",
   "metadata": {
    "ExecuteTime": {
     "end_time": "2024-07-19T19:06:16.981685Z",
     "start_time": "2024-07-19T19:06:16.975380Z"
    }
   },
   "source": [
    "# Filling missing 'Age' with the median age and 'Address' with a 'Address Unknown' placeholder\n",
    "df['Age'] = df['Age'].fillna(df['Age'].median())\n",
    "df['Address'] = df['Address'].fillna('Address Unknown')\n",
    "df"
   ],
   "outputs": [
    {
     "data": {
      "text/plain": [
       "   PatientID             Name   Age          Address\n",
       "0          1      Ivan Ivanov  30.0       1000 Sofia\n",
       "1          2     Maria Popova  45.0  Address Unknown\n",
       "2          3  Georgi Georgiev  45.0     1500 Plovdiv\n",
       "3          4    Sofia Petrova  45.0       1300 Varna\n",
       "4          5  Nikolai Nikolov  50.0  Address Unknown"
      ],
      "text/html": [
       "<div>\n",
       "<style scoped>\n",
       "    .dataframe tbody tr th:only-of-type {\n",
       "        vertical-align: middle;\n",
       "    }\n",
       "\n",
       "    .dataframe tbody tr th {\n",
       "        vertical-align: top;\n",
       "    }\n",
       "\n",
       "    .dataframe thead th {\n",
       "        text-align: right;\n",
       "    }\n",
       "</style>\n",
       "<table border=\"1\" class=\"dataframe\">\n",
       "  <thead>\n",
       "    <tr style=\"text-align: right;\">\n",
       "      <th></th>\n",
       "      <th>PatientID</th>\n",
       "      <th>Name</th>\n",
       "      <th>Age</th>\n",
       "      <th>Address</th>\n",
       "    </tr>\n",
       "  </thead>\n",
       "  <tbody>\n",
       "    <tr>\n",
       "      <th>0</th>\n",
       "      <td>1</td>\n",
       "      <td>Ivan Ivanov</td>\n",
       "      <td>30.0</td>\n",
       "      <td>1000 Sofia</td>\n",
       "    </tr>\n",
       "    <tr>\n",
       "      <th>1</th>\n",
       "      <td>2</td>\n",
       "      <td>Maria Popova</td>\n",
       "      <td>45.0</td>\n",
       "      <td>Address Unknown</td>\n",
       "    </tr>\n",
       "    <tr>\n",
       "      <th>2</th>\n",
       "      <td>3</td>\n",
       "      <td>Georgi Georgiev</td>\n",
       "      <td>45.0</td>\n",
       "      <td>1500 Plovdiv</td>\n",
       "    </tr>\n",
       "    <tr>\n",
       "      <th>3</th>\n",
       "      <td>4</td>\n",
       "      <td>Sofia Petrova</td>\n",
       "      <td>45.0</td>\n",
       "      <td>1300 Varna</td>\n",
       "    </tr>\n",
       "    <tr>\n",
       "      <th>4</th>\n",
       "      <td>5</td>\n",
       "      <td>Nikolai Nikolov</td>\n",
       "      <td>50.0</td>\n",
       "      <td>Address Unknown</td>\n",
       "    </tr>\n",
       "  </tbody>\n",
       "</table>\n",
       "</div>"
      ]
     },
     "execution_count": 51,
     "metadata": {},
     "output_type": "execute_result"
    }
   ],
   "execution_count": 51
  },
  {
   "cell_type": "markdown",
   "metadata": {},
   "source": [
    "#### <a id='toc1_2_2_3_'></a>[Dropping Rows with Missing Values](#toc0_)\n",
    "\n",
    "If missing data cannot be accurately imputed or filled, it might be best to exclude those records from analysis:"
   ]
  },
  {
   "cell_type": "code",
   "metadata": {
    "ExecuteTime": {
     "end_time": "2024-07-19T19:06:22.951203Z",
     "start_time": "2024-07-19T19:06:22.930862Z"
    }
   },
   "source": [
    "# Dropping rows where either 'Age' or 'Address' is missing\n",
    "df_dropped = df.dropna(subset=['Age', 'Address'])\n",
    "df_dropped"
   ],
   "outputs": [
    {
     "data": {
      "text/plain": [
       "   PatientID             Name   Age          Address\n",
       "0          1      Ivan Ivanov  30.0       1000 Sofia\n",
       "1          2     Maria Popova  45.0  Address Unknown\n",
       "2          3  Georgi Georgiev  45.0     1500 Plovdiv\n",
       "3          4    Sofia Petrova  45.0       1300 Varna\n",
       "4          5  Nikolai Nikolov  50.0  Address Unknown"
      ],
      "text/html": [
       "<div>\n",
       "<style scoped>\n",
       "    .dataframe tbody tr th:only-of-type {\n",
       "        vertical-align: middle;\n",
       "    }\n",
       "\n",
       "    .dataframe tbody tr th {\n",
       "        vertical-align: top;\n",
       "    }\n",
       "\n",
       "    .dataframe thead th {\n",
       "        text-align: right;\n",
       "    }\n",
       "</style>\n",
       "<table border=\"1\" class=\"dataframe\">\n",
       "  <thead>\n",
       "    <tr style=\"text-align: right;\">\n",
       "      <th></th>\n",
       "      <th>PatientID</th>\n",
       "      <th>Name</th>\n",
       "      <th>Age</th>\n",
       "      <th>Address</th>\n",
       "    </tr>\n",
       "  </thead>\n",
       "  <tbody>\n",
       "    <tr>\n",
       "      <th>0</th>\n",
       "      <td>1</td>\n",
       "      <td>Ivan Ivanov</td>\n",
       "      <td>30.0</td>\n",
       "      <td>1000 Sofia</td>\n",
       "    </tr>\n",
       "    <tr>\n",
       "      <th>1</th>\n",
       "      <td>2</td>\n",
       "      <td>Maria Popova</td>\n",
       "      <td>45.0</td>\n",
       "      <td>Address Unknown</td>\n",
       "    </tr>\n",
       "    <tr>\n",
       "      <th>2</th>\n",
       "      <td>3</td>\n",
       "      <td>Georgi Georgiev</td>\n",
       "      <td>45.0</td>\n",
       "      <td>1500 Plovdiv</td>\n",
       "    </tr>\n",
       "    <tr>\n",
       "      <th>3</th>\n",
       "      <td>4</td>\n",
       "      <td>Sofia Petrova</td>\n",
       "      <td>45.0</td>\n",
       "      <td>1300 Varna</td>\n",
       "    </tr>\n",
       "    <tr>\n",
       "      <th>4</th>\n",
       "      <td>5</td>\n",
       "      <td>Nikolai Nikolov</td>\n",
       "      <td>50.0</td>\n",
       "      <td>Address Unknown</td>\n",
       "    </tr>\n",
       "  </tbody>\n",
       "</table>\n",
       "</div>"
      ]
     },
     "execution_count": 52,
     "metadata": {},
     "output_type": "execute_result"
    }
   ],
   "execution_count": 52
  },
  {
   "cell_type": "markdown",
   "metadata": {},
   "source": [
    "### <a id='toc1_2_3_'></a>[Handling Inconsistent Formats](#toc0_)\n",
    "\n",
    "In this example, we'll address a common data cleaning issue where dates are inconsistently entered in a dataset, with some records using the DD/MM/YYYY format and others using the MM/DD/YYYY format.\n",
    "\n",
    "To solve the problem we'll define `standardize_date` function that attempts to parse each date string using the DD/MM/YYYY format initially and, if it fails (indicating the date might be in the MM/DD/YYYY format due to a ValueError), it tries the MM/DD/YYYY format. After determining the correct format, it converts the date to a standardized YYYY-MM-DD format for consistency. The apply method is then used to apply this function to each date in the 'Date' column, creating a new 'Standardized Date' column with the corrected dates.\n",
    "\n",
    "Keep in mind, this solution assumes that all dates are valid and does not account for ambiguous cases (e.g., 01/02/2023 could be January 2nd or February 1st). In real-world scenarios, additional context or data validation might be necessary to accurately distinguish between formats for such cases."
   ]
  },
  {
   "cell_type": "code",
   "execution_count": 28,
   "metadata": {},
   "outputs": [
    {
     "data": {
      "text/html": [
       "<div>\n",
       "<style scoped>\n",
       "    .dataframe tbody tr th:only-of-type {\n",
       "        vertical-align: middle;\n",
       "    }\n",
       "\n",
       "    .dataframe tbody tr th {\n",
       "        vertical-align: top;\n",
       "    }\n",
       "\n",
       "    .dataframe thead th {\n",
       "        text-align: right;\n",
       "    }\n",
       "</style>\n",
       "<table border=\"1\" class=\"dataframe\">\n",
       "  <thead>\n",
       "    <tr style=\"text-align: right;\">\n",
       "      <th></th>\n",
       "      <th>Event</th>\n",
       "      <th>Date</th>\n",
       "    </tr>\n",
       "  </thead>\n",
       "  <tbody>\n",
       "    <tr>\n",
       "      <th>0</th>\n",
       "      <td>Concert</td>\n",
       "      <td>12/05/2024</td>\n",
       "    </tr>\n",
       "    <tr>\n",
       "      <th>1</th>\n",
       "      <td>Conference</td>\n",
       "      <td>05/15/2024</td>\n",
       "    </tr>\n",
       "    <tr>\n",
       "      <th>2</th>\n",
       "      <td>Meeting</td>\n",
       "      <td>23/06/2024</td>\n",
       "    </tr>\n",
       "    <tr>\n",
       "      <th>3</th>\n",
       "      <td>Workshop</td>\n",
       "      <td>07/20/2024</td>\n",
       "    </tr>\n",
       "    <tr>\n",
       "      <th>4</th>\n",
       "      <td>Seminar</td>\n",
       "      <td>10/11/2024</td>\n",
       "    </tr>\n",
       "  </tbody>\n",
       "</table>\n",
       "</div>"
      ],
      "text/plain": [
       "        Event        Date\n",
       "0     Concert  12/05/2024\n",
       "1  Conference  05/15/2024\n",
       "2     Meeting  23/06/2024\n",
       "3    Workshop  07/20/2024\n",
       "4     Seminar  10/11/2024"
      ]
     },
     "execution_count": 28,
     "metadata": {},
     "output_type": "execute_result"
    }
   ],
   "source": [
    "# Sample data with inconsistent date formats\n",
    "data = {\n",
    "    'Event': ['Concert', 'Conference', 'Meeting', 'Workshop', 'Seminar'],\n",
    "    'Date': ['12/05/2024', '05/15/2024', '23/06/2024', '07/20/2024', '10/11/2024']\n",
    "}\n",
    "\n",
    "df = pd.DataFrame(data)\n",
    "df"
   ]
  },
  {
   "cell_type": "code",
   "execution_count": 29,
   "metadata": {},
   "outputs": [
    {
     "data": {
      "text/html": [
       "<div>\n",
       "<style scoped>\n",
       "    .dataframe tbody tr th:only-of-type {\n",
       "        vertical-align: middle;\n",
       "    }\n",
       "\n",
       "    .dataframe tbody tr th {\n",
       "        vertical-align: top;\n",
       "    }\n",
       "\n",
       "    .dataframe thead th {\n",
       "        text-align: right;\n",
       "    }\n",
       "</style>\n",
       "<table border=\"1\" class=\"dataframe\">\n",
       "  <thead>\n",
       "    <tr style=\"text-align: right;\">\n",
       "      <th></th>\n",
       "      <th>Event</th>\n",
       "      <th>Date</th>\n",
       "      <th>Corrected Date</th>\n",
       "    </tr>\n",
       "  </thead>\n",
       "  <tbody>\n",
       "    <tr>\n",
       "      <th>0</th>\n",
       "      <td>Concert</td>\n",
       "      <td>12/05/2024</td>\n",
       "      <td>2024-05-12</td>\n",
       "    </tr>\n",
       "    <tr>\n",
       "      <th>1</th>\n",
       "      <td>Conference</td>\n",
       "      <td>05/15/2024</td>\n",
       "      <td>2024-05-15</td>\n",
       "    </tr>\n",
       "    <tr>\n",
       "      <th>2</th>\n",
       "      <td>Meeting</td>\n",
       "      <td>23/06/2024</td>\n",
       "      <td>2024-06-23</td>\n",
       "    </tr>\n",
       "    <tr>\n",
       "      <th>3</th>\n",
       "      <td>Workshop</td>\n",
       "      <td>07/20/2024</td>\n",
       "      <td>2024-07-20</td>\n",
       "    </tr>\n",
       "    <tr>\n",
       "      <th>4</th>\n",
       "      <td>Seminar</td>\n",
       "      <td>10/11/2024</td>\n",
       "      <td>2024-11-10</td>\n",
       "    </tr>\n",
       "  </tbody>\n",
       "</table>\n",
       "</div>"
      ],
      "text/plain": [
       "        Event        Date Corrected Date\n",
       "0     Concert  12/05/2024     2024-05-12\n",
       "1  Conference  05/15/2024     2024-05-15\n",
       "2     Meeting  23/06/2024     2024-06-23\n",
       "3    Workshop  07/20/2024     2024-07-20\n",
       "4     Seminar  10/11/2024     2024-11-10"
      ]
     },
     "execution_count": 29,
     "metadata": {},
     "output_type": "execute_result"
    }
   ],
   "source": [
    "from datetime import datetime\n",
    "\n",
    "# Function to correct date formats\n",
    "def correct_date_format(date_str):\n",
    "    try:\n",
    "        # Try parsing the date assuming DD/MM/YYYY format\n",
    "        return datetime.strptime(date_str, \"%d/%m/%Y\").strftime(\"%Y-%m-%d\")\n",
    "    except ValueError:\n",
    "        # If parsing fails, assume MM/DD/YYYY format\n",
    "        return datetime.strptime(date_str, \"%m/%d/%Y\").strftime(\"%Y-%m-%d\")\n",
    "\n",
    "# Applying the function to correct date formats in the DataFrame\n",
    "df['Corrected Date'] = df['Date'].apply(correct_date_format)\n",
    "df"
   ]
  },
  {
   "cell_type": "markdown",
   "metadata": {},
   "source": [
    "### <a id='toc1_2_4_'></a>[Handling Incorrect Values](#toc0_)\n",
    "\n",
    "Let's have incorrect values in a dataset that tracks employee information for a company. In this case, the 'Years of Experience' field contains some unrealistic values due to data entry errors, such as negative numbers or excessively high values for experience years.\n",
    "We'll assume that a valid range for years of experience is between 0 and 50 years. We will replace any value outside this range with the meadian of valid values in 'Years of Experience'"
   ]
  },
  {
   "cell_type": "code",
   "metadata": {
    "ExecuteTime": {
     "end_time": "2024-07-19T19:07:09.611Z",
     "start_time": "2024-07-19T19:07:09.605923Z"
    }
   },
   "source": [
    "import pandas as pd\n",
    "\n",
    "# Sample data with incorrect values in the 'Years of Experience' field\n",
    "data = {\n",
    "    'Employee Name': ['Ivan Ivanov', 'Maria Popova', 'Georgi Georgiev', 'Sofia Petrova', 'Nikolai Nikolov'],\n",
    "    'Position': ['Software Developer', 'Project Manager', 'Data Analyst', 'UX Designer', 'HR Specialist'],\n",
    "    'Years of Experience': [5, -2, 25, 3, 150]\n",
    "}\n",
    "\n",
    "df = pd.DataFrame(data)\n",
    "df"
   ],
   "outputs": [
    {
     "data": {
      "text/plain": [
       "     Employee Name            Position  Years of Experience\n",
       "0      Ivan Ivanov  Software Developer                    5\n",
       "1     Maria Popova     Project Manager                   -2\n",
       "2  Georgi Georgiev        Data Analyst                   25\n",
       "3    Sofia Petrova         UX Designer                    3\n",
       "4  Nikolai Nikolov       HR Specialist                  150"
      ],
      "text/html": [
       "<div>\n",
       "<style scoped>\n",
       "    .dataframe tbody tr th:only-of-type {\n",
       "        vertical-align: middle;\n",
       "    }\n",
       "\n",
       "    .dataframe tbody tr th {\n",
       "        vertical-align: top;\n",
       "    }\n",
       "\n",
       "    .dataframe thead th {\n",
       "        text-align: right;\n",
       "    }\n",
       "</style>\n",
       "<table border=\"1\" class=\"dataframe\">\n",
       "  <thead>\n",
       "    <tr style=\"text-align: right;\">\n",
       "      <th></th>\n",
       "      <th>Employee Name</th>\n",
       "      <th>Position</th>\n",
       "      <th>Years of Experience</th>\n",
       "    </tr>\n",
       "  </thead>\n",
       "  <tbody>\n",
       "    <tr>\n",
       "      <th>0</th>\n",
       "      <td>Ivan Ivanov</td>\n",
       "      <td>Software Developer</td>\n",
       "      <td>5</td>\n",
       "    </tr>\n",
       "    <tr>\n",
       "      <th>1</th>\n",
       "      <td>Maria Popova</td>\n",
       "      <td>Project Manager</td>\n",
       "      <td>-2</td>\n",
       "    </tr>\n",
       "    <tr>\n",
       "      <th>2</th>\n",
       "      <td>Georgi Georgiev</td>\n",
       "      <td>Data Analyst</td>\n",
       "      <td>25</td>\n",
       "    </tr>\n",
       "    <tr>\n",
       "      <th>3</th>\n",
       "      <td>Sofia Petrova</td>\n",
       "      <td>UX Designer</td>\n",
       "      <td>3</td>\n",
       "    </tr>\n",
       "    <tr>\n",
       "      <th>4</th>\n",
       "      <td>Nikolai Nikolov</td>\n",
       "      <td>HR Specialist</td>\n",
       "      <td>150</td>\n",
       "    </tr>\n",
       "  </tbody>\n",
       "</table>\n",
       "</div>"
      ]
     },
     "execution_count": 53,
     "metadata": {},
     "output_type": "execute_result"
    }
   ],
   "execution_count": 53
  },
  {
   "cell_type": "code",
   "metadata": {
    "ExecuteTime": {
     "end_time": "2024-07-19T19:07:39.872270Z",
     "start_time": "2024-07-19T19:07:39.867983Z"
    }
   },
   "source": [
    "# Calculate the meadian of valid values in 'Years of Experience':\n",
    "valid_years_mask = (df['Years of Experience']>0) & (df['Years of Experience']<50)\n",
    "valid_years = df['Years of Experience'].loc[valid_years_mask]\n",
    "valid_years_median = np.median( valid_years ).astype(int)\n",
    "valid_years_median"
   ],
   "outputs": [
    {
     "data": {
      "text/plain": [
       "np.int64(5)"
      ]
     },
     "execution_count": 54,
     "metadata": {},
     "output_type": "execute_result"
    }
   ],
   "execution_count": 54
  },
  {
   "cell_type": "code",
   "metadata": {
    "ExecuteTime": {
     "end_time": "2024-07-19T19:08:48.469440Z",
     "start_time": "2024-07-19T19:08:48.464098Z"
    }
   },
   "source": [
    "# Correcting incorrect 'Years of Experience' values\n",
    "df['Corrected Years of Experience'] = (\n",
    "    df['Years of Experience']\n",
    "    .apply(lambda x: x if 0<x<50 else valid_years_median)\n",
    ")\n",
    "df"
   ],
   "outputs": [
    {
     "data": {
      "text/plain": [
       "     Employee Name            Position  Years of Experience  \\\n",
       "0      Ivan Ivanov  Software Developer                    5   \n",
       "1     Maria Popova     Project Manager                   -2   \n",
       "2  Georgi Georgiev        Data Analyst                   25   \n",
       "3    Sofia Petrova         UX Designer                    3   \n",
       "4  Nikolai Nikolov       HR Specialist                  150   \n",
       "\n",
       "   Corrected Years of Experience  \n",
       "0                              5  \n",
       "1                              5  \n",
       "2                             25  \n",
       "3                              3  \n",
       "4                              5  "
      ],
      "text/html": [
       "<div>\n",
       "<style scoped>\n",
       "    .dataframe tbody tr th:only-of-type {\n",
       "        vertical-align: middle;\n",
       "    }\n",
       "\n",
       "    .dataframe tbody tr th {\n",
       "        vertical-align: top;\n",
       "    }\n",
       "\n",
       "    .dataframe thead th {\n",
       "        text-align: right;\n",
       "    }\n",
       "</style>\n",
       "<table border=\"1\" class=\"dataframe\">\n",
       "  <thead>\n",
       "    <tr style=\"text-align: right;\">\n",
       "      <th></th>\n",
       "      <th>Employee Name</th>\n",
       "      <th>Position</th>\n",
       "      <th>Years of Experience</th>\n",
       "      <th>Corrected Years of Experience</th>\n",
       "    </tr>\n",
       "  </thead>\n",
       "  <tbody>\n",
       "    <tr>\n",
       "      <th>0</th>\n",
       "      <td>Ivan Ivanov</td>\n",
       "      <td>Software Developer</td>\n",
       "      <td>5</td>\n",
       "      <td>5</td>\n",
       "    </tr>\n",
       "    <tr>\n",
       "      <th>1</th>\n",
       "      <td>Maria Popova</td>\n",
       "      <td>Project Manager</td>\n",
       "      <td>-2</td>\n",
       "      <td>5</td>\n",
       "    </tr>\n",
       "    <tr>\n",
       "      <th>2</th>\n",
       "      <td>Georgi Georgiev</td>\n",
       "      <td>Data Analyst</td>\n",
       "      <td>25</td>\n",
       "      <td>25</td>\n",
       "    </tr>\n",
       "    <tr>\n",
       "      <th>3</th>\n",
       "      <td>Sofia Petrova</td>\n",
       "      <td>UX Designer</td>\n",
       "      <td>3</td>\n",
       "      <td>3</td>\n",
       "    </tr>\n",
       "    <tr>\n",
       "      <th>4</th>\n",
       "      <td>Nikolai Nikolov</td>\n",
       "      <td>HR Specialist</td>\n",
       "      <td>150</td>\n",
       "      <td>5</td>\n",
       "    </tr>\n",
       "  </tbody>\n",
       "</table>\n",
       "</div>"
      ]
     },
     "execution_count": 55,
     "metadata": {},
     "output_type": "execute_result"
    }
   ],
   "execution_count": 55
  },
  {
   "metadata": {
    "ExecuteTime": {
     "end_time": "2024-07-19T19:11:48.763126Z",
     "start_time": "2024-07-19T19:11:48.756954Z"
    }
   },
   "cell_type": "code",
   "source": [
    "median_of_experiance = df['Years of Experience'].median()\n",
    "median_of_experiance\n",
    "\n",
    "df['my_col'] = df['Years of Experience'].apply(lambda x: x if x<20 else 1000)\n",
    "df"
   ],
   "outputs": [
    {
     "data": {
      "text/plain": [
       "     Employee Name            Position  Years of Experience  \\\n",
       "0      Ivan Ivanov  Software Developer                    5   \n",
       "1     Maria Popova     Project Manager                   -2   \n",
       "2  Georgi Georgiev        Data Analyst                   25   \n",
       "3    Sofia Petrova         UX Designer                    3   \n",
       "4  Nikolai Nikolov       HR Specialist                  150   \n",
       "\n",
       "   Corrected Years of Experience  my_col  \n",
       "0                              5       5  \n",
       "1                              5      -2  \n",
       "2                             25    1000  \n",
       "3                              3       3  \n",
       "4                              5    1000  "
      ],
      "text/html": [
       "<div>\n",
       "<style scoped>\n",
       "    .dataframe tbody tr th:only-of-type {\n",
       "        vertical-align: middle;\n",
       "    }\n",
       "\n",
       "    .dataframe tbody tr th {\n",
       "        vertical-align: top;\n",
       "    }\n",
       "\n",
       "    .dataframe thead th {\n",
       "        text-align: right;\n",
       "    }\n",
       "</style>\n",
       "<table border=\"1\" class=\"dataframe\">\n",
       "  <thead>\n",
       "    <tr style=\"text-align: right;\">\n",
       "      <th></th>\n",
       "      <th>Employee Name</th>\n",
       "      <th>Position</th>\n",
       "      <th>Years of Experience</th>\n",
       "      <th>Corrected Years of Experience</th>\n",
       "      <th>my_col</th>\n",
       "    </tr>\n",
       "  </thead>\n",
       "  <tbody>\n",
       "    <tr>\n",
       "      <th>0</th>\n",
       "      <td>Ivan Ivanov</td>\n",
       "      <td>Software Developer</td>\n",
       "      <td>5</td>\n",
       "      <td>5</td>\n",
       "      <td>5</td>\n",
       "    </tr>\n",
       "    <tr>\n",
       "      <th>1</th>\n",
       "      <td>Maria Popova</td>\n",
       "      <td>Project Manager</td>\n",
       "      <td>-2</td>\n",
       "      <td>5</td>\n",
       "      <td>-2</td>\n",
       "    </tr>\n",
       "    <tr>\n",
       "      <th>2</th>\n",
       "      <td>Georgi Georgiev</td>\n",
       "      <td>Data Analyst</td>\n",
       "      <td>25</td>\n",
       "      <td>25</td>\n",
       "      <td>1000</td>\n",
       "    </tr>\n",
       "    <tr>\n",
       "      <th>3</th>\n",
       "      <td>Sofia Petrova</td>\n",
       "      <td>UX Designer</td>\n",
       "      <td>3</td>\n",
       "      <td>3</td>\n",
       "      <td>3</td>\n",
       "    </tr>\n",
       "    <tr>\n",
       "      <th>4</th>\n",
       "      <td>Nikolai Nikolov</td>\n",
       "      <td>HR Specialist</td>\n",
       "      <td>150</td>\n",
       "      <td>5</td>\n",
       "      <td>1000</td>\n",
       "    </tr>\n",
       "  </tbody>\n",
       "</table>\n",
       "</div>"
      ]
     },
     "execution_count": 57,
     "metadata": {},
     "output_type": "execute_result"
    }
   ],
   "execution_count": 57
  }
 ],
 "metadata": {
  "kernelspec": {
   "display_name": "Python 3 (ipykernel)",
   "language": "python",
   "name": "python3"
  },
  "language_info": {
   "codemirror_mode": {
    "name": "ipython",
    "version": 3
   },
   "file_extension": ".py",
   "mimetype": "text/x-python",
   "name": "python",
   "nbconvert_exporter": "python",
   "pygments_lexer": "ipython3",
   "version": "3.12.0"
  }
 },
 "nbformat": 4,
 "nbformat_minor": 4
}
