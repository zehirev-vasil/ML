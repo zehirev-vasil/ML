{
 "cells": [
  {
   "cell_type": "code",
   "metadata": {
    "ExecuteTime": {
     "end_time": "2024-07-20T06:05:03.156903Z",
     "start_time": "2024-07-20T06:05:02.375285Z"
    }
   },
   "source": [
    "import pandas as pd\n",
    "import numpy as np"
   ],
   "outputs": [],
   "execution_count": 1
  },
  {
   "cell_type": "markdown",
   "metadata": {},
   "source": [
    "# <a id='toc1_'></a>[Data Transformations](#toc0_)"
   ]
  },
  {
   "cell_type": "markdown",
   "metadata": {},
   "source": [
    "**Table of contents**<a id='toc0_'></a>    \n",
    "- [Data Transformations](#toc1_)    \n",
    "  - [Data Normalization](#toc1_1_)    \n",
    "    - [Min-Max Scaling](#toc1_1_1_)    \n",
    "    - [Z-Score Normalization](#toc1_1_2_)    \n",
    "    - [Using Min-Max or Z-Score normalization in pandas](#toc1_1_3_)    \n",
    "  - [Standardize datetime formats](#toc1_2_)    \n",
    "    - [Standardize datetime formats using Python datetime module](#toc1_2_1_)    \n",
    "    - [Standardize datetime formats pandas pd.to_datetime()](#toc1_2_2_)    \n",
    "  - [Standardize column names](#toc1_3_)    \n",
    "  - [Data Agregation](#toc1_4_)    \n",
    "    - [Merge on columns](#toc1_4_1_)    \n",
    "      - [Inner join merge:](#toc1_4_1_1_)    \n",
    "      - [Left Join merge](#toc1_4_1_2_)    \n",
    "      - [Outer Join merge](#toc1_4_1_3_)    \n",
    "    - [Merge on indexes](#toc1_4_2_)    \n",
    "      - [Using pd.merge()](#toc1_4_2_1_)    \n",
    "      - [Using df.join()](#toc1_4_2_2_)    \n",
    "  - [Grouping data (Split-Apply-Combine)](#toc1_5_)    \n",
    "    - [Grouping by a single Column](#toc1_5_1_)    \n",
    "    - [Grouping by list of columns](#toc1_5_2_)    \n",
    "    - [Group-specific aggregation.](#toc1_5_3_)    \n",
    "    - [Group-specific transformations.](#toc1_5_4_)    \n",
    "    - [Group-specific filterations](#toc1_5_5_)    \n",
    "\n",
    "<!-- vscode-jupyter-toc-config\n",
    "\tnumbering=false\n",
    "\tanchor=true\n",
    "\tflat=false\n",
    "\tminLevel=1\n",
    "\tmaxLevel=6\n",
    "\t/vscode-jupyter-toc-config -->\n",
    "<!-- THIS CELL WILL BE REPLACED ON TOC UPDATE. DO NOT WRITE YOUR TEXT IN THIS CELL -->"
   ]
  },
  {
   "cell_type": "markdown",
   "metadata": {},
   "source": [
    "## <a id='toc1_1_'></a>[Data Normalization](#toc0_)\n",
    "\n",
    "Data normalization is a process used in data processing and analysis to adjust values measured on different scales to a common scale, often without distorting differences in the ranges of values. \n",
    "\n",
    "<img src=\"./images/Min_max_normalization.png\" alt=\"Min_max_normalization\" style=\"height:200px\">\n",
    "\n",
    "This technique is essential for comparative analysis, especially when dealing with variables that span several magnitudes.\n",
    "\n",
    "Data normalization techniques commonly used in data analysis are Min-Max Scaling and Z-score normalization.\n",
    "\n",
    "### <a id='toc1_1_1_'></a>[Min-Max Scaling](#toc0_)\n",
    "\n",
    "This technique rescales the range of features to scale the range in [0, 1] or [-1, 1]. \n",
    "\n",
    "It's performed by subtracting the minimum value of the feature and then dividing by the range of the feature.\n",
    "\n",
    "To normalize these values between 0 and 1, you would apply the following formula for each value \n",
    "\n",
    "<img src=\"./images/min_max_formula.webp\" alt=\"min_max_formula\" style=\"height:200px\">\n",
    "\n",
    "### <a id='toc1_1_2_'></a>[Z-Score Normalization](#toc0_)\n",
    "\n",
    "The Z-score, also known as a standard score, is a statistical measurement that describes a value's relationship to the mean of a group of values, measured in terms of standard deviations from the mean.\n",
    "\n",
    "Z-score normalization scales the values to have a mean of 0 and a standard deviation of 1. This is done by subtracting the mean of the feature from each value, and then dividing by the standard deviation.\n",
    "\n",
    "<img src=\"./images/Z-score_formula.png\" alt=\"Z-score_formula\" style=\"height:200px\">\n",
    "\n",
    "### <a id='toc1_1_3_'></a>[Using Min-Max or Z-Score normalization in pandas](#toc0_)\n",
    "\n",
    "Pandas doesn't have a built-in method specifically for Min-Max or Z-Score normalization. You can perform the calculations manualy or to use the variaty of scalerd provided in [sklearn.preprocessing](https://scikit-learn.org/stable/modules/preprocessing.html#) module from [scikit-learn](https://scikit-learn.org/stable/index.html) package which are often used in conjunction with pandas DataFrames for normalization.\n",
    "\n",
    "To install scikit-learn use pip in activated virtual environment:\n",
    "\n",
    "```\n",
    "pip install scikit-learn\n",
    "```\n",
    "\n",
    "In next example we will normalize a salaries values using MinMaxScaler and StandardScaler (for Z-Score) classes:"
   ]
  },
  {
   "cell_type": "code",
   "metadata": {
    "ExecuteTime": {
     "end_time": "2024-07-20T06:16:59.614722Z",
     "start_time": "2024-07-20T06:16:59.604838Z"
    }
   },
   "source": [
    "from sklearn.preprocessing import MinMaxScaler, StandardScaler\n",
    "\n",
    "# Example data\n",
    "df = pd.DataFrame({\n",
    "    'Sales': [2000, 3500, 1500, 4000, 3000]\n",
    "})\n",
    "\n",
    "# Initialize a MinMaxScaler\n",
    "scaler = MinMaxScaler()\n",
    "# Fit and transform the data\n",
    "df['Min-Max_Normalized_Sales'] = scaler.fit_transform(df[['Sales']])\n",
    "\n",
    "# Initialize a StandardScaler\n",
    "scaler = StandardScaler()\n",
    "print(scaler)\n",
    "# Fit and transform the data\n",
    "df['Standard_Normalized_Sales'] = scaler.fit_transform(df[['Sales']])\n",
    "\n",
    "df\n"
   ],
   "outputs": [
    {
     "name": "stdout",
     "output_type": "stream",
     "text": [
      "StandardScaler()\n"
     ]
    },
    {
     "data": {
      "text/plain": [
       "   Sales  Min-Max_Normalized_Sales  Standard_Normalized_Sales\n",
       "0   2000                       0.2                  -0.862662\n",
       "1   3500                       0.8                   0.754829\n",
       "2   1500                       0.0                  -1.401826\n",
       "3   4000                       1.0                   1.293993\n",
       "4   3000                       0.6                   0.215666"
      ],
      "text/html": [
       "<div>\n",
       "<style scoped>\n",
       "    .dataframe tbody tr th:only-of-type {\n",
       "        vertical-align: middle;\n",
       "    }\n",
       "\n",
       "    .dataframe tbody tr th {\n",
       "        vertical-align: top;\n",
       "    }\n",
       "\n",
       "    .dataframe thead th {\n",
       "        text-align: right;\n",
       "    }\n",
       "</style>\n",
       "<table border=\"1\" class=\"dataframe\">\n",
       "  <thead>\n",
       "    <tr style=\"text-align: right;\">\n",
       "      <th></th>\n",
       "      <th>Sales</th>\n",
       "      <th>Min-Max_Normalized_Sales</th>\n",
       "      <th>Standard_Normalized_Sales</th>\n",
       "    </tr>\n",
       "  </thead>\n",
       "  <tbody>\n",
       "    <tr>\n",
       "      <th>0</th>\n",
       "      <td>2000</td>\n",
       "      <td>0.2</td>\n",
       "      <td>-0.862662</td>\n",
       "    </tr>\n",
       "    <tr>\n",
       "      <th>1</th>\n",
       "      <td>3500</td>\n",
       "      <td>0.8</td>\n",
       "      <td>0.754829</td>\n",
       "    </tr>\n",
       "    <tr>\n",
       "      <th>2</th>\n",
       "      <td>1500</td>\n",
       "      <td>0.0</td>\n",
       "      <td>-1.401826</td>\n",
       "    </tr>\n",
       "    <tr>\n",
       "      <th>3</th>\n",
       "      <td>4000</td>\n",
       "      <td>1.0</td>\n",
       "      <td>1.293993</td>\n",
       "    </tr>\n",
       "    <tr>\n",
       "      <th>4</th>\n",
       "      <td>3000</td>\n",
       "      <td>0.6</td>\n",
       "      <td>0.215666</td>\n",
       "    </tr>\n",
       "  </tbody>\n",
       "</table>\n",
       "</div>"
      ]
     },
     "execution_count": 7,
     "metadata": {},
     "output_type": "execute_result"
    }
   ],
   "execution_count": 7
  },
  {
   "metadata": {
    "ExecuteTime": {
     "end_time": "2024-07-20T06:21:27.429173Z",
     "start_time": "2024-07-20T06:21:27.424143Z"
    }
   },
   "cell_type": "code",
   "source": [
    "# Step 2: Create sample data\n",
    "data = {\n",
    "    'Feature': [10, 20, 30, 40.22, 50]\n",
    "}\n",
    "\n",
    "# Step 3: Create DataFrame\n",
    "df = pd.DataFrame(data)\n",
    "\n",
    "scaler = MinMaxScaler()\n",
    "df.Feature = scaler.fit_transform(df[['Feature']])\n",
    "\n",
    "print(df)"
   ],
   "outputs": [
    {
     "name": "stdout",
     "output_type": "stream",
     "text": [
      "   Feature\n",
      "0   0.0000\n",
      "1   0.2500\n",
      "2   0.5000\n",
      "3   0.7555\n",
      "4   1.0000\n"
     ]
    }
   ],
   "execution_count": 11
  },
  {
   "cell_type": "markdown",
   "metadata": {},
   "source": [
    "## <a id='toc1_2_'></a>[Standardize datetime formats](#toc0_)\n",
    "\n",
    "Standardizing datetime formats is pivotal for merging, analyzing, and visualizing data from diverse sources.\n",
    "\n",
    "Let's have next data:"
   ]
  },
  {
   "cell_type": "code",
   "execution_count": 3,
   "metadata": {},
   "outputs": [],
   "source": [
    "# Create a DataFrame\n",
    "data = {\n",
    "    'Date': ['12/05/2024', '05/15/2024', '15/05/2024', '23/06/2024', 'September 24, 2013', '2012.10.01']\n",
    "}\n",
    "df = pd.DataFrame(data)"
   ]
  },
  {
   "cell_type": "markdown",
   "metadata": {},
   "source": [
    "### <a id='toc1_2_1_'></a>[Standardize datetime formats using Python datetime module](#toc0_)\n",
    "\n",
    "This approach involves trying multiple date format strings until one successfully parses the date. If none of the formats work, the function can return None or raise a ValueError, depending on how you wish to handle errors"
   ]
  },
  {
   "cell_type": "code",
   "execution_count": 4,
   "metadata": {},
   "outputs": [
    {
     "data": {
      "text/html": [
       "<div>\n",
       "<style scoped>\n",
       "    .dataframe tbody tr th:only-of-type {\n",
       "        vertical-align: middle;\n",
       "    }\n",
       "\n",
       "    .dataframe tbody tr th {\n",
       "        vertical-align: top;\n",
       "    }\n",
       "\n",
       "    .dataframe thead th {\n",
       "        text-align: right;\n",
       "    }\n",
       "</style>\n",
       "<table border=\"1\" class=\"dataframe\">\n",
       "  <thead>\n",
       "    <tr style=\"text-align: right;\">\n",
       "      <th></th>\n",
       "      <th>Date</th>\n",
       "      <th>Standard Date 1</th>\n",
       "    </tr>\n",
       "  </thead>\n",
       "  <tbody>\n",
       "    <tr>\n",
       "      <th>0</th>\n",
       "      <td>12/05/2024</td>\n",
       "      <td>2024-12-05</td>\n",
       "    </tr>\n",
       "    <tr>\n",
       "      <th>1</th>\n",
       "      <td>05/15/2024</td>\n",
       "      <td>2024-05-15</td>\n",
       "    </tr>\n",
       "    <tr>\n",
       "      <th>2</th>\n",
       "      <td>15/05/2024</td>\n",
       "      <td>2024-05-15</td>\n",
       "    </tr>\n",
       "    <tr>\n",
       "      <th>3</th>\n",
       "      <td>23/06/2024</td>\n",
       "      <td>2024-06-23</td>\n",
       "    </tr>\n",
       "    <tr>\n",
       "      <th>4</th>\n",
       "      <td>September 24, 2013</td>\n",
       "      <td>2013-09-24</td>\n",
       "    </tr>\n",
       "    <tr>\n",
       "      <th>5</th>\n",
       "      <td>2012.10.01</td>\n",
       "      <td>2012-10-01</td>\n",
       "    </tr>\n",
       "  </tbody>\n",
       "</table>\n",
       "</div>"
      ],
      "text/plain": [
       "                 Date Standard Date 1\n",
       "0          12/05/2024      2024-12-05\n",
       "1          05/15/2024      2024-05-15\n",
       "2          15/05/2024      2024-05-15\n",
       "3          23/06/2024      2024-06-23\n",
       "4  September 24, 2013      2013-09-24\n",
       "5          2012.10.01      2012-10-01"
      ]
     },
     "execution_count": 4,
     "metadata": {},
     "output_type": "execute_result"
    }
   ],
   "source": [
    "from datetime import datetime\n",
    "\n",
    "def standardize_date(date_string, input_formats, output_format='%Y-%m-%d'):\n",
    "    \"\"\"\n",
    "        Attempts to convert a date string from various formats to a standardized format.\n",
    "\n",
    "        Args:\n",
    "            date_string (str): The date string to standardize.\n",
    "            input_formats (list): A list of strings representing date formats to attempt.\n",
    "            output_format (str): The target format for the standardized date string. Defaults to '%Y-%m-%d'.\n",
    "\n",
    "        Returns:\n",
    "            str or None: The standardized date string, or None if the date_string cannot be parsed.\n",
    "    \"\"\"\n",
    "    for input_format in input_formats:\n",
    "        try:\n",
    "            parsed_date = datetime.strptime(date_string, input_format)\n",
    "            return parsed_date.strftime(output_format)\n",
    "        except ValueError:\n",
    "            continue  # Try the next format\n",
    "\n",
    "    # All formats failed; consider logging this or raise error\n",
    "    print(f\"Warning: Unable to parse date string '{date_string}' with given formats.\")\n",
    "    return None\n",
    "\n",
    "# Define date formats to attempt parsing with\n",
    "input_formats = [\"%m/%d/%Y\", \"%d/%m/%Y\", \"%Y.%m.%d\", \"%B %d, %Y\"]\n",
    "\n",
    "df['Standard Date 1'] = df['Date'].apply(lambda date: standardize_date(date, input_formats))\n",
    "df"
   ]
  },
  {
   "cell_type": "markdown",
   "metadata": {},
   "source": [
    "### <a id='toc1_2_2_'></a>Standardize datetime formats pandas [pd.to_datetime()](https://pandas.pydata.org/pandas-docs/stable/reference/api/pandas.to_datetime.html) [&#8593;](#toc0_)\n",
    "\n",
    "Using pandas.to_datetime() is an effective way to standardize datetime formats in your DataFrame or Series. This function is versatile, allowing you to convert a variety of string formats into a standardized datetime format.\n",
    "\n",
    "As of Pandas 2.0 ([What’s new in 2.0.0 (April 3, 2023)](https://pandas.pydata.org/docs/whatsnew/v2.0.0.html#enhancements)) we can pass to pd.to_datetime() the parameter `format='mixed'`  to infer the format for each element individually. This is risky, and you should probably use it along with dayfirst."
   ]
  },
  {
   "cell_type": "code",
   "execution_count": 5,
   "metadata": {},
   "outputs": [
    {
     "data": {
      "text/html": [
       "<div>\n",
       "<style scoped>\n",
       "    .dataframe tbody tr th:only-of-type {\n",
       "        vertical-align: middle;\n",
       "    }\n",
       "\n",
       "    .dataframe tbody tr th {\n",
       "        vertical-align: top;\n",
       "    }\n",
       "\n",
       "    .dataframe thead th {\n",
       "        text-align: right;\n",
       "    }\n",
       "</style>\n",
       "<table border=\"1\" class=\"dataframe\">\n",
       "  <thead>\n",
       "    <tr style=\"text-align: right;\">\n",
       "      <th></th>\n",
       "      <th>Date</th>\n",
       "      <th>Standard Date 1</th>\n",
       "      <th>Standard Date 2</th>\n",
       "    </tr>\n",
       "  </thead>\n",
       "  <tbody>\n",
       "    <tr>\n",
       "      <th>0</th>\n",
       "      <td>12/05/2024</td>\n",
       "      <td>2024-12-05</td>\n",
       "      <td>2024-05-12</td>\n",
       "    </tr>\n",
       "    <tr>\n",
       "      <th>1</th>\n",
       "      <td>05/15/2024</td>\n",
       "      <td>2024-05-15</td>\n",
       "      <td>2024-05-15</td>\n",
       "    </tr>\n",
       "    <tr>\n",
       "      <th>2</th>\n",
       "      <td>15/05/2024</td>\n",
       "      <td>2024-05-15</td>\n",
       "      <td>2024-05-15</td>\n",
       "    </tr>\n",
       "    <tr>\n",
       "      <th>3</th>\n",
       "      <td>23/06/2024</td>\n",
       "      <td>2024-06-23</td>\n",
       "      <td>2024-06-23</td>\n",
       "    </tr>\n",
       "    <tr>\n",
       "      <th>4</th>\n",
       "      <td>September 24, 2013</td>\n",
       "      <td>2013-09-24</td>\n",
       "      <td>2013-09-24</td>\n",
       "    </tr>\n",
       "    <tr>\n",
       "      <th>5</th>\n",
       "      <td>2012.10.01</td>\n",
       "      <td>2012-10-01</td>\n",
       "      <td>2012-10-01</td>\n",
       "    </tr>\n",
       "  </tbody>\n",
       "</table>\n",
       "</div>"
      ],
      "text/plain": [
       "                 Date Standard Date 1 Standard Date 2\n",
       "0          12/05/2024      2024-12-05      2024-05-12\n",
       "1          05/15/2024      2024-05-15      2024-05-15\n",
       "2          15/05/2024      2024-05-15      2024-05-15\n",
       "3          23/06/2024      2024-06-23      2024-06-23\n",
       "4  September 24, 2013      2013-09-24      2013-09-24\n",
       "5          2012.10.01      2012-10-01      2012-10-01"
      ]
     },
     "execution_count": 5,
     "metadata": {},
     "output_type": "execute_result"
    }
   ],
   "source": [
    "# Convert the 'Date' column to datetime\n",
    "# Since we have mixed date formats, we'll handle ambiguous cases by specifying dayfirst=True\n",
    "df['Standard Date 2'] = pd.to_datetime(df['Date'], errors='coerce', format='mixed', dayfirst=True)\n",
    "df"
   ]
  },
  {
   "cell_type": "markdown",
   "metadata": {},
   "source": [
    "## <a id='toc1_3_'></a>[Standardize column names](#toc0_)\n",
    "\n",
    "Standardizing column names is a crucial step in data preprocessing, especially when working with data from multiple sources or when aiming for consistency in data analysis and modeling."
   ]
  },
  {
   "cell_type": "code",
   "execution_count": 26,
   "metadata": {},
   "outputs": [
    {
     "data": {
      "text/html": [
       "<div>\n",
       "<style scoped>\n",
       "    .dataframe tbody tr th:only-of-type {\n",
       "        vertical-align: middle;\n",
       "    }\n",
       "\n",
       "    .dataframe tbody tr th {\n",
       "        vertical-align: top;\n",
       "    }\n",
       "\n",
       "    .dataframe thead th {\n",
       "        text-align: right;\n",
       "    }\n",
       "</style>\n",
       "<table border=\"1\" class=\"dataframe\">\n",
       "  <thead>\n",
       "    <tr style=\"text-align: right;\">\n",
       "      <th></th>\n",
       "      <th>employee_name</th>\n",
       "      <th>employee_id</th>\n",
       "      <th>department_dept.</th>\n",
       "      <th>2023_salary_usd</th>\n",
       "    </tr>\n",
       "  </thead>\n",
       "  <tbody>\n",
       "    <tr>\n",
       "      <th>0</th>\n",
       "      <td>Jane Doe</td>\n",
       "      <td>12345</td>\n",
       "      <td>HR</td>\n",
       "      <td>50000</td>\n",
       "    </tr>\n",
       "    <tr>\n",
       "      <th>1</th>\n",
       "      <td>John Smith</td>\n",
       "      <td>67890</td>\n",
       "      <td>IT</td>\n",
       "      <td>60000</td>\n",
       "    </tr>\n",
       "  </tbody>\n",
       "</table>\n",
       "</div>"
      ],
      "text/plain": [
       "  employee_name  employee_id department_dept.  2023_salary_usd\n",
       "0      Jane Doe        12345               HR            50000\n",
       "1    John Smith        67890               IT            60000"
      ]
     },
     "execution_count": 26,
     "metadata": {},
     "output_type": "execute_result"
    }
   ],
   "source": [
    "import pandas as pd\n",
    "\n",
    "# Sample DataFrame\n",
    "data = {'Employee Name': [ 'Jane Doe', 'John Smith'],\n",
    "        'EMPLOYEE ID': [12345, 67890],\n",
    "        'Department (Dept.)': ['HR', 'IT'],\n",
    "        '2023 Salary ($)': [50000, 60000]}\n",
    "df = pd.DataFrame(data)\n",
    "\n",
    "# Function to standardize column names\n",
    "def standardize_col_names(df):\n",
    "    df.columns = df.columns.str.lower()  # Convert to lowercase\n",
    "    df.columns = df.columns.str.replace(' ', '_')  # Replace spaces with underscores\n",
    "    df.columns = df.columns.str.replace('(', '').str.replace(')', '')  # Remove parentheses\n",
    "    df.columns = df.columns.str.replace('$', 'usd')  # Replace $ with 'usd'\n",
    "    return df\n",
    "\n",
    "# Apply the function\n",
    "df = standardize_col_names(df)\n",
    "df\n",
    "\n"
   ]
  },
  {
   "cell_type": "markdown",
   "metadata": {},
   "source": [
    "## <a id='toc1_4_'></a>[Data Agregation](#toc0_)\n",
    "\n",
    "Data aggregation is the process of summarizing data from multiple sources to provide actionable insights. \n",
    "\n",
    "When using Pandas, first we have to combine the data into a DataFrame. For that step we can use the pandas merge() or join() functions. \n",
    "\n",
    "Second, we have to perform the Split-Apply-Combine strategy by using pandas group-by aggregation function.\n",
    "\n",
    "### <a id='toc1_4_1_'></a>[Merge on columns](#toc0_)\n",
    "\n",
    "[pandas.DataFrame.merge]([https://](https://pandas.pydata.org/docs/reference/api/pandas.DataFrame.merge.html)) function is a powerful tool for combining data on common columns or indices, similar to SQL joins.\n",
    "\n",
    "It enables you to horizontally concatenate DataFrames or Series, based on one or more keys, aligning data in the process. \n",
    "\n",
    "This function is particularly useful for integrating related datasets to perform comprehensive analyses.\n",
    "\n",
    "<img src=\"./images/df_merge_flow.png\" style=\"height:240px\">\n",
    "\n",
    "The basic syntax of df.merge() is:\n",
    "\n",
    "```\n",
    "pd.merge(left, right, how='inner', on=None, left_on=None, right_on=None, left_index=False, right_index=False, sort=False)\n",
    "```\n",
    "\n",
    "where:\n",
    "\n",
    "- **left**: The DataFrame on the left side of the merge.\n",
    "- **right**: The DataFrame on the right side of the merge.\n",
    "- **how**: Specifies how to determine which keys are to be included in the resulting table. It can be \n",
    "  \n",
    "    - 'left'  : similar to a SQL left outer join\n",
    "    - 'right' :similar to a SQL right outer join\n",
    "    - 'outer' : similar to a SQL full outer join\n",
    "    - 'inner' (default): similar to a SQL inner join\n",
    "    - 'cross' : creates the cartesian product from both frames.\n",
    "    \n",
    "- **on**: Column or index level names to join on. Must be found in both the left and right DataFrames.\n",
    "- **left_on**: Columns from the left DataFrame to use as keys.\n",
    "- **right_on**: Columns from the right DataFrame to use as keys.\n",
    "- **left_index/right_index**: If True, use the index from the left/right DataFrame as the join key.\n",
    "\n",
    "The basic join types visualized:\n",
    "\n",
    "<img src=\"./images/df_merge_types_of_joins.png\" style=\"height:240px\">\n",
    "\n",
    "In next examles we'll use 2 dataframes:\n",
    "\n",
    "- employees_df: Contains employee IDs, names, and departments.\n",
    "- salaries_df: Contains employee IDs and their salaries.\n",
    "\n",
    "We'll merge these DataFrames to have a complete overview of employees and their salaries."
   ]
  },
  {
   "cell_type": "code",
   "execution_count": 6,
   "metadata": {},
   "outputs": [
    {
     "data": {
      "text/html": [
       "<div>\n",
       "<style scoped>\n",
       "    .dataframe tbody tr th:only-of-type {\n",
       "        vertical-align: middle;\n",
       "    }\n",
       "\n",
       "    .dataframe tbody tr th {\n",
       "        vertical-align: top;\n",
       "    }\n",
       "\n",
       "    .dataframe thead th {\n",
       "        text-align: right;\n",
       "    }\n",
       "</style>\n",
       "<table border=\"1\" class=\"dataframe\">\n",
       "  <thead>\n",
       "    <tr style=\"text-align: right;\">\n",
       "      <th></th>\n",
       "      <th>EmployeeID</th>\n",
       "      <th>EmployeeName</th>\n",
       "    </tr>\n",
       "  </thead>\n",
       "  <tbody>\n",
       "    <tr>\n",
       "      <th>0</th>\n",
       "      <td>1</td>\n",
       "      <td>Ivan Ivanov</td>\n",
       "    </tr>\n",
       "    <tr>\n",
       "      <th>1</th>\n",
       "      <td>2</td>\n",
       "      <td>Maria Popova</td>\n",
       "    </tr>\n",
       "    <tr>\n",
       "      <th>2</th>\n",
       "      <td>3</td>\n",
       "      <td>Georgi Dimitrov</td>\n",
       "    </tr>\n",
       "    <tr>\n",
       "      <th>3</th>\n",
       "      <td>4</td>\n",
       "      <td>Sofia Petrova</td>\n",
       "    </tr>\n",
       "    <tr>\n",
       "      <th>4</th>\n",
       "      <td>5</td>\n",
       "      <td>Nikolay Banev</td>\n",
       "    </tr>\n",
       "  </tbody>\n",
       "</table>\n",
       "</div>"
      ],
      "text/plain": [
       "   EmployeeID     EmployeeName\n",
       "0           1      Ivan Ivanov\n",
       "1           2     Maria Popova\n",
       "2           3  Georgi Dimitrov\n",
       "3           4    Sofia Petrova\n",
       "4           5    Nikolay Banev"
      ]
     },
     "execution_count": 6,
     "metadata": {},
     "output_type": "execute_result"
    }
   ],
   "source": [
    "# Create employees_df\n",
    "employees_data = {\n",
    "    'EmployeeID': [1, 2, 3, 4, 5],\n",
    "    'EmployeeName': ['Ivan Ivanov', 'Maria Popova', 'Georgi Dimitrov', 'Sofia Petrova', 'Nikolay Banev']\n",
    "}\n",
    "employees_df = pd.DataFrame(employees_data)\n",
    "\n",
    "employees_df"
   ]
  },
  {
   "cell_type": "code",
   "execution_count": 7,
   "metadata": {},
   "outputs": [
    {
     "data": {
      "text/html": [
       "<div>\n",
       "<style scoped>\n",
       "    .dataframe tbody tr th:only-of-type {\n",
       "        vertical-align: middle;\n",
       "    }\n",
       "\n",
       "    .dataframe tbody tr th {\n",
       "        vertical-align: top;\n",
       "    }\n",
       "\n",
       "    .dataframe thead th {\n",
       "        text-align: right;\n",
       "    }\n",
       "</style>\n",
       "<table border=\"1\" class=\"dataframe\">\n",
       "  <thead>\n",
       "    <tr style=\"text-align: right;\">\n",
       "      <th></th>\n",
       "      <th>EmployeeID</th>\n",
       "      <th>Salary</th>\n",
       "    </tr>\n",
       "  </thead>\n",
       "  <tbody>\n",
       "    <tr>\n",
       "      <th>0</th>\n",
       "      <td>1</td>\n",
       "      <td>3000</td>\n",
       "    </tr>\n",
       "    <tr>\n",
       "      <th>1</th>\n",
       "      <td>3</td>\n",
       "      <td>2900</td>\n",
       "    </tr>\n",
       "    <tr>\n",
       "      <th>2</th>\n",
       "      <td>4</td>\n",
       "      <td>3200</td>\n",
       "    </tr>\n",
       "    <tr>\n",
       "      <th>3</th>\n",
       "      <td>6</td>\n",
       "      <td>10000</td>\n",
       "    </tr>\n",
       "  </tbody>\n",
       "</table>\n",
       "</div>"
      ],
      "text/plain": [
       "   EmployeeID  Salary\n",
       "0           1    3000\n",
       "1           3    2900\n",
       "2           4    3200\n",
       "3           6   10000"
      ]
     },
     "execution_count": 7,
     "metadata": {},
     "output_type": "execute_result"
    }
   ],
   "source": [
    "# Create salaries_df.\n",
    "# Note missing data for EmployeeID 2 and 5, and data for EmployeeID 6 which is not in employees_df\n",
    "salaries_data = {\n",
    "    'EmployeeID': [1, 3, 4, 6],\n",
    "    'Salary': [3000, 2900, 3200, 10000]\n",
    "}\n",
    "salaries_df = pd.DataFrame(salaries_data)\n",
    "\n",
    "salaries_df"
   ]
  },
  {
   "cell_type": "markdown",
   "metadata": {},
   "source": [
    "#### <a id='toc1_4_1_1_'></a>[Inner join merge:](#toc0_)\n",
    "\n",
    "We will merge employee and salary information on the 'EmployeeID' column.\n",
    "\n",
    "The how='inner' parameter means the merge will include only rows with matching EmployeeID values in both DataFrames, ensuring that we get a DataFrame where every row includes both employee details and salary information."
   ]
  },
  {
   "cell_type": "code",
   "execution_count": 8,
   "metadata": {},
   "outputs": [
    {
     "data": {
      "text/html": [
       "<div>\n",
       "<style scoped>\n",
       "    .dataframe tbody tr th:only-of-type {\n",
       "        vertical-align: middle;\n",
       "    }\n",
       "\n",
       "    .dataframe tbody tr th {\n",
       "        vertical-align: top;\n",
       "    }\n",
       "\n",
       "    .dataframe thead th {\n",
       "        text-align: right;\n",
       "    }\n",
       "</style>\n",
       "<table border=\"1\" class=\"dataframe\">\n",
       "  <thead>\n",
       "    <tr style=\"text-align: right;\">\n",
       "      <th></th>\n",
       "      <th>EmployeeID</th>\n",
       "      <th>EmployeeName</th>\n",
       "      <th>Salary</th>\n",
       "    </tr>\n",
       "  </thead>\n",
       "  <tbody>\n",
       "    <tr>\n",
       "      <th>0</th>\n",
       "      <td>1</td>\n",
       "      <td>Ivan Ivanov</td>\n",
       "      <td>3000</td>\n",
       "    </tr>\n",
       "    <tr>\n",
       "      <th>1</th>\n",
       "      <td>3</td>\n",
       "      <td>Georgi Dimitrov</td>\n",
       "      <td>2900</td>\n",
       "    </tr>\n",
       "    <tr>\n",
       "      <th>2</th>\n",
       "      <td>4</td>\n",
       "      <td>Sofia Petrova</td>\n",
       "      <td>3200</td>\n",
       "    </tr>\n",
       "  </tbody>\n",
       "</table>\n",
       "</div>"
      ],
      "text/plain": [
       "   EmployeeID     EmployeeName  Salary\n",
       "0           1      Ivan Ivanov    3000\n",
       "1           3  Georgi Dimitrov    2900\n",
       "2           4    Sofia Petrova    3200"
      ]
     },
     "execution_count": 8,
     "metadata": {},
     "output_type": "execute_result"
    }
   ],
   "source": [
    "merged_df = pd.merge(employees_df, salaries_df, on='EmployeeID', how='inner')\n",
    "merged_df"
   ]
  },
  {
   "cell_type": "markdown",
   "metadata": {},
   "source": [
    "#### <a id='toc1_4_1_2_'></a>[Left Join merge](#toc0_)\n",
    "\n",
    "We can perform a left join to merge employees_df with salaries_df, ensuring all employees are included regardless of whether their salary data is present. The Right Join workds, the same, but on right table. "
   ]
  },
  {
   "cell_type": "code",
   "execution_count": 9,
   "metadata": {},
   "outputs": [
    {
     "data": {
      "text/html": [
       "<div>\n",
       "<style scoped>\n",
       "    .dataframe tbody tr th:only-of-type {\n",
       "        vertical-align: middle;\n",
       "    }\n",
       "\n",
       "    .dataframe tbody tr th {\n",
       "        vertical-align: top;\n",
       "    }\n",
       "\n",
       "    .dataframe thead th {\n",
       "        text-align: right;\n",
       "    }\n",
       "</style>\n",
       "<table border=\"1\" class=\"dataframe\">\n",
       "  <thead>\n",
       "    <tr style=\"text-align: right;\">\n",
       "      <th></th>\n",
       "      <th>EmployeeID</th>\n",
       "      <th>EmployeeName</th>\n",
       "      <th>Salary</th>\n",
       "    </tr>\n",
       "  </thead>\n",
       "  <tbody>\n",
       "    <tr>\n",
       "      <th>0</th>\n",
       "      <td>1</td>\n",
       "      <td>Ivan Ivanov</td>\n",
       "      <td>3000.0</td>\n",
       "    </tr>\n",
       "    <tr>\n",
       "      <th>1</th>\n",
       "      <td>2</td>\n",
       "      <td>Maria Popova</td>\n",
       "      <td>NaN</td>\n",
       "    </tr>\n",
       "    <tr>\n",
       "      <th>2</th>\n",
       "      <td>3</td>\n",
       "      <td>Georgi Dimitrov</td>\n",
       "      <td>2900.0</td>\n",
       "    </tr>\n",
       "    <tr>\n",
       "      <th>3</th>\n",
       "      <td>4</td>\n",
       "      <td>Sofia Petrova</td>\n",
       "      <td>3200.0</td>\n",
       "    </tr>\n",
       "    <tr>\n",
       "      <th>4</th>\n",
       "      <td>5</td>\n",
       "      <td>Nikolay Banev</td>\n",
       "      <td>NaN</td>\n",
       "    </tr>\n",
       "  </tbody>\n",
       "</table>\n",
       "</div>"
      ],
      "text/plain": [
       "   EmployeeID     EmployeeName  Salary\n",
       "0           1      Ivan Ivanov  3000.0\n",
       "1           2     Maria Popova     NaN\n",
       "2           3  Georgi Dimitrov  2900.0\n",
       "3           4    Sofia Petrova  3200.0\n",
       "4           5    Nikolay Banev     NaN"
      ]
     },
     "execution_count": 9,
     "metadata": {},
     "output_type": "execute_result"
    }
   ],
   "source": [
    "merged_df = pd.merge(employees_df, salaries_df, on='EmployeeID', how='left')\n",
    "merged_df"
   ]
  },
  {
   "cell_type": "markdown",
   "metadata": {},
   "source": [
    "#### <a id='toc1_4_1_3_'></a>[Outer Join merge](#toc0_)\n",
    "\n",
    "Combines all records from both DataFrames."
   ]
  },
  {
   "cell_type": "code",
   "execution_count": 10,
   "metadata": {},
   "outputs": [
    {
     "data": {
      "text/html": [
       "<div>\n",
       "<style scoped>\n",
       "    .dataframe tbody tr th:only-of-type {\n",
       "        vertical-align: middle;\n",
       "    }\n",
       "\n",
       "    .dataframe tbody tr th {\n",
       "        vertical-align: top;\n",
       "    }\n",
       "\n",
       "    .dataframe thead th {\n",
       "        text-align: right;\n",
       "    }\n",
       "</style>\n",
       "<table border=\"1\" class=\"dataframe\">\n",
       "  <thead>\n",
       "    <tr style=\"text-align: right;\">\n",
       "      <th></th>\n",
       "      <th>EmployeeID</th>\n",
       "      <th>EmployeeName</th>\n",
       "      <th>Salary</th>\n",
       "    </tr>\n",
       "  </thead>\n",
       "  <tbody>\n",
       "    <tr>\n",
       "      <th>0</th>\n",
       "      <td>1</td>\n",
       "      <td>Ivan Ivanov</td>\n",
       "      <td>3000.0</td>\n",
       "    </tr>\n",
       "    <tr>\n",
       "      <th>1</th>\n",
       "      <td>2</td>\n",
       "      <td>Maria Popova</td>\n",
       "      <td>NaN</td>\n",
       "    </tr>\n",
       "    <tr>\n",
       "      <th>2</th>\n",
       "      <td>3</td>\n",
       "      <td>Georgi Dimitrov</td>\n",
       "      <td>2900.0</td>\n",
       "    </tr>\n",
       "    <tr>\n",
       "      <th>3</th>\n",
       "      <td>4</td>\n",
       "      <td>Sofia Petrova</td>\n",
       "      <td>3200.0</td>\n",
       "    </tr>\n",
       "    <tr>\n",
       "      <th>4</th>\n",
       "      <td>5</td>\n",
       "      <td>Nikolay Banev</td>\n",
       "      <td>NaN</td>\n",
       "    </tr>\n",
       "    <tr>\n",
       "      <th>5</th>\n",
       "      <td>6</td>\n",
       "      <td>NaN</td>\n",
       "      <td>10000.0</td>\n",
       "    </tr>\n",
       "  </tbody>\n",
       "</table>\n",
       "</div>"
      ],
      "text/plain": [
       "   EmployeeID     EmployeeName   Salary\n",
       "0           1      Ivan Ivanov   3000.0\n",
       "1           2     Maria Popova      NaN\n",
       "2           3  Georgi Dimitrov   2900.0\n",
       "3           4    Sofia Petrova   3200.0\n",
       "4           5    Nikolay Banev      NaN\n",
       "5           6              NaN  10000.0"
      ]
     },
     "execution_count": 10,
     "metadata": {},
     "output_type": "execute_result"
    }
   ],
   "source": [
    "merged_df = pd.merge(employees_df, salaries_df, on='EmployeeID', how='outer')\n",
    "merged_df"
   ]
  },
  {
   "cell_type": "markdown",
   "metadata": {},
   "source": [
    "### <a id='toc1_4_2_'></a>[Merge on indexes](#toc0_)\n",
    "\n",
    "Merging on indexes is particularly useful in scenarios involving related datasets that are naturally indexed by a common identifier, such as orders and payments, where each order has a corresponding payment record. Merging on indexes is a common task in financial data analysis, customer relationship management (CRM), and any domain where linking records based on a shared key is necessary for analysis or reporting. \n",
    "\n",
    "Let's have next data:\n",
    "\n",
    "- orders_df: Contains information about customer orders, indexed by OrderID.\n",
    "- payments_df: Contains payment amounts for orders, indexed by OrderID."
   ]
  },
  {
   "cell_type": "code",
   "execution_count": 11,
   "metadata": {},
   "outputs": [
    {
     "data": {
      "text/html": [
       "<div>\n",
       "<style scoped>\n",
       "    .dataframe tbody tr th:only-of-type {\n",
       "        vertical-align: middle;\n",
       "    }\n",
       "\n",
       "    .dataframe tbody tr th {\n",
       "        vertical-align: top;\n",
       "    }\n",
       "\n",
       "    .dataframe thead th {\n",
       "        text-align: right;\n",
       "    }\n",
       "</style>\n",
       "<table border=\"1\" class=\"dataframe\">\n",
       "  <thead>\n",
       "    <tr style=\"text-align: right;\">\n",
       "      <th></th>\n",
       "      <th>CustomerName</th>\n",
       "      <th>Product</th>\n",
       "    </tr>\n",
       "  </thead>\n",
       "  <tbody>\n",
       "    <tr>\n",
       "      <th>1001</th>\n",
       "      <td>Ana Petrova</td>\n",
       "      <td>Book</td>\n",
       "    </tr>\n",
       "    <tr>\n",
       "      <th>1002</th>\n",
       "      <td>Dimitar Ivanov</td>\n",
       "      <td>Laptop</td>\n",
       "    </tr>\n",
       "    <tr>\n",
       "      <th>1003</th>\n",
       "      <td>Boris Popov</td>\n",
       "      <td>Pen</td>\n",
       "    </tr>\n",
       "    <tr>\n",
       "      <th>1004</th>\n",
       "      <td>Elena Georgieva</td>\n",
       "      <td>Notebook</td>\n",
       "    </tr>\n",
       "  </tbody>\n",
       "</table>\n",
       "</div>"
      ],
      "text/plain": [
       "         CustomerName   Product\n",
       "1001      Ana Petrova      Book\n",
       "1002   Dimitar Ivanov    Laptop\n",
       "1003      Boris Popov       Pen\n",
       "1004  Elena Georgieva  Notebook"
      ]
     },
     "execution_count": 11,
     "metadata": {},
     "output_type": "execute_result"
    }
   ],
   "source": [
    "orders_data = {\n",
    "    'CustomerName': ['Ana Petrova', 'Dimitar Ivanov', 'Boris Popov', 'Elena Georgieva'],\n",
    "    'Product': ['Book', 'Laptop', 'Pen', 'Notebook']\n",
    "}\n",
    "orders_df = pd.DataFrame(orders_data, index=[1001, 1002, 1003, 1004])\n",
    "orders_df"
   ]
  },
  {
   "cell_type": "code",
   "execution_count": 12,
   "metadata": {},
   "outputs": [
    {
     "data": {
      "text/html": [
       "<div>\n",
       "<style scoped>\n",
       "    .dataframe tbody tr th:only-of-type {\n",
       "        vertical-align: middle;\n",
       "    }\n",
       "\n",
       "    .dataframe tbody tr th {\n",
       "        vertical-align: top;\n",
       "    }\n",
       "\n",
       "    .dataframe thead th {\n",
       "        text-align: right;\n",
       "    }\n",
       "</style>\n",
       "<table border=\"1\" class=\"dataframe\">\n",
       "  <thead>\n",
       "    <tr style=\"text-align: right;\">\n",
       "      <th></th>\n",
       "      <th>Amount</th>\n",
       "    </tr>\n",
       "  </thead>\n",
       "  <tbody>\n",
       "    <tr>\n",
       "      <th>1001</th>\n",
       "      <td>15.99</td>\n",
       "    </tr>\n",
       "    <tr>\n",
       "      <th>1002</th>\n",
       "      <td>1200.00</td>\n",
       "    </tr>\n",
       "    <tr>\n",
       "      <th>1003</th>\n",
       "      <td>3.49</td>\n",
       "    </tr>\n",
       "    <tr>\n",
       "      <th>1004</th>\n",
       "      <td>7.99</td>\n",
       "    </tr>\n",
       "  </tbody>\n",
       "</table>\n",
       "</div>"
      ],
      "text/plain": [
       "       Amount\n",
       "1001    15.99\n",
       "1002  1200.00\n",
       "1003     3.49\n",
       "1004     7.99"
      ]
     },
     "execution_count": 12,
     "metadata": {},
     "output_type": "execute_result"
    }
   ],
   "source": [
    "payments_data = {\n",
    "    'Amount': [15.99, 1200.00, 3.49, 7.99]\n",
    "}\n",
    "payments_df = pd.DataFrame(payments_data, index=[1001, 1002, 1003, 1004])\n",
    "payments_df"
   ]
  },
  {
   "cell_type": "markdown",
   "metadata": {},
   "source": [
    "#### <a id='toc1_4_2_1_'></a>[Using pd.merge()](#toc0_)\n",
    "\n",
    "To merge orders_df and payments_df using their indexes, we can use again pd.merge(), but we must set `left_index=True` and `right_index=True`. \n",
    "\n",
    "These parameters indicate that the merge should be performed using the indexes of both orders_df and payments_df. Since both DataFrames are indexed by OrderID, this effectively merges the order details with the corresponding payment information for each order"
   ]
  },
  {
   "cell_type": "code",
   "execution_count": 13,
   "metadata": {},
   "outputs": [
    {
     "data": {
      "text/html": [
       "<div>\n",
       "<style scoped>\n",
       "    .dataframe tbody tr th:only-of-type {\n",
       "        vertical-align: middle;\n",
       "    }\n",
       "\n",
       "    .dataframe tbody tr th {\n",
       "        vertical-align: top;\n",
       "    }\n",
       "\n",
       "    .dataframe thead th {\n",
       "        text-align: right;\n",
       "    }\n",
       "</style>\n",
       "<table border=\"1\" class=\"dataframe\">\n",
       "  <thead>\n",
       "    <tr style=\"text-align: right;\">\n",
       "      <th></th>\n",
       "      <th>CustomerName</th>\n",
       "      <th>Product</th>\n",
       "      <th>Amount</th>\n",
       "    </tr>\n",
       "  </thead>\n",
       "  <tbody>\n",
       "    <tr>\n",
       "      <th>1001</th>\n",
       "      <td>Ana Petrova</td>\n",
       "      <td>Book</td>\n",
       "      <td>15.99</td>\n",
       "    </tr>\n",
       "    <tr>\n",
       "      <th>1002</th>\n",
       "      <td>Dimitar Ivanov</td>\n",
       "      <td>Laptop</td>\n",
       "      <td>1200.00</td>\n",
       "    </tr>\n",
       "    <tr>\n",
       "      <th>1003</th>\n",
       "      <td>Boris Popov</td>\n",
       "      <td>Pen</td>\n",
       "      <td>3.49</td>\n",
       "    </tr>\n",
       "    <tr>\n",
       "      <th>1004</th>\n",
       "      <td>Elena Georgieva</td>\n",
       "      <td>Notebook</td>\n",
       "      <td>7.99</td>\n",
       "    </tr>\n",
       "  </tbody>\n",
       "</table>\n",
       "</div>"
      ],
      "text/plain": [
       "         CustomerName   Product   Amount\n",
       "1001      Ana Petrova      Book    15.99\n",
       "1002   Dimitar Ivanov    Laptop  1200.00\n",
       "1003      Boris Popov       Pen     3.49\n",
       "1004  Elena Georgieva  Notebook     7.99"
      ]
     },
     "execution_count": 13,
     "metadata": {},
     "output_type": "execute_result"
    }
   ],
   "source": [
    "merged_df = pd.merge(orders_df, payments_df, left_index=True, right_index=True)\n",
    "merged_df"
   ]
  },
  {
   "cell_type": "markdown",
   "metadata": {},
   "source": [
    "#### <a id='toc1_4_2_2_'></a>[Using df.join()](#toc0_)\n",
    "\n",
    "[df.join()]([https://](https://pandas.pydata.org/pandas-docs/stable/reference/api/pandas.DataFrame.join.html))  is specifically designed for joining on indexes or joining on a key column in the left DataFrame and an index in the right DataFrame. It's a convenience method for merging that is suited to more straightforward join operations."
   ]
  },
  {
   "cell_type": "code",
   "execution_count": 14,
   "metadata": {},
   "outputs": [
    {
     "data": {
      "text/html": [
       "<div>\n",
       "<style scoped>\n",
       "    .dataframe tbody tr th:only-of-type {\n",
       "        vertical-align: middle;\n",
       "    }\n",
       "\n",
       "    .dataframe tbody tr th {\n",
       "        vertical-align: top;\n",
       "    }\n",
       "\n",
       "    .dataframe thead th {\n",
       "        text-align: right;\n",
       "    }\n",
       "</style>\n",
       "<table border=\"1\" class=\"dataframe\">\n",
       "  <thead>\n",
       "    <tr style=\"text-align: right;\">\n",
       "      <th></th>\n",
       "      <th>CustomerName</th>\n",
       "      <th>Product</th>\n",
       "      <th>Amount</th>\n",
       "    </tr>\n",
       "  </thead>\n",
       "  <tbody>\n",
       "    <tr>\n",
       "      <th>1001</th>\n",
       "      <td>Ana Petrova</td>\n",
       "      <td>Book</td>\n",
       "      <td>15.99</td>\n",
       "    </tr>\n",
       "    <tr>\n",
       "      <th>1002</th>\n",
       "      <td>Dimitar Ivanov</td>\n",
       "      <td>Laptop</td>\n",
       "      <td>1200.00</td>\n",
       "    </tr>\n",
       "    <tr>\n",
       "      <th>1003</th>\n",
       "      <td>Boris Popov</td>\n",
       "      <td>Pen</td>\n",
       "      <td>3.49</td>\n",
       "    </tr>\n",
       "    <tr>\n",
       "      <th>1004</th>\n",
       "      <td>Elena Georgieva</td>\n",
       "      <td>Notebook</td>\n",
       "      <td>7.99</td>\n",
       "    </tr>\n",
       "  </tbody>\n",
       "</table>\n",
       "</div>"
      ],
      "text/plain": [
       "         CustomerName   Product   Amount\n",
       "1001      Ana Petrova      Book    15.99\n",
       "1002   Dimitar Ivanov    Laptop  1200.00\n",
       "1003      Boris Popov       Pen     3.49\n",
       "1004  Elena Georgieva  Notebook     7.99"
      ]
     },
     "execution_count": 14,
     "metadata": {},
     "output_type": "execute_result"
    }
   ],
   "source": [
    "merged_df = orders_df.join(payments_df)\n",
    "merged_df"
   ]
  },
  {
   "cell_type": "markdown",
   "metadata": {},
   "source": [
    "## <a id='toc1_5_'></a>[Grouping data (Split-Apply-Combine)](#toc0_)\n",
    "\n",
    "The \"Split-Apply-Combine\" strategy offered by pandas through its groupby mechanism is a powerful approach for aggregating, summarizing, and transforming data. \n",
    "\n",
    "This strategy is especially useful when dealing with complex datasets that require integrated analysis across different segments or categories. \n",
    "\n",
    "The concept, originally described by Hadley Wickham, breaks down the data processing task into three distinct steps: \n",
    "- split the data into groups based on some criteria, \n",
    "- apply a function to each group independently, \n",
    "- combine the results back into a data structure.\n",
    "\n",
    "<img src=\"./images/split_apply_combine.png\" style=\"height:300px\">\n",
    "\n",
    "**Split**:\n",
    "\n",
    "The first step involves splitting the DataFrame into groups based on some key(s). The grouping can be done based on one or more columns, and pandas will essentially create a mapping of keys to groups of data based on the unique values in the specified columns.\n",
    "\n",
    "**Apply**:\n",
    "\n",
    "Once the data is split into groups, you can apply a function to each group independently. This function could be:\n",
    "- aggregation (e.g., sum, mean).\n",
    "- transformation (e.g., standardizing data within a group), \n",
    "- filter operation (e.g., removing data that doesn't meet certain criteria). This step is highly flexible and allows for complex data manipulation operations within each group.\n",
    "\n",
    "**Combine**:\n",
    "\n",
    "After processing each group, pandas combines the results into a new DataFrame or Series, depending on the operation performed. The combine step is handled automatically by pandas, ensuring the structure of the output is consistent and aligned with the input data."
   ]
  },
  {
   "cell_type": "markdown",
   "metadata": {},
   "source": [
    "### <a id='toc1_5_1_'></a>[Grouping by a single Column](#toc0_)\n",
    "\n",
    "When you group by a single column, pandas groups the data based on the unique values in that column. Each group consists of all rows in the DataFrame that share the same value in the grouping column."
   ]
  },
  {
   "cell_type": "code",
   "execution_count": 15,
   "metadata": {},
   "outputs": [
    {
     "data": {
      "text/html": [
       "<div>\n",
       "<style scoped>\n",
       "    .dataframe tbody tr th:only-of-type {\n",
       "        vertical-align: middle;\n",
       "    }\n",
       "\n",
       "    .dataframe tbody tr th {\n",
       "        vertical-align: top;\n",
       "    }\n",
       "\n",
       "    .dataframe thead th {\n",
       "        text-align: right;\n",
       "    }\n",
       "</style>\n",
       "<table border=\"1\" class=\"dataframe\">\n",
       "  <thead>\n",
       "    <tr style=\"text-align: right;\">\n",
       "      <th></th>\n",
       "      <th>Store</th>\n",
       "      <th>Department</th>\n",
       "      <th>Sales</th>\n",
       "    </tr>\n",
       "  </thead>\n",
       "  <tbody>\n",
       "    <tr>\n",
       "      <th>0</th>\n",
       "      <td>Store A</td>\n",
       "      <td>Electronics</td>\n",
       "      <td>1000</td>\n",
       "    </tr>\n",
       "    <tr>\n",
       "      <th>1</th>\n",
       "      <td>Store A</td>\n",
       "      <td>Clothing</td>\n",
       "      <td>500</td>\n",
       "    </tr>\n",
       "    <tr>\n",
       "      <th>2</th>\n",
       "      <td>Store B</td>\n",
       "      <td>Electronics</td>\n",
       "      <td>1500</td>\n",
       "    </tr>\n",
       "    <tr>\n",
       "      <th>3</th>\n",
       "      <td>Store B</td>\n",
       "      <td>Clothing</td>\n",
       "      <td>800</td>\n",
       "    </tr>\n",
       "    <tr>\n",
       "      <th>4</th>\n",
       "      <td>Store A</td>\n",
       "      <td>Electronics</td>\n",
       "      <td>1200</td>\n",
       "    </tr>\n",
       "  </tbody>\n",
       "</table>\n",
       "</div>"
      ],
      "text/plain": [
       "     Store   Department  Sales\n",
       "0  Store A  Electronics   1000\n",
       "1  Store A     Clothing    500\n",
       "2  Store B  Electronics   1500\n",
       "3  Store B     Clothing    800\n",
       "4  Store A  Electronics   1200"
      ]
     },
     "execution_count": 15,
     "metadata": {},
     "output_type": "execute_result"
    }
   ],
   "source": [
    "# Sample data\n",
    "data = {\n",
    "    'Store': ['Store A', 'Store A', 'Store B', 'Store B', 'Store A'],\n",
    "    'Department': ['Electronics', 'Clothing', 'Electronics', 'Clothing', 'Electronics'],\n",
    "    'Sales': [1000, 500, 1500, 800, 1200]\n",
    "}\n",
    "df = pd.DataFrame(data)\n",
    "df"
   ]
  },
  {
   "cell_type": "code",
   "execution_count": 16,
   "metadata": {},
   "outputs": [
    {
     "data": {
      "text/plain": [
       "{'Store A': [0, 1, 4], 'Store B': [2, 3]}"
      ]
     },
     "execution_count": 16,
     "metadata": {},
     "output_type": "execute_result"
    }
   ],
   "source": [
    "# Grouping by 'Store'\n",
    "grouped = df.groupby('Store')\n",
    "grouped.groups"
   ]
  },
  {
   "cell_type": "markdown",
   "metadata": {},
   "source": [
    "### <a id='toc1_5_2_'></a>[Grouping by list of columns](#toc0_)\n",
    "\n",
    "Grouping by a list of columns allows you to create multi-level (hierarchical) groups based on unique combinations of values across the specified columns. This is useful when you want to analyze your data based on multiple criteria simultaneously."
   ]
  },
  {
   "cell_type": "code",
   "execution_count": 17,
   "metadata": {},
   "outputs": [
    {
     "data": {
      "text/plain": [
       "{('Store A', 'Clothing'): [1], ('Store A', 'Electronics'): [0, 4], ('Store B', 'Clothing'): [3], ('Store B', 'Electronics'): [2]}"
      ]
     },
     "execution_count": 17,
     "metadata": {},
     "output_type": "execute_result"
    }
   ],
   "source": [
    "multi_grouped = df.groupby(['Store', 'Department'])\n",
    "multi_grouped.groups"
   ]
  },
  {
   "cell_type": "markdown",
   "metadata": {},
   "source": [
    "### <a id='toc1_5_3_'></a>[Group-specific aggregation.](#toc0_)\n",
    "\n",
    "An aggregation is a GroupBy operation that reduces the dimension of the grouping object. The result of an aggregation is a scalar value for each column in a group. \n",
    "\n",
    "Pandas provides several  [Built-in aggregation methods](https://pandas.pydata.org/docs/user_guide/groupby.html#built-in-aggregation-methods).\n",
    "\n",
    "Let's consider next scenario:\n",
    "\n",
    "A retail company operates stores in multiple regions, selling products in different categories. The management wants to understand the average sales figures broken down by region and store to identify which areas and stores are performing well and which might need attention.\n",
    "We have to group the data by Region and Store to analyze the average sales for each store in each region."
   ]
  },
  {
   "cell_type": "code",
   "execution_count": 18,
   "metadata": {},
   "outputs": [
    {
     "data": {
      "text/html": [
       "<div>\n",
       "<style scoped>\n",
       "    .dataframe tbody tr th:only-of-type {\n",
       "        vertical-align: middle;\n",
       "    }\n",
       "\n",
       "    .dataframe tbody tr th {\n",
       "        vertical-align: top;\n",
       "    }\n",
       "\n",
       "    .dataframe thead th {\n",
       "        text-align: right;\n",
       "    }\n",
       "</style>\n",
       "<table border=\"1\" class=\"dataframe\">\n",
       "  <thead>\n",
       "    <tr style=\"text-align: right;\">\n",
       "      <th></th>\n",
       "      <th>Region</th>\n",
       "      <th>Store</th>\n",
       "      <th>Category</th>\n",
       "      <th>Sales</th>\n",
       "    </tr>\n",
       "  </thead>\n",
       "  <tbody>\n",
       "    <tr>\n",
       "      <th>0</th>\n",
       "      <td>North</td>\n",
       "      <td>One</td>\n",
       "      <td>Electronics</td>\n",
       "      <td>1000</td>\n",
       "    </tr>\n",
       "    <tr>\n",
       "      <th>4</th>\n",
       "      <td>North</td>\n",
       "      <td>One</td>\n",
       "      <td>Home Goods</td>\n",
       "      <td>900</td>\n",
       "    </tr>\n",
       "    <tr>\n",
       "      <th>1</th>\n",
       "      <td>North</td>\n",
       "      <td>Two</td>\n",
       "      <td>Clothing</td>\n",
       "      <td>1500</td>\n",
       "    </tr>\n",
       "    <tr>\n",
       "      <th>2</th>\n",
       "      <td>South</td>\n",
       "      <td>One</td>\n",
       "      <td>Electronics</td>\n",
       "      <td>750</td>\n",
       "    </tr>\n",
       "    <tr>\n",
       "      <th>3</th>\n",
       "      <td>South</td>\n",
       "      <td>Two</td>\n",
       "      <td>Clothing</td>\n",
       "      <td>1250</td>\n",
       "    </tr>\n",
       "    <tr>\n",
       "      <th>5</th>\n",
       "      <td>South</td>\n",
       "      <td>Two</td>\n",
       "      <td>Home Goods</td>\n",
       "      <td>1100</td>\n",
       "    </tr>\n",
       "  </tbody>\n",
       "</table>\n",
       "</div>"
      ],
      "text/plain": [
       "  Region Store     Category  Sales\n",
       "0  North   One  Electronics   1000\n",
       "4  North   One   Home Goods    900\n",
       "1  North   Two     Clothing   1500\n",
       "2  South   One  Electronics    750\n",
       "3  South   Two     Clothing   1250\n",
       "5  South   Two   Home Goods   1100"
      ]
     },
     "execution_count": 18,
     "metadata": {},
     "output_type": "execute_result"
    }
   ],
   "source": [
    "# Sample data\n",
    "data = {\n",
    "    'Region': ['North', 'North', 'South', 'South', 'North', 'South'],\n",
    "    'Store': ['One', 'Two', 'One', 'Two', 'One', 'Two'],\n",
    "    'Category': ['Electronics', 'Clothing', 'Electronics', 'Clothing', 'Home Goods', 'Home Goods'],\n",
    "    'Sales': [1000, 1500, 750, 1250, 900, 1100]\n",
    "}\n",
    "df = pd.DataFrame(data)\n",
    "\n",
    "# output data sorted by 'Region', 'Store'\n",
    "df.sort_values(by=['Region', 'Store'])"
   ]
  },
  {
   "cell_type": "code",
   "execution_count": 19,
   "metadata": {},
   "outputs": [
    {
     "data": {
      "text/plain": [
       "Region  Store\n",
       "North   One       950.0\n",
       "        Two      1500.0\n",
       "South   One       750.0\n",
       "        Two      1175.0\n",
       "Name: Sales, dtype: float64"
      ]
     },
     "execution_count": 19,
     "metadata": {},
     "output_type": "execute_result"
    }
   ],
   "source": [
    "# Multi-level grouping\n",
    "grouped = df.groupby(['Region', 'Store'])\n",
    "\n",
    "# Calculating the average sales\n",
    "average_sales = grouped['Sales'].mean()\n",
    "average_sales"
   ]
  },
  {
   "cell_type": "markdown",
   "metadata": {},
   "source": [
    "The output is a Series with a hierarchical index (MultiIndex).\n",
    "\n",
    "You can use the .reset_index() method to convert the hierarchical index (MultiIndex) created by the multi-level group into regular columns, effectively turning the Series into a DataFrame."
   ]
  },
  {
   "cell_type": "code",
   "execution_count": 20,
   "metadata": {},
   "outputs": [
    {
     "data": {
      "text/html": [
       "<div>\n",
       "<style scoped>\n",
       "    .dataframe tbody tr th:only-of-type {\n",
       "        vertical-align: middle;\n",
       "    }\n",
       "\n",
       "    .dataframe tbody tr th {\n",
       "        vertical-align: top;\n",
       "    }\n",
       "\n",
       "    .dataframe thead th {\n",
       "        text-align: right;\n",
       "    }\n",
       "</style>\n",
       "<table border=\"1\" class=\"dataframe\">\n",
       "  <thead>\n",
       "    <tr style=\"text-align: right;\">\n",
       "      <th></th>\n",
       "      <th>Region</th>\n",
       "      <th>Store</th>\n",
       "      <th>Sales</th>\n",
       "    </tr>\n",
       "  </thead>\n",
       "  <tbody>\n",
       "    <tr>\n",
       "      <th>0</th>\n",
       "      <td>North</td>\n",
       "      <td>One</td>\n",
       "      <td>950.0</td>\n",
       "    </tr>\n",
       "    <tr>\n",
       "      <th>1</th>\n",
       "      <td>North</td>\n",
       "      <td>Two</td>\n",
       "      <td>1500.0</td>\n",
       "    </tr>\n",
       "    <tr>\n",
       "      <th>2</th>\n",
       "      <td>South</td>\n",
       "      <td>One</td>\n",
       "      <td>750.0</td>\n",
       "    </tr>\n",
       "    <tr>\n",
       "      <th>3</th>\n",
       "      <td>South</td>\n",
       "      <td>Two</td>\n",
       "      <td>1175.0</td>\n",
       "    </tr>\n",
       "  </tbody>\n",
       "</table>\n",
       "</div>"
      ],
      "text/plain": [
       "  Region Store   Sales\n",
       "0  North   One   950.0\n",
       "1  North   Two  1500.0\n",
       "2  South   One   750.0\n",
       "3  South   Two  1175.0"
      ]
     },
     "execution_count": 20,
     "metadata": {},
     "output_type": "execute_result"
    }
   ],
   "source": [
    "average_sales.reset_index()"
   ]
  },
  {
   "cell_type": "markdown",
   "metadata": {},
   "source": [
    "### <a id='toc1_5_4_'></a>[Group-specific transformations.](#toc0_)\n",
    "\n",
    "A transformation is a GroupBy operation whose result is indexed the same as the one being grouped\n",
    "\n",
    "Pandas has several [built-in transformation methods](https://pandas.pydata.org/docs/user_guide/groupby.html#built-in-transformation-methods) which works on groups. \n",
    "\n",
    "We can define our custom transformation using the [ transform() method](https://pandas.pydata.org/docs/user_guide/groupby.html#the-transform-method).\n",
    "\n",
    "\n",
    "Let's consider nex example: a dataset containing test scores from students in different classes. Some of the scores are missing, and we want to fill these missing values with the average score of each respective class, rather than using the overall average.\n"
   ]
  },
  {
   "cell_type": "code",
   "metadata": {
    "ExecuteTime": {
     "end_time": "2024-07-20T06:53:16.022361Z",
     "start_time": "2024-07-20T06:53:16.016003Z"
    }
   },
   "source": [
    "# Sample data: Student scores from different classes, with some missing values\n",
    "data = {\n",
    "    'Class': ['A', 'A', 'B', 'B', 'A', 'B'],\n",
    "    'StudentID': [1, 2, 3, 4, 5, 6],\n",
    "    'Score': [88, np.nan, 75, np.nan, 92, 85]\n",
    "}\n",
    "df = pd.DataFrame(data)\n",
    "df"
   ],
   "outputs": [
    {
     "data": {
      "text/plain": [
       "  Class  StudentID  Score\n",
       "0     A          1   88.0\n",
       "1     A          2    NaN\n",
       "2     B          3   75.0\n",
       "3     B          4    NaN\n",
       "4     A          5   92.0\n",
       "5     B          6   85.0"
      ],
      "text/html": [
       "<div>\n",
       "<style scoped>\n",
       "    .dataframe tbody tr th:only-of-type {\n",
       "        vertical-align: middle;\n",
       "    }\n",
       "\n",
       "    .dataframe tbody tr th {\n",
       "        vertical-align: top;\n",
       "    }\n",
       "\n",
       "    .dataframe thead th {\n",
       "        text-align: right;\n",
       "    }\n",
       "</style>\n",
       "<table border=\"1\" class=\"dataframe\">\n",
       "  <thead>\n",
       "    <tr style=\"text-align: right;\">\n",
       "      <th></th>\n",
       "      <th>Class</th>\n",
       "      <th>StudentID</th>\n",
       "      <th>Score</th>\n",
       "    </tr>\n",
       "  </thead>\n",
       "  <tbody>\n",
       "    <tr>\n",
       "      <th>0</th>\n",
       "      <td>A</td>\n",
       "      <td>1</td>\n",
       "      <td>88.0</td>\n",
       "    </tr>\n",
       "    <tr>\n",
       "      <th>1</th>\n",
       "      <td>A</td>\n",
       "      <td>2</td>\n",
       "      <td>NaN</td>\n",
       "    </tr>\n",
       "    <tr>\n",
       "      <th>2</th>\n",
       "      <td>B</td>\n",
       "      <td>3</td>\n",
       "      <td>75.0</td>\n",
       "    </tr>\n",
       "    <tr>\n",
       "      <th>3</th>\n",
       "      <td>B</td>\n",
       "      <td>4</td>\n",
       "      <td>NaN</td>\n",
       "    </tr>\n",
       "    <tr>\n",
       "      <th>4</th>\n",
       "      <td>A</td>\n",
       "      <td>5</td>\n",
       "      <td>92.0</td>\n",
       "    </tr>\n",
       "    <tr>\n",
       "      <th>5</th>\n",
       "      <td>B</td>\n",
       "      <td>6</td>\n",
       "      <td>85.0</td>\n",
       "    </tr>\n",
       "  </tbody>\n",
       "</table>\n",
       "</div>"
      ]
     },
     "execution_count": 12,
     "metadata": {},
     "output_type": "execute_result"
    }
   ],
   "execution_count": 12
  },
  {
   "cell_type": "code",
   "execution_count": 22,
   "metadata": {},
   "outputs": [
    {
     "data": {
      "text/html": [
       "<div>\n",
       "<style scoped>\n",
       "    .dataframe tbody tr th:only-of-type {\n",
       "        vertical-align: middle;\n",
       "    }\n",
       "\n",
       "    .dataframe tbody tr th {\n",
       "        vertical-align: top;\n",
       "    }\n",
       "\n",
       "    .dataframe thead th {\n",
       "        text-align: right;\n",
       "    }\n",
       "</style>\n",
       "<table border=\"1\" class=\"dataframe\">\n",
       "  <thead>\n",
       "    <tr style=\"text-align: right;\">\n",
       "      <th></th>\n",
       "      <th>Class</th>\n",
       "      <th>StudentID</th>\n",
       "      <th>Score</th>\n",
       "      <th>Cleaned Score</th>\n",
       "    </tr>\n",
       "  </thead>\n",
       "  <tbody>\n",
       "    <tr>\n",
       "      <th>0</th>\n",
       "      <td>A</td>\n",
       "      <td>1</td>\n",
       "      <td>88.0</td>\n",
       "      <td>88.0</td>\n",
       "    </tr>\n",
       "    <tr>\n",
       "      <th>1</th>\n",
       "      <td>A</td>\n",
       "      <td>2</td>\n",
       "      <td>NaN</td>\n",
       "      <td>90.0</td>\n",
       "    </tr>\n",
       "    <tr>\n",
       "      <th>2</th>\n",
       "      <td>B</td>\n",
       "      <td>3</td>\n",
       "      <td>75.0</td>\n",
       "      <td>75.0</td>\n",
       "    </tr>\n",
       "    <tr>\n",
       "      <th>3</th>\n",
       "      <td>B</td>\n",
       "      <td>4</td>\n",
       "      <td>NaN</td>\n",
       "      <td>80.0</td>\n",
       "    </tr>\n",
       "    <tr>\n",
       "      <th>4</th>\n",
       "      <td>A</td>\n",
       "      <td>5</td>\n",
       "      <td>92.0</td>\n",
       "      <td>92.0</td>\n",
       "    </tr>\n",
       "    <tr>\n",
       "      <th>5</th>\n",
       "      <td>B</td>\n",
       "      <td>6</td>\n",
       "      <td>85.0</td>\n",
       "      <td>85.0</td>\n",
       "    </tr>\n",
       "  </tbody>\n",
       "</table>\n",
       "</div>"
      ],
      "text/plain": [
       "  Class  StudentID  Score  Cleaned Score\n",
       "0     A          1   88.0           88.0\n",
       "1     A          2    NaN           90.0\n",
       "2     B          3   75.0           75.0\n",
       "3     B          4    NaN           80.0\n",
       "4     A          5   92.0           92.0\n",
       "5     B          6   85.0           85.0"
      ]
     },
     "execution_count": 22,
     "metadata": {},
     "output_type": "execute_result"
    }
   ],
   "source": [
    "# Group by 'Class' and fill NaN values with the mean score of each class\n",
    "df['Cleaned Score'] = df.groupby('Class')['Score'].transform(lambda x: x.fillna(x.mean()))\n",
    "df"
   ]
  },
  {
   "cell_type": "markdown",
   "metadata": {},
   "source": [
    "### <a id='toc1_5_5_'></a>[Group-specific filterations](#toc0_)\n",
    "\n",
    "A filtration is a GroupBy operation that subsets the original grouping object. It may either filter out entire groups, part of groups, or both.\n",
    "\n",
    "This can be particularly useful when you want to analyze subsets of your data that meet certain criteria within each group.\n",
    "\n",
    "Let's say we have a dataset containing sales data from various stores, each belonging to a different region. Our goal is to filter out stores in region that have a total sales figure above 2000 units sold. This will help us focus on higher-performing stores for further analysis."
   ]
  },
  {
   "cell_type": "code",
   "metadata": {
    "ExecuteTime": {
     "end_time": "2024-07-20T06:54:38.343545Z",
     "start_time": "2024-07-20T06:54:38.337309Z"
    }
   },
   "source": [
    "# Sample data\n",
    "data = {\n",
    "    'Region': ['North', 'North', 'South', 'South', 'East', 'East'],\n",
    "    'Store': ['Store A', 'Store B', 'Store C', 'Store D', 'Store E', 'Store F'],\n",
    "    'Sales': [950, 1100, 550, 1250, 1750, 600]\n",
    "}\n",
    "df = pd.DataFrame(data)\n",
    "df"
   ],
   "outputs": [
    {
     "data": {
      "text/plain": [
       "  Region    Store  Sales\n",
       "0  North  Store A    950\n",
       "1  North  Store B   1100\n",
       "2  South  Store C    550\n",
       "3  South  Store D   1250\n",
       "4   East  Store E   1750\n",
       "5   East  Store F    600"
      ],
      "text/html": [
       "<div>\n",
       "<style scoped>\n",
       "    .dataframe tbody tr th:only-of-type {\n",
       "        vertical-align: middle;\n",
       "    }\n",
       "\n",
       "    .dataframe tbody tr th {\n",
       "        vertical-align: top;\n",
       "    }\n",
       "\n",
       "    .dataframe thead th {\n",
       "        text-align: right;\n",
       "    }\n",
       "</style>\n",
       "<table border=\"1\" class=\"dataframe\">\n",
       "  <thead>\n",
       "    <tr style=\"text-align: right;\">\n",
       "      <th></th>\n",
       "      <th>Region</th>\n",
       "      <th>Store</th>\n",
       "      <th>Sales</th>\n",
       "    </tr>\n",
       "  </thead>\n",
       "  <tbody>\n",
       "    <tr>\n",
       "      <th>0</th>\n",
       "      <td>North</td>\n",
       "      <td>Store A</td>\n",
       "      <td>950</td>\n",
       "    </tr>\n",
       "    <tr>\n",
       "      <th>1</th>\n",
       "      <td>North</td>\n",
       "      <td>Store B</td>\n",
       "      <td>1100</td>\n",
       "    </tr>\n",
       "    <tr>\n",
       "      <th>2</th>\n",
       "      <td>South</td>\n",
       "      <td>Store C</td>\n",
       "      <td>550</td>\n",
       "    </tr>\n",
       "    <tr>\n",
       "      <th>3</th>\n",
       "      <td>South</td>\n",
       "      <td>Store D</td>\n",
       "      <td>1250</td>\n",
       "    </tr>\n",
       "    <tr>\n",
       "      <th>4</th>\n",
       "      <td>East</td>\n",
       "      <td>Store E</td>\n",
       "      <td>1750</td>\n",
       "    </tr>\n",
       "    <tr>\n",
       "      <th>5</th>\n",
       "      <td>East</td>\n",
       "      <td>Store F</td>\n",
       "      <td>600</td>\n",
       "    </tr>\n",
       "  </tbody>\n",
       "</table>\n",
       "</div>"
      ]
     },
     "execution_count": 13,
     "metadata": {},
     "output_type": "execute_result"
    }
   ],
   "execution_count": 13
  },
  {
   "cell_type": "code",
   "execution_count": 24,
   "metadata": {},
   "outputs": [
    {
     "data": {
      "text/html": [
       "<div>\n",
       "<style scoped>\n",
       "    .dataframe tbody tr th:only-of-type {\n",
       "        vertical-align: middle;\n",
       "    }\n",
       "\n",
       "    .dataframe tbody tr th {\n",
       "        vertical-align: top;\n",
       "    }\n",
       "\n",
       "    .dataframe thead th {\n",
       "        text-align: right;\n",
       "    }\n",
       "</style>\n",
       "<table border=\"1\" class=\"dataframe\">\n",
       "  <thead>\n",
       "    <tr style=\"text-align: right;\">\n",
       "      <th></th>\n",
       "      <th>Region</th>\n",
       "      <th>Store</th>\n",
       "      <th>Sales</th>\n",
       "    </tr>\n",
       "  </thead>\n",
       "  <tbody>\n",
       "    <tr>\n",
       "      <th>0</th>\n",
       "      <td>North</td>\n",
       "      <td>Store A</td>\n",
       "      <td>950</td>\n",
       "    </tr>\n",
       "    <tr>\n",
       "      <th>1</th>\n",
       "      <td>North</td>\n",
       "      <td>Store B</td>\n",
       "      <td>1100</td>\n",
       "    </tr>\n",
       "    <tr>\n",
       "      <th>4</th>\n",
       "      <td>East</td>\n",
       "      <td>Store E</td>\n",
       "      <td>1750</td>\n",
       "    </tr>\n",
       "    <tr>\n",
       "      <th>5</th>\n",
       "      <td>East</td>\n",
       "      <td>Store F</td>\n",
       "      <td>600</td>\n",
       "    </tr>\n",
       "  </tbody>\n",
       "</table>\n",
       "</div>"
      ],
      "text/plain": [
       "  Region    Store  Sales\n",
       "0  North  Store A    950\n",
       "1  North  Store B   1100\n",
       "4   East  Store E   1750\n",
       "5   East  Store F    600"
      ]
     },
     "execution_count": 24,
     "metadata": {},
     "output_type": "execute_result"
    }
   ],
   "source": [
    "# Apply group-specific filtering\n",
    "filtered_df = df.groupby('Region').filter(lambda group: group['Sales'].sum() > 2000)\n",
    "filtered_df"
   ]
  },
  {
   "metadata": {
    "ExecuteTime": {
     "end_time": "2024-07-20T06:56:18.698414Z",
     "start_time": "2024-07-20T06:56:18.695921Z"
    }
   },
   "cell_type": "code",
   "source": "from datetime import datetime as dt",
   "outputs": [],
   "execution_count": 14
  },
  {
   "metadata": {
    "ExecuteTime": {
     "end_time": "2024-07-20T07:00:35.299182Z",
     "start_time": "2024-07-20T07:00:35.294698Z"
    }
   },
   "cell_type": "code",
   "source": [
    "date_string = \"2021-10-04\"\n",
    "\n",
    "date_object = dt.strptime(date_string, '%Y-%m-%d')\n",
    "date_object\n",
    "\n",
    "date_object_formated = date_object.strftime('%Y-%b-%d')\n",
    "date_object_formated"
   ],
   "outputs": [
    {
     "data": {
      "text/plain": [
       "'2021-Oct-04'"
      ]
     },
     "execution_count": 18,
     "metadata": {},
     "output_type": "execute_result"
    }
   ],
   "execution_count": 18
  },
  {
   "metadata": {
    "ExecuteTime": {
     "end_time": "2024-07-20T07:03:58.886746Z",
     "start_time": "2024-07-20T07:03:58.881679Z"
    }
   },
   "cell_type": "code",
   "source": [
    "data = {\n",
    "    'Group': ['A', 'A', 'B', 'B', 'A', 'B'],\n",
    "    'Value': [10, 20, 15, np.nan, 30, 25]\n",
    "}\n",
    "\n",
    "df = pd.DataFrame(data)\n",
    "print(df)"
   ],
   "outputs": [
    {
     "name": "stdout",
     "output_type": "stream",
     "text": [
      "  Group  Value\n",
      "0     A   10.0\n",
      "1     A   20.0\n",
      "2     B   15.0\n",
      "3     B    NaN\n",
      "4     A   30.0\n",
      "5     B   25.0\n"
     ]
    }
   ],
   "execution_count": 19
  },
  {
   "metadata": {
    "ExecuteTime": {
     "end_time": "2024-07-20T07:04:32.220216Z",
     "start_time": "2024-07-20T07:04:32.217139Z"
    }
   },
   "cell_type": "code",
   "source": [
    "def fill_with_group_mean(group):\n",
    "    group_mean = group.mean()\n",
    "    return group.fillna(group_mean)"
   ],
   "outputs": [],
   "execution_count": 20
  },
  {
   "metadata": {
    "ExecuteTime": {
     "end_time": "2024-07-20T07:04:50.521112Z",
     "start_time": "2024-07-20T07:04:50.515929Z"
    }
   },
   "cell_type": "code",
   "source": [
    "df['Filled_Value'] = df.groupby('Group')['Value'].transform(fill_with_group_mean)\n",
    "print(df)"
   ],
   "outputs": [
    {
     "name": "stdout",
     "output_type": "stream",
     "text": [
      "  Group  Value  Filled_Value\n",
      "0     A   10.0          10.0\n",
      "1     A   20.0          20.0\n",
      "2     B   15.0          15.0\n",
      "3     B    NaN          20.0\n",
      "4     A   30.0          30.0\n",
      "5     B   25.0          25.0\n"
     ]
    }
   ],
   "execution_count": 22
  },
  {
   "metadata": {
    "ExecuteTime": {
     "end_time": "2024-07-20T07:18:10.573833Z",
     "start_time": "2024-07-20T07:18:10.567522Z"
    }
   },
   "cell_type": "code",
   "source": [
    "# Correct approach to apply a condition to each element within each group\n",
    "df['Max_Value'] = df.groupby('Group')['Value'].transform(lambda x: x.where(x < 10, 100))\n",
    "\n",
    "print(df)"
   ],
   "outputs": [
    {
     "name": "stdout",
     "output_type": "stream",
     "text": [
      "  Group  Value  Filled_Value  Max_Value\n",
      "0     A   10.0          10.0      100.0\n",
      "1     A   20.0          20.0      100.0\n",
      "2     B   15.0          15.0      100.0\n",
      "3     B    NaN          20.0      100.0\n",
      "4     A   30.0          30.0      100.0\n",
      "5     B   25.0          25.0      100.0\n"
     ]
    }
   ],
   "execution_count": 34
  },
  {
   "metadata": {
    "ExecuteTime": {
     "end_time": "2024-07-20T07:19:19.408340Z",
     "start_time": "2024-07-20T07:19:19.403812Z"
    }
   },
   "cell_type": "code",
   "source": "df.Value.sort_values()",
   "outputs": [
    {
     "data": {
      "text/plain": [
       "0    10.0\n",
       "2    15.0\n",
       "1    20.0\n",
       "5    25.0\n",
       "4    30.0\n",
       "3     NaN\n",
       "Name: Value, dtype: float64"
      ]
     },
     "execution_count": 36,
     "metadata": {},
     "output_type": "execute_result"
    }
   ],
   "execution_count": 36
  }
 ],
 "metadata": {
  "kernelspec": {
   "display_name": ".venv",
   "language": "python",
   "name": "python3"
  },
  "language_info": {
   "codemirror_mode": {
    "name": "ipython",
    "version": 3
   },
   "file_extension": ".py",
   "mimetype": "text/x-python",
   "name": "python",
   "nbconvert_exporter": "python",
   "pygments_lexer": "ipython3",
   "version": "3.12.0"
  }
 },
 "nbformat": 4,
 "nbformat_minor": 2
}
