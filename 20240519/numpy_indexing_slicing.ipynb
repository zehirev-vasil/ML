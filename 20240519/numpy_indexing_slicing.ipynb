{
 "cells": [
  {
   "cell_type": "code",
   "metadata": {
    "ExecuteTime": {
     "end_time": "2024-07-13T10:33:41.987193Z",
     "start_time": "2024-07-13T10:33:41.782015Z"
    }
   },
   "source": [
    "import numpy as np"
   ],
   "outputs": [],
   "execution_count": 1
  },
  {
   "cell_type": "markdown",
   "metadata": {},
   "source": [
    "## Indexing and slicing"
   ]
  },
  {
   "cell_type": "markdown",
   "metadata": {},
   "source": [
    "### One-dimensional Array Indexing and Slicing\n",
    "\n",
    "\n",
    "**Indexing Syntax**: array[n]\n",
    "\n",
    "n >= 0 => get n+1 element, from left to right\n",
    "\n",
    "n <= -1 => get n element, from right to left \n",
    "\n",
    "\n",
    "**Slicing Syntax**: array[start:stop:step]\n",
    "\n",
    "start = index of start element. Default = beginning of array.\n",
    "\n",
    "stop -1 = index of last element. Default = end of array (inclusive)\n",
    "\n",
    "step   = the step to increment indexes on slice. Optional. Default 1.\n",
    "\n",
    "<img src=\"./images/1Darray-slice.png\" alt=\"1d_2d_3d_arrays.png\" style=\"height: 300px;\">"
   ]
  },
  {
   "cell_type": "code",
   "metadata": {
    "ExecuteTime": {
     "end_time": "2024-07-13T10:34:29.750282Z",
     "start_time": "2024-07-13T10:34:29.744573Z"
    }
   },
   "source": [
    "a1 = np.arange(1,10)\n",
    "print(f'a1: {a1}')\n",
    "\n",
    "print(\"\\npositive index - from left to right\")\n",
    "print(f'a[1]: {a1[1]}')\n",
    "\n",
    "print(\"\\nnegative index - from right to left\")\n",
    "print(f'a[-1]: {a1[-1]}')\n",
    "\n",
    "print(\"\\nget elements with indexes 0 up to 3 (excluded)\")\n",
    "print(f'a[0:3]: {a1[0:3]}')\n",
    "\n",
    "print(\"\\nget all elements\")\n",
    "print(f'a[::]: {a1[::]}')\n",
    "\n",
    "print(\"\\nget all elements, without the last one\")\n",
    "print(f'a[:-1]: {a1[:-1]}')\n",
    "\n",
    "print(\"\\nslicing with step\")\n",
    "print(f'a[::2]: {a1[::2]}')\n",
    "\n",
    "print(\"\\nslicing with step - backwards\")\n",
    "print(f'a[::-2]: {a1[::-2]}')\n",
    "\n",
    "print(\"\\nreverse array\")\n",
    "print(f'a[::-1]: {a1[::-1]}')"
   ],
   "outputs": [
    {
     "name": "stdout",
     "output_type": "stream",
     "text": [
      "a1: [1 2 3 4 5 6 7 8 9]\n",
      "\n",
      "positive index - from left to right\n",
      "a[1]: 2\n",
      "\n",
      "negative index - from right to left\n",
      "a[-1]: 9\n",
      "\n",
      "get elements with indexes 0 up to 3 (excluded)\n",
      "a[0:3]: [1 2 3]\n",
      "\n",
      "get all elements\n",
      "a[::]: [1 2 3 4 5 6 7 8 9]\n",
      "\n",
      "get all elements, without the last one\n",
      "a[:-1]: [1 2 3 4 5 6 7 8]\n",
      "\n",
      "slicing with step\n",
      "a[::2]: [1 3 5 7 9]\n",
      "\n",
      "slicing with step - backwards\n",
      "a[::-2]: [9 7 5 3 1]\n",
      "\n",
      "reverse array\n",
      "a[::-1]: [9 8 7 6 5 4 3 2 1]\n"
     ]
    }
   ],
   "execution_count": 2
  },
  {
   "cell_type": "markdown",
   "metadata": {},
   "source": [
    "### Multi dimensional arrays indexing and slicing\n",
    "\n",
    "\n",
    "**Indexing Syntax**: matrix[i,j]\n",
    "\n",
    "i - index rows\n",
    "\n",
    "j - index columns\n",
    "\n",
    "\n",
    "\n",
    "**Slicing Syntax:**: matrix[start:stop:step, start:stop:step]"
   ]
  },
  {
   "cell_type": "code",
   "metadata": {
    "ExecuteTime": {
     "end_time": "2024-07-13T10:54:23.704108Z",
     "start_time": "2024-07-13T10:54:23.700210Z"
    }
   },
   "source": [
    "# let's have next 2D array:\n",
    "arr = np.arange(12).reshape(3, 4)\n",
    "\n",
    "print(f'arr:\\n{arr}')\n",
    "\n",
    "\n",
    "# print(\"\\nSlice the first row\")\n",
    "# print(arr[0,:])\n",
    "\n",
    "print(\"\\nSlice the first column\")\n",
    "print(arr[:,1])\n",
    "\n",
    "print(\"\\nSlice first 2 rows and 2 columns\")\n",
    "print(arr[0:2, 1]) \n",
    "\n",
    "print(arr.shape[1])\n",
    "\n",
    "print(\"\\nSlice the corner elements\")\n",
    "print(arr[::arr.shape[0]-1, ::arr.shape[1]-1])\n",
    " "
   ],
   "outputs": [
    {
     "name": "stdout",
     "output_type": "stream",
     "text": [
      "arr:\n",
      "[[ 0  1  2  3]\n",
      " [ 4  5  6  7]\n",
      " [ 8  9 10 11]]\n",
      "\n",
      "Slice the first column\n",
      "[1 5 9]\n",
      "\n",
      "Slice first 2 rows and 2 columns\n",
      "[1 5]\n",
      "4\n",
      "\n",
      "Slice the corner elements\n",
      "[[ 0  3]\n",
      " [ 8 11]]\n"
     ]
    }
   ],
   "execution_count": 43
  },
  {
   "cell_type": "markdown",
   "metadata": {},
   "source": [
    "## Advanced Indexing \n",
    "\n",
    "Numpy's advanced indexing allows you to access elements of an array using non-standard indexing techniques, offering greater flexibility than basic slicing. \n",
    "There are two types of advanced indexing: integer and boolean.\n",
    "\n"
   ]
  },
  {
   "cell_type": "markdown",
   "metadata": {},
   "source": [
    "### Boolean indexing\n",
    "\n",
    "We can select certain values from a numpy array, if we mask (filter) it with a Boolean array (True/False values) with the **same shape** as the original array."
   ]
  },
  {
   "cell_type": "code",
   "execution_count": 4,
   "metadata": {},
   "outputs": [
    {
     "name": "stdout",
     "output_type": "stream",
     "text": [
      "a: [1 2 3 4 5]\n",
      "masked: [1 2 4]\n"
     ]
    }
   ],
   "source": [
    "# let's have next array:\n",
    "a = np.arange(1,6)\n",
    "print(f'a: {a}')\n",
    "\n",
    "# this is the filter mask:\n",
    "mask = [True, True, False, True, False]\n",
    "\n",
    "# apply the filter as index, and get only the elements for which the mask is True:\n",
    "print(f'masked: {a[mask]}')"
   ]
  },
  {
   "cell_type": "markdown",
   "metadata": {},
   "source": [
    "#### Masking example 1 : select only the even values"
   ]
  },
  {
   "cell_type": "code",
   "metadata": {
    "ExecuteTime": {
     "end_time": "2024-07-13T10:55:30.635373Z",
     "start_time": "2024-07-13T10:55:30.630015Z"
    }
   },
   "source": [
    "# let's have next array:\n",
    "a = np.arange(1,20)\n",
    "print(f'a: {a}')\n",
    "\n",
    "# and get only even numbers from it:\n",
    "mask = a%2==0\n",
    "print(mask)\n",
    "a[mask]"
   ],
   "outputs": [
    {
     "name": "stdout",
     "output_type": "stream",
     "text": [
      "a: [ 1  2  3  4  5  6  7  8  9 10 11 12 13 14 15 16 17 18 19]\n",
      "[False  True False  True False  True False  True False  True False  True\n",
      " False  True False  True False  True False]\n"
     ]
    },
    {
     "data": {
      "text/plain": [
       "array([ 2,  4,  6,  8, 10, 12, 14, 16, 18])"
      ]
     },
     "execution_count": 46,
     "metadata": {},
     "output_type": "execute_result"
    }
   ],
   "execution_count": 46
  },
  {
   "cell_type": "markdown",
   "metadata": {},
   "source": [
    "How it works:\n",
    "\n",
    "a%2 is calculated for each element of the array.\n",
    "\n",
    "If result value, which serves as index, is True => the element is selected, \n",
    "if it is False the element is not selected "
   ]
  },
  {
   "cell_type": "markdown",
   "metadata": {},
   "source": [
    "#### Masking example 2 : group 'scores' by category\n",
    "\n",
    "Let's have an array of 'scores', and for each score we'll have to assign a category from a predefined list.\n",
    "The goal is to group scores (first column) under 'bad' and 'good' categories, based on the second column."
   ]
  },
  {
   "cell_type": "code",
   "metadata": {
    "ExecuteTime": {
     "end_time": "2024-07-13T10:57:58.047536Z",
     "start_time": "2024-07-13T10:57:58.043684Z"
    }
   },
   "source": [
    "# Define the scores array\n",
    "scores = np.array([\n",
    "    [4, 1],\n",
    "    [2, 0],\n",
    "    [3, 0],\n",
    "    [5, 1],\n",
    "    [6, 1]\n",
    "])\n",
    "\n",
    "# Define the categories\n",
    "categories = ['bad', 'good']\n",
    "print(scores[:, 1] == 1)\n",
    "# Extract the indices for each category\n",
    "bad_mask = scores[:, 1] == 0\n",
    "good_mask = scores[:, 1] == 1\n",
    "\n",
    "# Group scores by 'good' category\n",
    "good_scores = scores[good_mask, 0]\n",
    "\n",
    "# Group scores by 'bad' category\n",
    "bad_scores = scores[bad_mask, 0]\n",
    "\n",
    "# Print the results\n",
    "# print(f\"Scores in 'good' category: {good_scores}\")\n",
    "# print(f\"Scores in 'bad' category: {bad_scores}\")"
   ],
   "outputs": [
    {
     "name": "stdout",
     "output_type": "stream",
     "text": [
      "[ True False False  True  True]\n"
     ]
    }
   ],
   "execution_count": 50
  },
  {
   "cell_type": "markdown",
   "metadata": {},
   "source": [
    "### Integer Array Indexing:\n",
    "\n",
    "Integer array indexing allows selection of arbitrary items in the array.\n",
    "\n",
    "#### Example: use a list of integers as indices to select elements from an array"
   ]
  },
  {
   "cell_type": "code",
   "metadata": {
    "ExecuteTime": {
     "end_time": "2024-07-13T10:59:10.294419Z",
     "start_time": "2024-07-13T10:59:10.290714Z"
    }
   },
   "source": [
    "a = np.array([10, 20, 30, 40])\n",
    "print(a[[0,2]])\n",
    "\n"
   ],
   "outputs": [
    {
     "name": "stdout",
     "output_type": "stream",
     "text": [
      "[10 30]\n"
     ]
    }
   ],
   "execution_count": 52
  },
  {
   "cell_type": "markdown",
   "metadata": {},
   "source": [
    "#### Example: map list elements to array of indexes\n",
    "\n",
    "NumPy provides an efficient way to map elements from a list to an array of indexes using advanced indexing.\n",
    "\n",
    "\n",
    "Advanced array indexing is useful for mapping elements in one array with values from another list or array based on specific indexes.\n",
    "\n",
    "\n",
    "*Example Scenario*:\n",
    "    \n",
    "Given a NumPy array of repeated indexes (e.g., <code>[0, 2, 1, 2, 0, 1, 2]</code>) and a corresponding list of colors (e.g., <code>['red', 'green', 'blue']</code>), map each index in the array to its respective color.\n",
    "\t\t\t"
   ]
  },
  {
   "cell_type": "code",
   "metadata": {
    "ExecuteTime": {
     "end_time": "2024-07-13T10:59:34.103342Z",
     "start_time": "2024-07-13T10:59:34.099431Z"
    }
   },
   "source": [
    "# let's have a numpy array of repeated values 0, 1 or 2:\n",
    "indexes = np.array([0, 2, 1, 2, 0, 1, 2])\n",
    "\n",
    "# and an array of colors:\n",
    "colors = np.array(['red', 'green', 'blue'])\n",
    "\n",
    "# Mapping indexes to colors using advanced indexing\n",
    "mapped_colors = colors[indexes]\n",
    "\n",
    "print(\"Mapped colors:\", mapped_colors)"
   ],
   "outputs": [
    {
     "name": "stdout",
     "output_type": "stream",
     "text": [
      "Mapped colors: ['red' 'blue' 'green' 'blue' 'red' 'green' 'blue']\n"
     ]
    }
   ],
   "execution_count": 53
  },
  {
   "metadata": {
    "ExecuteTime": {
     "end_time": "2024-07-13T11:04:29.570822Z",
     "start_time": "2024-07-13T11:04:29.567156Z"
    }
   },
   "cell_type": "code",
   "source": [
    "# Define the array of elements\n",
    "elements = np.array([100, 200, 300, 400, 500])\n",
    "\n",
    "# Define the indices of elements to select\n",
    "indices = np.array([0, 2, 4])\n",
    "\n",
    "# Use advanced indexing to select elements\n",
    "selected_elements = elements[indices]\n",
    "\n",
    "# Print the selected elements\n",
    "print(\"Selected elements:\", selected_elements)"
   ],
   "outputs": [
    {
     "name": "stdout",
     "output_type": "stream",
     "text": [
      "Selected elements: [100 300 500]\n"
     ]
    }
   ],
   "execution_count": 54
  },
  {
   "metadata": {
    "ExecuteTime": {
     "end_time": "2024-07-13T11:10:44.907892Z",
     "start_time": "2024-07-13T11:10:44.903626Z"
    }
   },
   "cell_type": "code",
   "source": [
    "arr = np.array(['Mercedes', 'BMW', 'Audi', 'Tesla', 'BMW', 'BMW', 'Audi', 'Audi'])\n",
    "indices = np.array([2, 0, 0, 0, 0, 0])\n",
    "\n",
    "arr[indices]"
   ],
   "outputs": [
    {
     "data": {
      "text/plain": [
       "array(['Audi', 'Mercedes', 'Mercedes', 'Mercedes', 'Mercedes', 'Mercedes'],\n",
       "      dtype='<U8')"
      ]
     },
     "execution_count": 65,
     "metadata": {},
     "output_type": "execute_result"
    }
   ],
   "execution_count": 65
  }
 ],
 "metadata": {
  "kernelspec": {
   "display_name": ".venv",
   "language": "python",
   "name": "python3"
  },
  "language_info": {
   "codemirror_mode": {
    "name": "ipython",
    "version": 3
   },
   "file_extension": ".py",
   "mimetype": "text/x-python",
   "name": "python",
   "nbconvert_exporter": "python",
   "pygments_lexer": "ipython3",
   "version": "3.12.3"
  }
 },
 "nbformat": 4,
 "nbformat_minor": 2
}
