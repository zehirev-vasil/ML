{
 "cells": [
  {
   "cell_type": "code",
   "execution_count": null,
   "id": "f274940b",
   "metadata": {},
   "outputs": [],
   "source": [
    "import numpy as np"
   ]
  },
  {
   "cell_type": "code",
   "execution_count": null,
   "id": "798f4046",
   "metadata": {},
   "outputs": [],
   "source": [
    "# ---------------------------------- Task 1 ---------------------------------- #\n",
    "\"\"\" DESCRIPTION:\n",
    "Create a function (create_numpy_array) that takes a list of numbers and returns a NumPy array.\n",
    "\"\"\""
   ]
  },
  {
   "cell_type": "markdown",
   "id": "d3428fd3",
   "metadata": {},
   "source": [
    "## YOUR CODE HERE:"
   ]
  },
  {
   "cell_type": "code",
   "execution_count": null,
   "id": "930cbc9b",
   "metadata": {},
   "outputs": [],
   "source": [
    "def create_numpy_array(num):\n",
    "    return np.array(num)"
   ]
  },
  {
   "cell_type": "code",
   "execution_count": null,
   "id": "9473ed87",
   "metadata": {},
   "outputs": [],
   "source": [
    "### TEST:\n",
    "print(create_numpy_array([1, 2, 3, 4, 5]))"
   ]
  },
  {
   "cell_type": "markdown",
   "id": "349a8138",
   "metadata": {
    "lines_to_next_cell": 2
   },
   "source": [
    "## EXPECTED OUTPUT:\n",
    "[1 2 3 4 5]"
   ]
  },
  {
   "cell_type": "code",
   "execution_count": null,
   "id": "6619f98d",
   "metadata": {},
   "outputs": [],
   "source": [
    "# ---------------------------------- Task 2 ---------------------------------- #\n",
    "\"\"\"\n",
    "DESCRIPTION:\n",
    "Create a function (array_sum) that takes a NumPy array and returns the sum of its elements.\n",
    "\"\"\""
   ]
  },
  {
   "metadata": {},
   "cell_type": "code",
   "outputs": [],
   "execution_count": null,
   "source": [
    "\"\"\"\n",
    "    Syntax Highlighting Demo\n",
    "    @param x Parameter\n",
    "\n",
    "    Semantic highlighting:\n",
    "    Generated spectrum to pick colors for local variables and parameters:\n",
    "     Color#1 SC1.1 SC1.2 SC1.3 SC1.4 Color#2 SC2.1 SC2.2 SC2.3 SC2.4 Color#3\n",
    "     Color#3 SC3.1 SC3.2 SC3.3 SC3.4 Color#4 SC4.1 SC4.2 SC4.3 SC4.4 Color#5\n",
    "\"\"\""
   ],
   "id": "8815359003c9493c"
  },
  {
   "cell_type": "markdown",
   "id": "f4f56855",
   "metadata": {},
   "source": [
    "## YOUR CODE HERE:"
   ]
  },
  {
   "cell_type": "code",
   "execution_count": null,
   "id": "33faf37b",
   "metadata": {},
   "outputs": [],
   "source": [
    "### TEST:\n",
    "print(array_sum(np.array([1, 2, 3, 4, 5])))"
   ]
  },
  {
   "cell_type": "markdown",
   "id": "a641ac0b",
   "metadata": {
    "lines_to_next_cell": 2
   },
   "source": [
    "## EXPECTED OUTPUT:\n",
    "15"
   ]
  },
  {
   "cell_type": "code",
   "execution_count": null,
   "id": "96409a86",
   "metadata": {},
   "outputs": [],
   "source": [
    "# ---------------------------------- Task 3 ---------------------------------- #\n",
    "\"\"\" DESCRIPTION:\n",
    "Create a function (evens_in_array) that takes a NumPy array and returns a new array containing only the even numbers.\n",
    "\"\"\""
   ]
  },
  {
   "cell_type": "markdown",
   "id": "b3430fcb",
   "metadata": {},
   "source": [
    "## YOUR CODE HERE:"
   ]
  },
  {
   "cell_type": "code",
   "execution_count": null,
   "id": "1a2ea13a",
   "metadata": {},
   "outputs": [],
   "source": [
    "### TEST:\n",
    "print(evens_in_array(np.array([1, 2, 3, 4, 5, 6])))"
   ]
  },
  {
   "cell_type": "markdown",
   "id": "67b1723a",
   "metadata": {
    "lines_to_next_cell": 2
   },
   "source": [
    "## EXPECTED OUTPUT:\n",
    "[2 4 6]"
   ]
  },
  {
   "cell_type": "code",
   "execution_count": null,
   "id": "2c54895a",
   "metadata": {},
   "outputs": [],
   "source": [
    "# ---------------------------------- Task 4 ---------------------------------- #\n",
    "\"\"\" DESCRIPTION:\n",
    "Create a function (count_greater_than) that takes a NumPy array and a threshold value, and returns the count of elements greater than the threshold.\n",
    "\"\"\""
   ]
  },
  {
   "cell_type": "markdown",
   "id": "b86e5670",
   "metadata": {},
   "source": [
    "## YOUR CODE HERE:"
   ]
  },
  {
   "cell_type": "code",
   "execution_count": null,
   "id": "96156590",
   "metadata": {},
   "outputs": [],
   "source": [
    "### TEST:\n",
    "print(count_greater_than(np.array([1, 2, 3, 4, 5]), 3))"
   ]
  },
  {
   "cell_type": "markdown",
   "id": "df8fd97d",
   "metadata": {
    "lines_to_next_cell": 2
   },
   "source": [
    "## EXPECTED OUTPUT:\n",
    "2"
   ]
  },
  {
   "cell_type": "code",
   "execution_count": null,
   "id": "1d445ae4",
   "metadata": {},
   "outputs": [],
   "source": [
    "# ---------------------------------- Task 5 ---------------------------------- #\n",
    "\"\"\" DESCRIPTION:\n",
    "Create a function (access_element) that takes a NumPy array and an index, and returns the element at that index.\n",
    "\"\"\""
   ]
  },
  {
   "cell_type": "markdown",
   "id": "1c3edc9f",
   "metadata": {},
   "source": [
    "## YOUR CODE HERE:"
   ]
  },
  {
   "cell_type": "code",
   "execution_count": null,
   "id": "394734e2",
   "metadata": {},
   "outputs": [],
   "source": [
    "### TEST:\n",
    "print(access_element(np.array([10, 20, 30, 40, 50]), 3))"
   ]
  },
  {
   "cell_type": "markdown",
   "id": "d2daf0b3",
   "metadata": {
    "lines_to_next_cell": 2
   },
   "source": [
    "## EXPECTED OUTPUT:\n",
    "40"
   ]
  },
  {
   "cell_type": "code",
   "execution_count": null,
   "id": "68076dab",
   "metadata": {},
   "outputs": [],
   "source": [
    "# ---------------------------------- Task 6 ---------------------------------- #\n",
    "\"\"\" DESCRIPTION:\n",
    "Create a function (slice_array) that takes a NumPy array and two indices, start and end, and returns the sliced array.\n",
    "\"\"\""
   ]
  },
  {
   "cell_type": "markdown",
   "id": "7897a21b",
   "metadata": {},
   "source": [
    "## YOUR CODE HERE:"
   ]
  },
  {
   "cell_type": "code",
   "execution_count": null,
   "id": "ef84ee2f",
   "metadata": {},
   "outputs": [],
   "source": [
    "### TEST:\n",
    "print(slice_array(np.array([10, 20, 30, 40, 50]), 1, 4))"
   ]
  },
  {
   "cell_type": "markdown",
   "id": "e1558a8e",
   "metadata": {},
   "source": [
    "## EXPECTED OUTPUT:\n",
    "[20 30 40]"
   ]
  }
 ],
 "metadata": {
  "jupytext": {
   "cell_metadata_filter": "-all",
   "main_language": "python",
   "notebook_metadata_filter": "-all"
  }
 },
 "nbformat": 4,
 "nbformat_minor": 5
}
