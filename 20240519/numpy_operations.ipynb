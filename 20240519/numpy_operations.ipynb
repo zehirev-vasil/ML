{
 "cells": [
  {
   "cell_type": "code",
   "metadata": {
    "ExecuteTime": {
     "end_time": "2024-07-13T07:25:57.842680Z",
     "start_time": "2024-07-13T07:25:57.785221Z"
    }
   },
   "source": [
    "import numpy as np"
   ],
   "outputs": [],
   "execution_count": 3
  },
  {
   "cell_type": "markdown",
   "metadata": {},
   "source": [
    "# Numpy Operations"
   ]
  },
  {
   "cell_type": "markdown",
   "metadata": {},
   "source": [
    "## Arithmetic operations\n",
    "\n",
    "All arithmetic operations on arrays are **element-wise** (point-to-point).\n",
    "\n",
    "Note, that beside [Arithmetic functions](https://numpy.org/doc/stable/reference/routines.math.html#arithmetic-operations), numpy sumply a great variaty of [Mathematical functions](https://numpy.org/doc/stable/reference/routines.math.html)\n",
    "\n",
    "Lets have next 2 arrays:"
   ]
  },
  {
   "cell_type": "code",
   "metadata": {
    "ExecuteTime": {
     "end_time": "2024-07-13T07:39:33.471575Z",
     "start_time": "2024-07-13T07:39:33.468418Z"
    }
   },
   "source": [
    "arr1 = np.arange(1, 6)\n",
    "arr2 = np.ones(5,  dtype=np.int8)\n",
    "\n",
    "print(arr1)\n",
    "print(arr2)"
   ],
   "outputs": [
    {
     "name": "stdout",
     "output_type": "stream",
     "text": [
      "[1 2 3 4 5]\n",
      "[1 1 1 1 1]\n"
     ]
    }
   ],
   "execution_count": 38
  },
  {
   "cell_type": "markdown",
   "metadata": {},
   "source": [
    "### Addition\n",
    "\n",
    "We can use the '+' operator as a shortcut to np.add()"
   ]
  },
  {
   "cell_type": "code",
   "metadata": {
    "ExecuteTime": {
     "end_time": "2024-07-13T07:26:35.537240Z",
     "start_time": "2024-07-13T07:26:35.533053Z"
    }
   },
   "source": [
    "# add array with scalar:\n",
    "arr1 + 1 "
   ],
   "outputs": [
    {
     "data": {
      "text/plain": [
       "array([2, 3, 4, 5, 6])"
      ]
     },
     "execution_count": 8,
     "metadata": {},
     "output_type": "execute_result"
    }
   ],
   "execution_count": 8
  },
  {
   "cell_type": "code",
   "metadata": {
    "ExecuteTime": {
     "end_time": "2024-07-13T07:31:08.626161Z",
     "start_time": "2024-07-13T07:31:08.622111Z"
    }
   },
   "source": [
    "# add two arrays\n",
    "print(f'arr1: {arr1}')\n",
    "print(f'arr2: {arr2}')\n",
    "arr1 + arr2"
   ],
   "outputs": [
    {
     "name": "stdout",
     "output_type": "stream",
     "text": [
      "arr1: [1 2 3 4 5]\n",
      "arr2: [1 1 1 1 1]\n"
     ]
    },
    {
     "data": {
      "text/plain": [
       "array([2, 3, 4, 5, 6])"
      ]
     },
     "execution_count": 15,
     "metadata": {},
     "output_type": "execute_result"
    }
   ],
   "execution_count": 15
  },
  {
   "cell_type": "markdown",
   "metadata": {},
   "source": [
    "### Subtraction\n",
    "\n",
    "We can use the '-' operator as a shortcut to np.subtract()"
   ]
  },
  {
   "cell_type": "code",
   "metadata": {
    "ExecuteTime": {
     "end_time": "2024-07-13T07:31:25.504936Z",
     "start_time": "2024-07-13T07:31:25.501216Z"
    }
   },
   "source": [
    "# subtract scalar from array:\n",
    "print(f'arr1: {arr1}')\n",
    "arr1-1"
   ],
   "outputs": [
    {
     "name": "stdout",
     "output_type": "stream",
     "text": [
      "arr1: [1 2 3 4 5]\n"
     ]
    },
    {
     "data": {
      "text/plain": [
       "array([0, 1, 2, 3, 4])"
      ]
     },
     "execution_count": 16,
     "metadata": {},
     "output_type": "execute_result"
    }
   ],
   "execution_count": 16
  },
  {
   "cell_type": "code",
   "execution_count": 7,
   "metadata": {},
   "outputs": [
    {
     "name": "stdout",
     "output_type": "stream",
     "text": [
      "arr1: [0 1 2 3 4]\n",
      "arr2: [2 2 2 2 2]\n"
     ]
    },
    {
     "data": {
      "text/plain": [
       "array([-2, -1,  0,  1,  2])"
      ]
     },
     "execution_count": 7,
     "metadata": {},
     "output_type": "execute_result"
    }
   ],
   "source": [
    "# subtract two arrays\n",
    "print(f'arr1: {arr1}')\n",
    "print(f'arr2: {arr2}')\n",
    "arr1 - arr2"
   ]
  },
  {
   "cell_type": "markdown",
   "metadata": {},
   "source": [
    "### Multiplication\n",
    "\n",
    "We can use the '*' operator as a shortcut to np.multiply()"
   ]
  },
  {
   "cell_type": "code",
   "metadata": {
    "ExecuteTime": {
     "end_time": "2024-07-13T07:32:01.419678Z",
     "start_time": "2024-07-13T07:32:01.415376Z"
    }
   },
   "source": [
    "# multiply array with constant:\n",
    "print(f'arr1: {arr1}')\n",
    "arr1*5"
   ],
   "outputs": [
    {
     "name": "stdout",
     "output_type": "stream",
     "text": [
      "arr1: [1 2 3 4 5]\n"
     ]
    },
    {
     "data": {
      "text/plain": [
       "array([ 5, 10, 15, 20, 25])"
      ]
     },
     "execution_count": 18,
     "metadata": {},
     "output_type": "execute_result"
    }
   ],
   "execution_count": 18
  },
  {
   "cell_type": "code",
   "metadata": {
    "ExecuteTime": {
     "end_time": "2024-07-13T07:32:10.266980Z",
     "start_time": "2024-07-13T07:32:10.263270Z"
    }
   },
   "source": [
    "# multiply two arrays\n",
    "print(f'arr1: {arr1}')\n",
    "print(f'arr2: {arr2}')\n",
    "arr1 * arr2"
   ],
   "outputs": [
    {
     "name": "stdout",
     "output_type": "stream",
     "text": [
      "arr1: [1 2 3 4 5]\n",
      "arr2: [1 1 1 1 1]\n"
     ]
    },
    {
     "data": {
      "text/plain": [
       "array([1, 2, 3, 4, 5])"
      ]
     },
     "execution_count": 19,
     "metadata": {},
     "output_type": "execute_result"
    }
   ],
   "execution_count": 19
  },
  {
   "cell_type": "markdown",
   "metadata": {},
   "source": [
    "### Division\n",
    "\n",
    "We can use the '/' operator as a shortcut to np.divide()"
   ]
  },
  {
   "cell_type": "code",
   "execution_count": 10,
   "metadata": {},
   "outputs": [
    {
     "name": "stdout",
     "output_type": "stream",
     "text": [
      "arr1: [0 1 2 3 4]\n"
     ]
    },
    {
     "data": {
      "text/plain": [
       "array([0.        , 0.33333333, 0.66666667, 1.        , 1.33333333])"
      ]
     },
     "execution_count": 10,
     "metadata": {},
     "output_type": "execute_result"
    }
   ],
   "source": [
    "# divide array with constant:\n",
    "print(f'arr1: {arr1}')\n",
    "arr1/3"
   ]
  },
  {
   "cell_type": "code",
   "execution_count": 11,
   "metadata": {},
   "outputs": [
    {
     "name": "stdout",
     "output_type": "stream",
     "text": [
      "arr1: [0 1 2 3 4]\n",
      "arr2: [2 2 2 2 2]\n"
     ]
    },
    {
     "data": {
      "text/plain": [
       "array([0. , 0.5, 1. , 1.5, 2. ])"
      ]
     },
     "execution_count": 11,
     "metadata": {},
     "output_type": "execute_result"
    }
   ],
   "source": [
    "# divide two arrays\n",
    "print(f'arr1: {arr1}')\n",
    "print(f'arr2: {arr2}')\n",
    "arr1 / arr2"
   ]
  },
  {
   "cell_type": "markdown",
   "metadata": {},
   "source": [
    "## Comparison and Logic Operations"
   ]
  },
  {
   "cell_type": "markdown",
   "metadata": {},
   "source": [
    "### Arrays Comparison\n",
    "\n",
    "Comparison Operations on ndarrays are **element-wise** (point-to-point).\n",
    "\n",
    "They return an array of same shape with Boolean values.\n",
    "\n",
    "Reference: [Comparison functions](https://numpy.org/doc/stable/reference/routines.logic.html#comparison)"
   ]
  },
  {
   "cell_type": "code",
   "metadata": {
    "ExecuteTime": {
     "end_time": "2024-07-13T07:32:42.314358Z",
     "start_time": "2024-07-13T07:32:42.310660Z"
    }
   },
   "source": [
    "### Equal (==) or np.equal() with constant\n",
    "print(arr1)\n",
    "print(arr1 == 1)\n",
    "# print(np.equal(arr1,1))"
   ],
   "outputs": [
    {
     "name": "stdout",
     "output_type": "stream",
     "text": [
      "[1 2 3 4 5]\n",
      "[ True False False False False]\n"
     ]
    }
   ],
   "execution_count": 20
  },
  {
   "cell_type": "code",
   "metadata": {
    "ExecuteTime": {
     "end_time": "2024-07-13T07:33:48.338036Z",
     "start_time": "2024-07-13T07:33:48.334764Z"
    }
   },
   "source": [
    "### Equal (==) or np.equal() with another array\n",
    "print(arr1)\n",
    "print(arr2)\n",
    "print(arr1 == arr2)     \n",
    "# print(np.equal(arr1,arr2))"
   ],
   "outputs": [
    {
     "name": "stdout",
     "output_type": "stream",
     "text": [
      "[1 2 3 4 5]\n",
      "[1 1 1 1 1]\n",
      "[ True False False False False]\n"
     ]
    }
   ],
   "execution_count": 22
  },
  {
   "cell_type": "code",
   "execution_count": 14,
   "metadata": {},
   "outputs": [
    {
     "name": "stdout",
     "output_type": "stream",
     "text": [
      "[0 1 2 3 4]\n",
      "[ True False  True  True  True]\n"
     ]
    }
   ],
   "source": [
    "### Not equal (!=) or np.not_equal() with constant\n",
    "print(arr1)\n",
    "print(arr1 != 1)\n",
    "# print(np.not_equal(arr1,1))"
   ]
  },
  {
   "cell_type": "code",
   "metadata": {
    "ExecuteTime": {
     "end_time": "2024-07-13T07:34:16.305680Z",
     "start_time": "2024-07-13T07:34:16.302060Z"
    }
   },
   "source": [
    "### Not equal (!=) or np.not_equal() with another array\n",
    "print(arr1)\n",
    "print(arr2)\n",
    "print(arr1 != arr2)\n",
    "# print(np.not_equal(arr1,arr2))"
   ],
   "outputs": [
    {
     "name": "stdout",
     "output_type": "stream",
     "text": [
      "[1 2 3 4 5]\n",
      "[1 1 1 1 1]\n",
      "[False  True  True  True  True]\n"
     ]
    }
   ],
   "execution_count": 23
  },
  {
   "cell_type": "code",
   "metadata": {
    "ExecuteTime": {
     "end_time": "2024-07-13T07:34:32.240474Z",
     "start_time": "2024-07-13T07:34:32.236871Z"
    }
   },
   "source": [
    "### Greater (>) or np.greater() with constant\n",
    "print(arr1)\n",
    "print(arr1 > 1)\n",
    "print(np.greater(arr1,1))"
   ],
   "outputs": [
    {
     "name": "stdout",
     "output_type": "stream",
     "text": [
      "[1 2 3 4 5]\n",
      "[False  True  True  True  True]\n",
      "[False  True  True  True  True]\n"
     ]
    }
   ],
   "execution_count": 25
  },
  {
   "cell_type": "code",
   "execution_count": 17,
   "metadata": {},
   "outputs": [
    {
     "name": "stdout",
     "output_type": "stream",
     "text": [
      "[0 1 2 3 4]\n",
      "[2 2 2 2 2]\n",
      "[False False  True  True  True]\n"
     ]
    }
   ],
   "source": [
    "### Greater or equal (>=) or np.greater_equal() with another array\n",
    "print(arr1)\n",
    "print(arr2)\n",
    "print(arr1 >= arr2)\n",
    "# print(np.greater_equal(arr1,arr2))"
   ]
  },
  {
   "cell_type": "code",
   "execution_count": 18,
   "metadata": {},
   "outputs": [
    {
     "name": "stdout",
     "output_type": "stream",
     "text": [
      "[0 1 2 3 4]\n",
      "[ True False False False False]\n"
     ]
    }
   ],
   "source": [
    "### Less (<) or np.less() with constant\n",
    "print(arr1)\n",
    "print(arr1 < 1)\n",
    "# print(np.less(arr1,1))"
   ]
  },
  {
   "cell_type": "code",
   "execution_count": 19,
   "metadata": {},
   "outputs": [
    {
     "name": "stdout",
     "output_type": "stream",
     "text": [
      "[0 1 2 3 4]\n",
      "[2 2 2 2 2]\n",
      "[ True  True  True False False]\n"
     ]
    }
   ],
   "source": [
    "### Less or equal (<=) or np.less_equal() with another array\n",
    "print(arr1)\n",
    "print(arr2)\n",
    "print(arr1 <= arr2)\n",
    "# print(np.less_equal(arr1,arr2))"
   ]
  },
  {
   "cell_type": "markdown",
   "metadata": {},
   "source": [
    "### Logical operations\n",
    "\n",
    "Logical operations on ndarrays are **element-wise** (point-to-point).\n",
    "\n",
    "They return an array of same shape with Boolean values.\n",
    "\n",
    "Logical operations are [commutative](https://en.wikipedia.org/wiki/Commutative_property)\n",
    "\n",
    "Reference: [Logical operations](https://numpy.org/doc/stable/reference/routines.logic.html#logical-operations)"
   ]
  },
  {
   "cell_type": "markdown",
   "metadata": {},
   "source": [
    "#### Logical AND\n",
    "\n",
    "[np.logical_and()](https://numpy.org/doc/stable/reference/generated/numpy.logical_and.html#numpy-logical-and) - Compute the truth value of x1 AND x2 element-wise.\n",
    "\n",
    "The & operator can be used as a shorthand for np.logical_and() **only on boolean values/ndarrays**."
   ]
  },
  {
   "cell_type": "code",
   "metadata": {
    "ExecuteTime": {
     "end_time": "2024-07-13T07:35:14.398715Z",
     "start_time": "2024-07-13T07:35:14.394932Z"
    }
   },
   "source": [
    "# logical and between 2 booleans:\n",
    "True & False            \n",
    "# np.logical_and(True, False)"
   ],
   "outputs": [
    {
     "data": {
      "text/plain": [
       "False"
      ]
     },
     "execution_count": 26,
     "metadata": {},
     "output_type": "execute_result"
    }
   ],
   "execution_count": 26
  },
  {
   "cell_type": "code",
   "metadata": {
    "ExecuteTime": {
     "end_time": "2024-07-13T07:35:39.576455Z",
     "start_time": "2024-07-13T07:35:39.573181Z"
    }
   },
   "source": [
    "# logical and between 2 boolean arrays:\n",
    "print(f'arr1: {arr1}')\n",
    "print(f'arr2: {arr2}','\\n')\n",
    "\n",
    "x = arr1>2\n",
    "y = arr2>1\n",
    "print(f'x: {x}')\n",
    "print(f'y: {y}','\\n')\n",
    "\n",
    "print(f'x&y: {x&y}')\n",
    "# print(np.logical_and(x,y))\n"
   ],
   "outputs": [
    {
     "name": "stdout",
     "output_type": "stream",
     "text": [
      "arr1: [1 2 3 4 5]\n",
      "arr2: [1 1 1 1 1] \n",
      "\n",
      "x: [False False  True  True  True]\n",
      "y: [False False False False False] \n",
      "\n",
      "x&y: [False False False False False]\n"
     ]
    }
   ],
   "execution_count": 27
  },
  {
   "cell_type": "code",
   "execution_count": 22,
   "metadata": {},
   "outputs": [
    {
     "name": "stdout",
     "output_type": "stream",
     "text": [
      "True\n",
      "False\n"
     ]
    }
   ],
   "source": [
    "# logical and between 2 scalars:\n",
    "# note that a value=0 is interpreted as False,\n",
    "# and a value != 0 is interpreted as True\n",
    "\n",
    "print(np.logical_and(1, -92349))\n",
    "print(np.logical_and(1, 0))"
   ]
  },
  {
   "cell_type": "markdown",
   "metadata": {},
   "source": [
    "#### Logical OR\n",
    "\n",
    "<img src=\"../images/logical_or.png\">\n",
    "\n",
    "[np.logical_or()](https://numpy.org/doc/stable/reference/generated/numpy.logical_or.html#numpy-logical-or) - Compute the truth value of x1 OR x2 element-wise.\n",
    "\n",
    "The | operator can be used as a shorthand for np.logical_or() **only on boolean values/ndarrays**."
   ]
  },
  {
   "cell_type": "code",
   "execution_count": 23,
   "metadata": {},
   "outputs": [
    {
     "data": {
      "text/plain": [
       "True"
      ]
     },
     "execution_count": 23,
     "metadata": {},
     "output_type": "execute_result"
    }
   ],
   "source": [
    "# logical or between 2 booleans:\n",
    "True | False\n",
    "# np.logical_or(True, False)"
   ]
  },
  {
   "cell_type": "code",
   "metadata": {
    "ExecuteTime": {
     "end_time": "2024-07-13T07:37:49.692675Z",
     "start_time": "2024-07-13T07:37:49.688748Z"
    }
   },
   "source": [
    "# logical or between 2 boolean arrays:\n",
    "print(f'arr1: {arr1}')\n",
    "print(f'arr2: {arr2}','\\n')\n",
    "\n",
    "x = arr1>2\n",
    "y = arr2>1\n",
    "print(f'x: {x}')\n",
    "print(f'y: {y}','\\n')\n",
    "\n",
    "print(f'x|y: {x|y}')\n",
    "# print(np.logical_or(x,y))\n"
   ],
   "outputs": [
    {
     "name": "stdout",
     "output_type": "stream",
     "text": [
      "arr1: [1 2 3 4 5]\n",
      "arr2: [1 1 1 1 1] \n",
      "\n",
      "x: [False False  True  True  True]\n",
      "y: [False False False False False] \n",
      "\n",
      "x|y: [False False  True  True  True]\n"
     ]
    }
   ],
   "execution_count": 29
  },
  {
   "cell_type": "code",
   "metadata": {
    "ExecuteTime": {
     "end_time": "2024-07-13T07:37:54.770891Z",
     "start_time": "2024-07-13T07:37:54.767619Z"
    }
   },
   "source": [
    "# logical or between 2 scalars:\n",
    "print(np.logical_or(1, -92349))\n",
    "print(np.logical_or(1, 0))\n",
    "print(np.logical_or(0, 0))"
   ],
   "outputs": [
    {
     "name": "stdout",
     "output_type": "stream",
     "text": [
      "True\n",
      "True\n",
      "False\n"
     ]
    }
   ],
   "execution_count": 30
  },
  {
   "cell_type": "markdown",
   "metadata": {},
   "source": [
    "#### Logical NOT\n",
    "\n",
    "[np.logical_not()](https://numpy.org/doc/stable/reference/generated/numpy.logical_not.html#numpy-logical-not) - Compute the truth value of NOT x element-wise."
   ]
  },
  {
   "cell_type": "code",
   "metadata": {
    "ExecuteTime": {
     "end_time": "2024-07-13T07:37:59.536177Z",
     "start_time": "2024-07-13T07:37:59.532971Z"
    }
   },
   "source": [
    "# logical not on scalar:\n",
    "print(np.logical_not(True))\n",
    "print(np.logical_not(0))\n",
    "print(np.logical_not(-92349))"
   ],
   "outputs": [
    {
     "name": "stdout",
     "output_type": "stream",
     "text": [
      "False\n",
      "True\n",
      "False\n"
     ]
    }
   ],
   "execution_count": 31
  },
  {
   "cell_type": "code",
   "metadata": {
    "ExecuteTime": {
     "end_time": "2024-07-13T07:38:09.255601Z",
     "start_time": "2024-07-13T07:38:09.252737Z"
    }
   },
   "source": [
    "# logical not on boolean array:\n",
    "print(f'arr1: {arr1}')\n",
    "arr2 = arr1>2\n",
    "print(f'arr2: {arr2}')\n",
    "print(np.logical_not(arr2))"
   ],
   "outputs": [
    {
     "name": "stdout",
     "output_type": "stream",
     "text": [
      "arr1: [1 2 3 4 5]\n",
      "arr2: [False False  True  True  True]\n",
      "[ True  True False False False]\n"
     ]
    }
   ],
   "execution_count": 32
  },
  {
   "cell_type": "markdown",
   "metadata": {},
   "source": [
    "### Truth value testing\n",
    "\n",
    "[np.all()](https://numpy.org/doc/stable/reference/generated/numpy.all.html#numpy.all) - Test whether all array elements along a given axis evaluate to True.\n",
    "\n",
    "[np.any()](https://numpy.org/doc/stable/reference/generated/numpy.any.html#numpy.any) - Test whether any array element along a given axis evaluates to True."
   ]
  },
  {
   "cell_type": "code",
   "metadata": {
    "ExecuteTime": {
     "end_time": "2024-07-13T07:38:55.283450Z",
     "start_time": "2024-07-13T07:38:55.280157Z"
    }
   },
   "source": [
    "arr2 = np.array([True, False, True])\n",
    "print(\"Any true in arr2:\", np.any(arr2))\n",
    "print(\"All true in arr2:\", np.all(arr2))"
   ],
   "outputs": [
    {
     "name": "stdout",
     "output_type": "stream",
     "text": [
      "Any true in arr2: True\n",
      "All true in arr2: False\n"
     ]
    }
   ],
   "execution_count": 33
  },
  {
   "metadata": {
    "ExecuteTime": {
     "end_time": "2024-07-13T07:39:44.236488Z",
     "start_time": "2024-07-13T07:39:44.233934Z"
    }
   },
   "cell_type": "code",
   "source": [
    "print(arr1)\n",
    "print(arr2)"
   ],
   "outputs": [
    {
     "name": "stdout",
     "output_type": "stream",
     "text": [
      "[1 2 3 4 5]\n",
      "[1 1 1 1 1]\n"
     ]
    }
   ],
   "execution_count": 40
  },
  {
   "metadata": {
    "ExecuteTime": {
     "end_time": "2024-07-13T07:43:31.834585Z",
     "start_time": "2024-07-13T07:43:31.831512Z"
    }
   },
   "cell_type": "code",
   "source": "np.any(arr1 > 10, 0)",
   "outputs": [
    {
     "data": {
      "text/plain": [
       "np.False_"
      ]
     },
     "execution_count": 46,
     "metadata": {},
     "output_type": "execute_result"
    }
   ],
   "execution_count": 46
  }
 ],
 "metadata": {
  "kernelspec": {
   "display_name": "Python 3.9.12 ('.venv': venv)",
   "language": "python",
   "name": "python3"
  },
  "language_info": {
   "codemirror_mode": {
    "name": "ipython",
    "version": 3
   },
   "file_extension": ".py",
   "mimetype": "text/x-python",
   "name": "python",
   "nbconvert_exporter": "python",
   "pygments_lexer": "ipython3",
   "version": "3.12.0"
  },
  "orig_nbformat": 4,
  "vscode": {
   "interpreter": {
    "hash": "2f198458d93464d0c0db318fa461a510553a123fa96784438e9d36dcd5767d99"
   }
  }
 },
 "nbformat": 4,
 "nbformat_minor": 2
}
