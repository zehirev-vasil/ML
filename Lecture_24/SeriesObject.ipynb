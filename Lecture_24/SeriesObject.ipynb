{
 "cells": [
  {
   "cell_type": "code",
   "metadata": {
    "ExecuteTime": {
     "end_time": "2024-07-14T14:59:34.388850Z",
     "start_time": "2024-07-14T14:59:33.730780Z"
    }
   },
   "source": [
    "import pandas as pd"
   ],
   "outputs": [],
   "execution_count": 3
  },
  {
   "cell_type": "markdown",
   "metadata": {
    "toc-hr-collapsed": true
   },
   "source": [
    "# Pandas Series Object"
   ]
  },
  {
   "cell_type": "markdown",
   "metadata": {},
   "source": [
    "A Pandas Series is **a one-dimensional array** of indexed data, based on the NumPy ndarray.\n",
    "\n",
    "But a Pandas Series object wraps both <span class=\"note\">a sequence of values</span> and <span class=\"note\">a sequence of indices</span>\n",
    "\n",
    "<img src=\"./images/series_object.png\" style=\"height:200px\" alt=\"series_object\">\n",
    "\n",
    "\n",
    "References:\n",
    "\n",
    "1. Series @ pandas user guide: https://pandas.pydata.org/docs/user_guide/dsintro.html#basics-series\n",
    "2. Series @ pandas API: https://pandas.pydata.org/docs/reference/api/pandas.Series.html\n"
   ]
  },
  {
   "cell_type": "markdown",
   "metadata": {
    "toc-hr-collapsed": true
   },
   "source": [
    "## Create Series Object"
   ]
  },
  {
   "cell_type": "markdown",
   "metadata": {},
   "source": [
    "### Create Series with Implicit Indexing"
   ]
  },
  {
   "cell_type": "code",
   "metadata": {
    "ExecuteTime": {
     "end_time": "2024-07-14T14:59:37.037219Z",
     "start_time": "2024-07-14T14:59:37.031920Z"
    }
   },
   "source": [
    "s1 = pd.Series([1,2,3,4,5])\n",
    "s1"
   ],
   "outputs": [
    {
     "data": {
      "text/plain": [
       "0    1\n",
       "1    2\n",
       "2    3\n",
       "3    4\n",
       "4    5\n",
       "dtype: int64"
      ]
     },
     "execution_count": 4,
     "metadata": {},
     "output_type": "execute_result"
    }
   ],
   "execution_count": 4
  },
  {
   "cell_type": "markdown",
   "metadata": {},
   "source": [
    "### Create Series with Explicit Indexing\n",
    "\n",
    "The explicit index definition gives the Series object additional capabilities compared to numpy arrays, i.e. the index need not to be an integers, but can consist of values of any desired type. \n",
    "Index values must have the same length as data values."
   ]
  },
  {
   "cell_type": "code",
   "metadata": {
    "ExecuteTime": {
     "end_time": "2024-07-14T15:01:28.682856Z",
     "start_time": "2024-07-14T15:01:28.678283Z"
    }
   },
   "source": [
    "s1 = pd.Series([1, 2, 3, 4], index=['a', 'b', 'c', 'd'])\n",
    "s1"
   ],
   "outputs": [
    {
     "data": {
      "text/plain": [
       "a    1\n",
       "b    2\n",
       "c    3\n",
       "d    4\n",
       "dtype: int64"
      ]
     },
     "execution_count": 5,
     "metadata": {},
     "output_type": "execute_result"
    }
   ],
   "execution_count": 5
  },
  {
   "cell_type": "markdown",
   "metadata": {},
   "source": [
    "### Create Series from dictionary\n",
    "\n",
    "If we pass a dictionary to Series constructor, the dict keys will be used for index."
   ]
  },
  {
   "cell_type": "code",
   "metadata": {
    "ExecuteTime": {
     "end_time": "2024-07-14T15:04:14.155820Z",
     "start_time": "2024-07-14T15:04:14.151998Z"
    }
   },
   "source": [
    "data_dict = { \n",
    "    'a': 1, \n",
    "    'b': 2,\n",
    "    'c': 3\n",
    "}\n",
    "\n",
    "pd.Series(data_dict, name='COL')\n",
    "data_dict.values()"
   ],
   "outputs": [
    {
     "data": {
      "text/plain": [
       "dict_values([1, 2, 3])"
      ]
     },
     "execution_count": 9,
     "metadata": {},
     "output_type": "execute_result"
    }
   ],
   "execution_count": 9
  },
  {
   "cell_type": "markdown",
   "metadata": {},
   "source": [
    "If an index is passed, the values in data corresponding to the labels in the index will be pulled out."
   ]
  },
  {
   "cell_type": "code",
   "metadata": {
    "ExecuteTime": {
     "end_time": "2024-07-14T15:09:30.939849Z",
     "start_time": "2024-07-14T15:09:30.934588Z"
    }
   },
   "source": [
    "s1 = pd.Series([1, 2, 3], index=['a', 'b', 'c'], name='numbers1')\n",
    "s2 = pd.Series([4, 5, 6], index=['a', 'e', 'f'], name='numbers2')\n",
    "\n",
    "s3 = s1 + s2\n",
    "\n",
    "# s1.size\n",
    "pd.notnull(s3)\n"
   ],
   "outputs": [
    {
     "data": {
      "text/plain": [
       "a     True\n",
       "b    False\n",
       "c    False\n",
       "e    False\n",
       "f    False\n",
       "dtype: bool"
      ]
     },
     "execution_count": 19,
     "metadata": {},
     "output_type": "execute_result"
    }
   ],
   "execution_count": 19
  },
  {
   "cell_type": "markdown",
   "metadata": {},
   "source": [
    "## Series Attributes\n",
    "\n",
    "Series objec have defined next attributes"
   ]
  },
  {
   "cell_type": "code",
   "execution_count": 23,
   "metadata": {},
   "outputs": [
    {
     "name": "stdout",
     "output_type": "stream",
     "text": [
      "a    1\n",
      "b    2\n",
      "c    3\n",
      "Name: numbers, dtype: int64\n",
      "Index: Index(['a', 'b', 'c'], dtype='object')\n",
      "Values: [1 2 3]\n",
      "Data Type: int64\n",
      "Name: numbers\n",
      "Shape: (3,)\n",
      "Number of Bytes: 24\n",
      "Number of Dimensions: 1\n",
      "Size: 3\n",
      "Is Empty: False\n"
     ]
    }
   ],
   "source": [
    "# Create a sample Series\n",
    "s = pd.Series([1, 2, 3], index=['a', 'b', 'c'], name='numbers')\n",
    "print(s)\n",
    "# Attributes of the Series\n",
    "print(\"Index:\", s.index)  # The index (axis labels) of the Series\n",
    "print(\"Values:\", s.values)  # The values of the Series\n",
    "print(\"Data Type:\", s.dtype)  # The data type of the values in the Series\n",
    "print(\"Name:\", s.name)  # The name of the Series\n",
    "print(\"Shape:\", s.shape)  # The shape of the Series (number of elements)\n",
    "print(\"Number of Bytes:\", s.nbytes)  # The number of bytes consumed by the Series\n",
    "print(\"Number of Dimensions:\", s.ndim)  # The number of dimensions of the Series (always 1 for a Series)\n",
    "print(\"Size:\", s.size)  # The number of elements in the Series\n",
    "print(\"Is Empty:\", s.empty)  # Returns True if the Series is empty"
   ]
  },
  {
   "cell_type": "code",
   "execution_count": 27,
   "metadata": {},
   "outputs": [
    {
     "data": {
      "text/plain": [
       "x    1\n",
       "y    2\n",
       "z    3\n",
       "Name: numbers, dtype: int64"
      ]
     },
     "execution_count": 27,
     "metadata": {},
     "output_type": "execute_result"
    }
   ],
   "source": [
    "# we can always reset index labels:\n",
    "s.index = ['x','y','z']\n",
    "s"
   ]
  },
  {
   "cell_type": "markdown",
   "metadata": {
    "toc-hr-collapsed": false
   },
   "source": [
    "## Access Elements (Series Indxing)"
   ]
  },
  {
   "cell_type": "markdown",
   "metadata": {},
   "source": [
    "Let's have next series:"
   ]
  },
  {
   "cell_type": "code",
   "metadata": {
    "ExecuteTime": {
     "end_time": "2024-07-14T15:11:05.517076Z",
     "start_time": "2024-07-14T15:11:05.511883Z"
    }
   },
   "source": [
    "prices = pd.Series(\n",
    "    [1.5, 2, 2.5, 3],\n",
    "    index=[\"apples\", \"oranges\", \"bananas\", \"strawberries\"]\n",
    ")\n",
    "prices"
   ],
   "outputs": [
    {
     "data": {
      "text/plain": [
       "apples          1.5\n",
       "oranges         2.0\n",
       "bananas         2.5\n",
       "strawberries    3.0\n",
       "dtype: float64"
      ]
     },
     "execution_count": 23,
     "metadata": {},
     "output_type": "execute_result"
    }
   ],
   "execution_count": 23
  },
  {
   "cell_type": "markdown",
   "metadata": {},
   "source": [
    "### Access elements by position (implicit index): series.iloc[index]\n",
    "\n",
    "We can access an element by its position (implicit index), using the **series.iloc[*index*]** attribute.\n",
    "*index* must be an integer, which specifies a position, like in Python lists."
   ]
  },
  {
   "cell_type": "code",
   "metadata": {
    "ExecuteTime": {
     "end_time": "2024-07-14T15:10:32.901478Z",
     "start_time": "2024-07-14T15:10:32.898619Z"
    }
   },
   "source": [
    "print( prices.iloc[0] )\n",
    "print( prices.iloc[-1] )"
   ],
   "outputs": [
    {
     "name": "stdout",
     "output_type": "stream",
     "text": [
      "1.5\n",
      "3.0\n"
     ]
    }
   ],
   "execution_count": 21
  },
  {
   "cell_type": "markdown",
   "metadata": {},
   "source": [
    "### Access elements by index labels (explicit index): series.iloc[index]\n",
    "\n",
    "We can access an element by its position (implicit index), using the **series.loc[*index*]** attribute.\n"
   ]
  },
  {
   "cell_type": "code",
   "metadata": {
    "ExecuteTime": {
     "end_time": "2024-07-14T15:13:50.681732Z",
     "start_time": "2024-07-14T15:13:50.677431Z"
    }
   },
   "source": "prices.loc[['oranges', 'apples']]",
   "outputs": [
    {
     "data": {
      "text/plain": [
       "oranges    2.0\n",
       "apples     1.5\n",
       "dtype: float64"
      ]
     },
     "execution_count": 31,
     "metadata": {},
     "output_type": "execute_result"
    }
   ],
   "execution_count": 31
  },
  {
   "metadata": {
    "ExecuteTime": {
     "end_time": "2024-07-14T15:13:21.626679Z",
     "start_time": "2024-07-14T15:13:21.621549Z"
    }
   },
   "cell_type": "code",
   "source": "prices.iloc[[0,1]]",
   "outputs": [
    {
     "data": {
      "text/plain": [
       "apples     1.5\n",
       "oranges    2.0\n",
       "dtype: float64"
      ]
     },
     "execution_count": 29,
     "metadata": {},
     "output_type": "execute_result"
    }
   ],
   "execution_count": 29
  },
  {
   "cell_type": "markdown",
   "metadata": {},
   "source": [
    "As a shorthand, we can use:\n",
    "- square bracket notation (as in Python dictionaries)\n",
    "- dot notation (as in Python objects), which works only when labels are valid identifiers"
   ]
  },
  {
   "cell_type": "code",
   "metadata": {
    "ExecuteTime": {
     "end_time": "2024-07-14T15:12:52.083868Z",
     "start_time": "2024-07-14T15:12:52.080877Z"
    }
   },
   "source": [
    "# using square brackets notation:\n",
    "print(prices['oranges'])\n",
    "\n",
    "# using dot notation (works only when labels are valid identifiers)\n",
    "print(prices.oranges)"
   ],
   "outputs": [
    {
     "name": "stdout",
     "output_type": "stream",
     "text": [
      "2.0\n",
      "2.0\n"
     ]
    }
   ],
   "execution_count": 28
  },
  {
   "cell_type": "markdown",
   "metadata": {},
   "source": [
    "### List indexes\n",
    "\n",
    "Both .loc[] and .ilock[] can be used with a list of indexes/labels, to select multiple elements"
   ]
  },
  {
   "cell_type": "code",
   "execution_count": 32,
   "metadata": {},
   "outputs": [
    {
     "data": {
      "text/plain": [
       "apples     1.5\n",
       "oranges    2.0\n",
       "apples     1.5\n",
       "dtype: float64"
      ]
     },
     "execution_count": 32,
     "metadata": {},
     "output_type": "execute_result"
    }
   ],
   "source": [
    "prices.iloc[ [0, 1, 0] ]"
   ]
  },
  {
   "cell_type": "code",
   "execution_count": 6,
   "metadata": {},
   "outputs": [
    {
     "data": {
      "text/plain": [
       "apples     1.5\n",
       "oranges    2.0\n",
       "apples     1.5\n",
       "dtype: float64"
      ]
     },
     "execution_count": 6,
     "metadata": {},
     "output_type": "execute_result"
    }
   ],
   "source": [
    "prices.loc[ [\"apples\", \"oranges\", \"apples\"] ]"
   ]
  },
  {
   "cell_type": "markdown",
   "metadata": {},
   "source": [
    "### Boolean Indexing:\n",
    "\n",
    "Both .loc[] and .ilock[] can be used with a boolean array (see 'filtering by value (masking)' bellow)"
   ]
  },
  {
   "cell_type": "code",
   "execution_count": 7,
   "metadata": {},
   "outputs": [
    {
     "data": {
      "text/plain": [
       "bananas         2.5\n",
       "strawberries    3.0\n",
       "dtype: float64"
      ]
     },
     "execution_count": 7,
     "metadata": {},
     "output_type": "execute_result"
    }
   ],
   "source": [
    "mask = [False, False, True, True]\n",
    "prices[mask]"
   ]
  },
  {
   "metadata": {
    "ExecuteTime": {
     "end_time": "2024-07-14T15:14:07.954847Z",
     "start_time": "2024-07-14T15:14:07.950648Z"
    }
   },
   "cell_type": "code",
   "source": "prices",
   "outputs": [
    {
     "data": {
      "text/plain": [
       "apples          1.5\n",
       "oranges         2.0\n",
       "bananas         2.5\n",
       "strawberries    3.0\n",
       "dtype: float64"
      ]
     },
     "execution_count": 32,
     "metadata": {},
     "output_type": "execute_result"
    }
   ],
   "execution_count": 32
  },
  {
   "metadata": {
    "ExecuteTime": {
     "end_time": "2024-07-14T15:16:16.218423Z",
     "start_time": "2024-07-14T15:16:16.213412Z"
    }
   },
   "cell_type": "code",
   "source": "prices[[True, False, False, False]]",
   "outputs": [
    {
     "data": {
      "text/plain": [
       "apples    1.5\n",
       "dtype: float64"
      ]
     },
     "execution_count": 34,
     "metadata": {},
     "output_type": "execute_result"
    }
   ],
   "execution_count": 34
  },
  {
   "cell_type": "code",
   "execution_count": 9,
   "metadata": {},
   "outputs": [
    {
     "data": {
      "text/plain": [
       "bananas         2.5\n",
       "strawberries    3.0\n",
       "dtype: float64"
      ]
     },
     "execution_count": 9,
     "metadata": {},
     "output_type": "execute_result"
    }
   ],
   "source": [
    "# get elements which values are > 2\n",
    "prices[prices>2]"
   ]
  },
  {
   "metadata": {
    "ExecuteTime": {
     "end_time": "2024-07-14T15:16:32.887495Z",
     "start_time": "2024-07-14T15:16:32.883250Z"
    }
   },
   "cell_type": "code",
   "source": "prices[prices > 2]",
   "outputs": [
    {
     "data": {
      "text/plain": [
       "bananas         2.5\n",
       "strawberries    3.0\n",
       "dtype: float64"
      ]
     },
     "execution_count": 35,
     "metadata": {},
     "output_type": "execute_result"
    }
   ],
   "execution_count": 35
  },
  {
   "cell_type": "markdown",
   "metadata": {
    "toc-hr-collapsed": true
   },
   "source": [
    "### Series Slicing\n",
    "\n",
    "We can pass slicing operators to .loc[] and .iloc[].\n",
    "\n",
    "s.iloc[start:end:step] works exacly as in Python or numpy slicing.\n",
    "\n",
    "Note, that when slicing with labels, like in s.loc[start:end:step], **both the start and the stop are included**."
   ]
  },
  {
   "cell_type": "code",
   "execution_count": 15,
   "metadata": {},
   "outputs": [
    {
     "data": {
      "text/plain": [
       "apples          1.5\n",
       "oranges         2.0\n",
       "bananas         2.5\n",
       "strawberries    3.0\n",
       "dtype: float64"
      ]
     },
     "execution_count": 15,
     "metadata": {},
     "output_type": "execute_result"
    }
   ],
   "source": [
    "# show the series\n",
    "prices"
   ]
  },
  {
   "cell_type": "code",
   "execution_count": 10,
   "metadata": {},
   "outputs": [
    {
     "data": {
      "text/plain": [
       "apples     1.5\n",
       "oranges    2.0\n",
       "dtype: float64"
      ]
     },
     "execution_count": 10,
     "metadata": {},
     "output_type": "execute_result"
    }
   ],
   "source": [
    "# positional slicing is exclusive\n",
    "prices.iloc[0:2]"
   ]
  },
  {
   "metadata": {
    "ExecuteTime": {
     "end_time": "2024-07-14T15:17:11.447501Z",
     "start_time": "2024-07-14T15:17:11.442651Z"
    }
   },
   "cell_type": "code",
   "source": "prices.iloc[:2:]",
   "outputs": [
    {
     "data": {
      "text/plain": [
       "apples     1.5\n",
       "oranges    2.0\n",
       "dtype: float64"
      ]
     },
     "execution_count": 36,
     "metadata": {},
     "output_type": "execute_result"
    }
   ],
   "execution_count": 36
  },
  {
   "cell_type": "code",
   "execution_count": 12,
   "metadata": {},
   "outputs": [
    {
     "data": {
      "text/plain": [
       "apples     1.5\n",
       "oranges    2.0\n",
       "bananas    2.5\n",
       "dtype: float64"
      ]
     },
     "execution_count": 12,
     "metadata": {},
     "output_type": "execute_result"
    }
   ],
   "source": [
    "# label slicing is inclusive\n",
    "prices['apples':'bananas']"
   ]
  },
  {
   "cell_type": "code",
   "execution_count": 13,
   "metadata": {},
   "outputs": [
    {
     "data": {
      "text/plain": [
       "bananas         2.5\n",
       "strawberries    3.0\n",
       "dtype: float64"
      ]
     },
     "execution_count": 13,
     "metadata": {},
     "output_type": "execute_result"
    }
   ],
   "source": [
    "# get all elements, from third till end\n",
    "prices.iloc[2:]"
   ]
  },
  {
   "cell_type": "code",
   "execution_count": 17,
   "metadata": {},
   "outputs": [
    {
     "data": {
      "text/plain": [
       "bananas         2.5\n",
       "strawberries    3.0\n",
       "dtype: float64"
      ]
     },
     "execution_count": 17,
     "metadata": {},
     "output_type": "execute_result"
    }
   ],
   "source": [
    "# get all elements, from 'bananas' till end\n",
    "prices.loc['bananas':]"
   ]
  },
  {
   "cell_type": "code",
   "execution_count": 18,
   "metadata": {},
   "outputs": [
    {
     "data": {
      "text/plain": [
       "oranges         2.0\n",
       "bananas         2.5\n",
       "strawberries    3.0\n",
       "dtype: float64"
      ]
     },
     "execution_count": 18,
     "metadata": {},
     "output_type": "execute_result"
    }
   ],
   "source": [
    "# get last 3 elements\n",
    "prices.iloc[-3:]"
   ]
  },
  {
   "cell_type": "code",
   "execution_count": 19,
   "metadata": {},
   "outputs": [
    {
     "data": {
      "text/plain": [
       "apples     1.5\n",
       "bananas    2.5\n",
       "dtype: float64"
      ]
     },
     "execution_count": 19,
     "metadata": {},
     "output_type": "execute_result"
    }
   ],
   "source": [
    "# slice with step 2:\n",
    "prices[::2]"
   ]
  },
  {
   "cell_type": "markdown",
   "metadata": {},
   "source": [
    "## Series Operations"
   ]
  },
  {
   "cell_type": "markdown",
   "metadata": {},
   "source": [
    "### Arithemtic operations are point-to-point"
   ]
  },
  {
   "cell_type": "code",
   "metadata": {
    "ExecuteTime": {
     "end_time": "2024-07-14T15:17:24.380637Z",
     "start_time": "2024-07-14T15:17:24.376599Z"
    }
   },
   "source": [
    "prices + 2"
   ],
   "outputs": [
    {
     "data": {
      "text/plain": [
       "apples          3.5\n",
       "oranges         4.0\n",
       "bananas         4.5\n",
       "strawberries    5.0\n",
       "dtype: float64"
      ]
     },
     "execution_count": 37,
     "metadata": {},
     "output_type": "execute_result"
    }
   ],
   "execution_count": 37
  },
  {
   "cell_type": "markdown",
   "metadata": {},
   "source": [
    "### Comparison operations are point-to-point"
   ]
  },
  {
   "cell_type": "code",
   "execution_count": 34,
   "metadata": {},
   "outputs": [
    {
     "data": {
      "text/plain": [
       "apples          False\n",
       "oranges         False\n",
       "bananas          True\n",
       "strawberries     True\n",
       "dtype: bool"
      ]
     },
     "execution_count": 34,
     "metadata": {},
     "output_type": "execute_result"
    }
   ],
   "source": [
    "prices>2"
   ]
  },
  {
   "cell_type": "markdown",
   "metadata": {},
   "source": [
    "### Aligned operations\n",
    "\n",
    " When performing element-wise operations on two Series, Pandas matches the indices and performs the operations only on the matching index labels. If an index is present in one Series but not in the other, the result will have NaN for those indices."
   ]
  },
  {
   "cell_type": "code",
   "metadata": {
    "ExecuteTime": {
     "end_time": "2024-07-14T15:17:40.325340Z",
     "start_time": "2024-07-14T15:17:40.321029Z"
    }
   },
   "source": [
    "# Create sample Series\n",
    "s1 = pd.Series([1, 2, 3], index=['a', 'b', 'c'])\n",
    "s2 = pd.Series([4, 5, 6], index=['a', 'b', 'c'])\n",
    "s3 = pd.Series([7, 8, 9], index=['a', 'x', 'y'])\n",
    "\n",
    "print(s1)\n",
    "print(s2)\n",
    "print(s3)"
   ],
   "outputs": [
    {
     "name": "stdout",
     "output_type": "stream",
     "text": [
      "a    1\n",
      "b    2\n",
      "c    3\n",
      "dtype: int64\n",
      "a    4\n",
      "b    5\n",
      "c    6\n",
      "dtype: int64\n",
      "a    7\n",
      "x    8\n",
      "y    9\n",
      "dtype: int64\n"
     ]
    }
   ],
   "execution_count": 38
  },
  {
   "cell_type": "code",
   "metadata": {
    "ExecuteTime": {
     "end_time": "2024-07-14T15:17:52.303950Z",
     "start_time": "2024-07-14T15:17:52.298961Z"
    }
   },
   "source": [
    "s1+s2"
   ],
   "outputs": [
    {
     "data": {
      "text/plain": [
       "a    5\n",
       "b    7\n",
       "c    9\n",
       "dtype: int64"
      ]
     },
     "execution_count": 39,
     "metadata": {},
     "output_type": "execute_result"
    }
   ],
   "execution_count": 39
  },
  {
   "cell_type": "code",
   "metadata": {
    "ExecuteTime": {
     "end_time": "2024-07-14T15:18:12.588689Z",
     "start_time": "2024-07-14T15:18:12.585947Z"
    }
   },
   "source": "s4 = s1+s3",
   "outputs": [],
   "execution_count": 41
  },
  {
   "metadata": {
    "ExecuteTime": {
     "end_time": "2024-07-14T15:19:32.681087Z",
     "start_time": "2024-07-14T15:19:32.676459Z"
    }
   },
   "cell_type": "code",
   "source": "pd.isna(s4) ",
   "outputs": [
    {
     "data": {
      "text/plain": [
       "a    False\n",
       "b     True\n",
       "c     True\n",
       "x     True\n",
       "y     True\n",
       "dtype: bool"
      ]
     },
     "execution_count": 42,
     "metadata": {},
     "output_type": "execute_result"
    }
   ],
   "execution_count": 42
  },
  {
   "cell_type": "markdown",
   "metadata": {},
   "source": [
    "### Dictionary like operation on Series"
   ]
  },
  {
   "cell_type": "code",
   "metadata": {
    "ExecuteTime": {
     "end_time": "2024-07-14T15:20:06.020278Z",
     "start_time": "2024-07-14T15:20:06.017215Z"
    }
   },
   "source": "\"apples\" in prices",
   "outputs": [
    {
     "data": {
      "text/plain": [
       "False"
      ]
     },
     "execution_count": 47,
     "metadata": {},
     "output_type": "execute_result"
    }
   ],
   "execution_count": 47
  },
  {
   "metadata": {
    "ExecuteTime": {
     "end_time": "2024-07-14T15:20:48.011289Z",
     "start_time": "2024-07-14T15:20:48.007052Z"
    }
   },
   "cell_type": "code",
   "source": "10 in prices.values",
   "outputs": [
    {
     "data": {
      "text/plain": [
       "False"
      ]
     },
     "execution_count": 49,
     "metadata": {},
     "output_type": "execute_result"
    }
   ],
   "execution_count": 49
  },
  {
   "cell_type": "code",
   "execution_count": 19,
   "metadata": {},
   "outputs": [
    {
     "data": {
      "text/plain": [
       "False"
      ]
     },
     "execution_count": 19,
     "metadata": {},
     "output_type": "execute_result"
    }
   ],
   "source": [
    "3 in s"
   ]
  },
  {
   "cell_type": "markdown",
   "metadata": {},
   "source": [
    "### Missing Data"
   ]
  },
  {
   "cell_type": "code",
   "execution_count": 20,
   "metadata": {},
   "outputs": [],
   "source": [
    "s1 = pd.Series([1,3], index=[\"a\",\"c\"], dtype=\"int32\")\n",
    "s2 = pd.Series([2,3], index=[\"b\",\"c\"], dtype=\"int32\")"
   ]
  },
  {
   "cell_type": "code",
   "execution_count": 21,
   "metadata": {},
   "outputs": [
    {
     "data": {
      "text/plain": [
       "a    NaN\n",
       "b    NaN\n",
       "c    6.0\n",
       "dtype: float64"
      ]
     },
     "execution_count": 21,
     "metadata": {},
     "output_type": "execute_result"
    }
   ],
   "source": [
    "s1+s2"
   ]
  }
 ],
 "metadata": {
  "jupytext": {},
  "kernelspec": {
   "display_name": "Python 3.9.12 ('.venv': venv)",
   "language": "python",
   "name": "python3"
  },
  "language_info": {
   "codemirror_mode": {
    "name": "ipython",
    "version": 3
   },
   "file_extension": ".py",
   "mimetype": "text/x-python",
   "name": "python",
   "nbconvert_exporter": "python",
   "pygments_lexer": "ipython3",
   "version": "3.12.3"
  },
  "vscode": {
   "interpreter": {
    "hash": "2f198458d93464d0c0db318fa461a510553a123fa96784438e9d36dcd5767d99"
   }
  }
 },
 "nbformat": 4,
 "nbformat_minor": 4
}
