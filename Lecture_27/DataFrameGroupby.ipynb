{
 "cells": [
  {
   "cell_type": "code",
   "execution_count": 1,
   "metadata": {},
   "outputs": [],
   "source": [
    "import pandas as pd\n",
    "import numpy as np"
   ]
  },
  {
   "cell_type": "markdown",
   "metadata": {},
   "source": [
    "# DataFrame groupby method\n",
    "\n",
    "The `groupby` method in Pandas is used to split the data into groups based on some criteria. It is often used to perform operations on each of these groups independently, such as aggregation, transformation, or filtration.\n",
    "\n",
    "<img src=\"./images/DF_grouping.webp\" style=\"height:300px\">\n",
    "\n",
    "By groupby method in Pandas we perform the \"Split-Apply-Combine\" Strategy.\n",
    "\n",
    "Here's how it works:\n",
    "\n",
    "1. Splitting: You start by splitting your data into groups based on a column.\n",
    "2. Applying: You apply a function to each group independently.\n",
    "3. Combining: The results are then combined into a new DataFrame.\n",
    "\n",
    "<img src=\"./images/split-apply-combine.svg\" style=\"height:300px\">\n",
    "\n",
    "### Basic example"
   ]
  },
  {
   "cell_type": "code",
   "execution_count": 2,
   "metadata": {},
   "outputs": [
    {
     "data": {
      "text/html": [
       "<div>\n",
       "<style scoped>\n",
       "    .dataframe tbody tr th:only-of-type {\n",
       "        vertical-align: middle;\n",
       "    }\n",
       "\n",
       "    .dataframe tbody tr th {\n",
       "        vertical-align: top;\n",
       "    }\n",
       "\n",
       "    .dataframe thead th {\n",
       "        text-align: right;\n",
       "    }\n",
       "</style>\n",
       "<table border=\"1\" class=\"dataframe\">\n",
       "  <thead>\n",
       "    <tr style=\"text-align: right;\">\n",
       "      <th></th>\n",
       "      <th>Category</th>\n",
       "      <th>Values</th>\n",
       "    </tr>\n",
       "  </thead>\n",
       "  <tbody>\n",
       "    <tr>\n",
       "      <th>0</th>\n",
       "      <td>A</td>\n",
       "      <td>1</td>\n",
       "    </tr>\n",
       "    <tr>\n",
       "      <th>1</th>\n",
       "      <td>A</td>\n",
       "      <td>2</td>\n",
       "    </tr>\n",
       "    <tr>\n",
       "      <th>2</th>\n",
       "      <td>B</td>\n",
       "      <td>3</td>\n",
       "    </tr>\n",
       "    <tr>\n",
       "      <th>3</th>\n",
       "      <td>B</td>\n",
       "      <td>4</td>\n",
       "    </tr>\n",
       "    <tr>\n",
       "      <th>4</th>\n",
       "      <td>C</td>\n",
       "      <td>5</td>\n",
       "    </tr>\n",
       "    <tr>\n",
       "      <th>5</th>\n",
       "      <td>C</td>\n",
       "      <td>6</td>\n",
       "    </tr>\n",
       "  </tbody>\n",
       "</table>\n",
       "</div>"
      ],
      "text/plain": [
       "  Category  Values\n",
       "0        A       1\n",
       "1        A       2\n",
       "2        B       3\n",
       "3        B       4\n",
       "4        C       5\n",
       "5        C       6"
      ]
     },
     "execution_count": 2,
     "metadata": {},
     "output_type": "execute_result"
    }
   ],
   "source": [
    "# Sample DataFrame\n",
    "data = {\n",
    "    'Category': ['A', 'A', 'B', 'B', 'C', 'C'],\n",
    "    'Values': [1, 2, 3, 4, 5, 6]\n",
    "}\n",
    "df = pd.DataFrame(data)\n",
    "df"
   ]
  },
  {
   "cell_type": "code",
   "execution_count": 3,
   "metadata": {},
   "outputs": [
    {
     "data": {
      "text/plain": [
       "Category\n",
       "A     3\n",
       "B     7\n",
       "C    11\n",
       "Name: Values, dtype: int64"
      ]
     },
     "execution_count": 3,
     "metadata": {},
     "output_type": "execute_result"
    }
   ],
   "source": [
    "# Group by 'Category' and calculate the sum of 'Values'\n",
    "grouped = df.groupby('Category')\n",
    "grouped['Values'].sum()"
   ]
  },
  {
   "cell_type": "markdown",
   "metadata": {},
   "source": [
    "### Groupby Object\n",
    "\n",
    "groupby() method returns a [GroupBy object](https://pandas.pydata.org/docs/reference/groupby.html)"
   ]
  },
  {
   "cell_type": "code",
   "execution_count": 4,
   "metadata": {},
   "outputs": [
    {
     "name": "stdout",
     "output_type": "stream",
     "text": [
      "group_name:A\n",
      "  Category  Values\n",
      "0        A       1\n",
      "1        A       2\n",
      "\n",
      "group_name:B\n",
      "  Category  Values\n",
      "2        B       3\n",
      "3        B       4\n",
      "\n",
      "group_name:C\n",
      "  Category  Values\n",
      "4        C       5\n",
      "5        C       6\n",
      "\n"
     ]
    }
   ],
   "source": [
    "# iterate on groupby object\n",
    "for group_name,group in grouped:\n",
    "\tprint(f'group_name:{group_name}')\n",
    "\tprint(group)\n",
    "\tprint()"
   ]
  },
  {
   "cell_type": "code",
   "execution_count": 5,
   "metadata": {},
   "outputs": [
    {
     "name": "stdout",
     "output_type": "stream",
     "text": [
      "{'A': [0, 1], 'B': [2, 3], 'C': [4, 5]}\n"
     ]
    }
   ],
   "source": [
    "# get gorups as Dict {group name -> group labels}.\n",
    "print(grouped.groups)"
   ]
  },
  {
   "cell_type": "code",
   "execution_count": 6,
   "metadata": {},
   "outputs": [
    {
     "data": {
      "text/html": [
       "<div>\n",
       "<style scoped>\n",
       "    .dataframe tbody tr th:only-of-type {\n",
       "        vertical-align: middle;\n",
       "    }\n",
       "\n",
       "    .dataframe tbody tr th {\n",
       "        vertical-align: top;\n",
       "    }\n",
       "\n",
       "    .dataframe thead th {\n",
       "        text-align: right;\n",
       "    }\n",
       "</style>\n",
       "<table border=\"1\" class=\"dataframe\">\n",
       "  <thead>\n",
       "    <tr style=\"text-align: right;\">\n",
       "      <th></th>\n",
       "      <th>Category</th>\n",
       "      <th>Values</th>\n",
       "    </tr>\n",
       "  </thead>\n",
       "  <tbody>\n",
       "    <tr>\n",
       "      <th>0</th>\n",
       "      <td>A</td>\n",
       "      <td>1</td>\n",
       "    </tr>\n",
       "    <tr>\n",
       "      <th>1</th>\n",
       "      <td>A</td>\n",
       "      <td>2</td>\n",
       "    </tr>\n",
       "  </tbody>\n",
       "</table>\n",
       "</div>"
      ],
      "text/plain": [
       "  Category  Values\n",
       "0        A       1\n",
       "1        A       2"
      ]
     },
     "execution_count": 6,
     "metadata": {},
     "output_type": "execute_result"
    }
   ],
   "source": [
    "# select a group\n",
    "grouped.get_group(\"A\")"
   ]
  },
  {
   "cell_type": "markdown",
   "metadata": {},
   "source": [
    "## Aggregating functions\n",
    "\n",
    "<table class=\"colwidths-given table\">\n",
    "<colgroup>\n",
    "<col style=\"width: 20%\">\n",
    "<col style=\"width: 80%\">\n",
    "</colgroup>\n",
    "<thead>\n",
    "<tr class=\"row-odd\"><th class=\"head\"><p>Function</p></th>\n",
    "<th class=\"head\"><p>Description</p></th>\n",
    "</tr>\n",
    "</thead>\n",
    "<tbody>\n",
    "<tr class=\"row-even\"><td><p><code class=\"xref py py-meth docutils literal notranslate\"><span class=\"pre\">mean()</span></code></p></td>\n",
    "<td><p>Compute mean of groups</p></td>\n",
    "</tr>\n",
    "<tr class=\"row-odd\"><td><p><code class=\"xref py py-meth docutils literal notranslate\"><span class=\"pre\">sum()</span></code></p></td>\n",
    "<td><p>Compute sum of group values</p></td>\n",
    "</tr>\n",
    "<tr class=\"row-even\"><td><p><code class=\"xref py py-meth docutils literal notranslate\"><span class=\"pre\">size()</span></code></p></td>\n",
    "<td><p>Compute group sizes</p></td>\n",
    "</tr>\n",
    "<tr class=\"row-odd\"><td><p><code class=\"xref py py-meth docutils literal notranslate\"><span class=\"pre\">count()</span></code></p></td>\n",
    "<td><p>Compute count of group</p></td>\n",
    "</tr>\n",
    "<tr class=\"row-even\"><td><p><code class=\"xref py py-meth docutils literal notranslate\"><span class=\"pre\">std()</span></code></p></td>\n",
    "<td><p>Standard deviation of groups</p></td>\n",
    "</tr>\n",
    "<tr class=\"row-odd\"><td><p><code class=\"xref py py-meth docutils literal notranslate\"><span class=\"pre\">var()</span></code></p></td>\n",
    "<td><p>Compute variance of groups</p></td>\n",
    "</tr>\n",
    "<tr class=\"row-even\"><td><p><code class=\"xref py py-meth docutils literal notranslate\"><span class=\"pre\">sem()</span></code></p></td>\n",
    "<td><p>Standard error of the mean of groups</p></td>\n",
    "</tr>\n",
    "<tr class=\"row-odd\"><td><p><code class=\"xref py py-meth docutils literal notranslate\"><span class=\"pre\">describe()</span></code></p></td>\n",
    "<td><p>Generates descriptive statistics</p></td>\n",
    "</tr>\n",
    "<tr class=\"row-even\"><td><p><code class=\"xref py py-meth docutils literal notranslate\"><span class=\"pre\">first()</span></code></p></td>\n",
    "<td><p>Compute first of group values</p></td>\n",
    "</tr>\n",
    "<tr class=\"row-odd\"><td><p><code class=\"xref py py-meth docutils literal notranslate\"><span class=\"pre\">last()</span></code></p></td>\n",
    "<td><p>Compute last of group values</p></td>\n",
    "</tr>\n",
    "<tr class=\"row-even\"><td><p><code class=\"xref py py-meth docutils literal notranslate\"><span class=\"pre\">nth()</span></code></p></td>\n",
    "<td><p>Take nth value, or a subset if n is a list</p></td>\n",
    "</tr>\n",
    "<tr class=\"row-odd\"><td><p><code class=\"xref py py-meth docutils literal notranslate\"><span class=\"pre\">min()</span></code></p></td>\n",
    "<td><p>Compute min of group values</p></td>\n",
    "</tr>\n",
    "<tr class=\"row-even\"><td><p><code class=\"xref py py-meth docutils literal notranslate\"><span class=\"pre\">max()</span></code></p></td>\n",
    "<td><p>Compute max of group values</p></td>\n",
    "</tr>\n",
    "</tbody>\n",
    "</table>"
   ]
  },
  {
   "cell_type": "code",
   "execution_count": 7,
   "metadata": {},
   "outputs": [
    {
     "data": {
      "text/html": [
       "<div>\n",
       "<style scoped>\n",
       "    .dataframe tbody tr th:only-of-type {\n",
       "        vertical-align: middle;\n",
       "    }\n",
       "\n",
       "    .dataframe tbody tr th {\n",
       "        vertical-align: top;\n",
       "    }\n",
       "\n",
       "    .dataframe thead th {\n",
       "        text-align: right;\n",
       "    }\n",
       "</style>\n",
       "<table border=\"1\" class=\"dataframe\">\n",
       "  <thead>\n",
       "    <tr style=\"text-align: right;\">\n",
       "      <th></th>\n",
       "      <th>Category</th>\n",
       "      <th>Values</th>\n",
       "    </tr>\n",
       "  </thead>\n",
       "  <tbody>\n",
       "    <tr>\n",
       "      <th>0</th>\n",
       "      <td>A</td>\n",
       "      <td>1</td>\n",
       "    </tr>\n",
       "    <tr>\n",
       "      <th>1</th>\n",
       "      <td>A</td>\n",
       "      <td>2</td>\n",
       "    </tr>\n",
       "    <tr>\n",
       "      <th>2</th>\n",
       "      <td>B</td>\n",
       "      <td>3</td>\n",
       "    </tr>\n",
       "    <tr>\n",
       "      <th>3</th>\n",
       "      <td>B</td>\n",
       "      <td>4</td>\n",
       "    </tr>\n",
       "    <tr>\n",
       "      <th>4</th>\n",
       "      <td>C</td>\n",
       "      <td>5</td>\n",
       "    </tr>\n",
       "    <tr>\n",
       "      <th>5</th>\n",
       "      <td>C</td>\n",
       "      <td>6</td>\n",
       "    </tr>\n",
       "  </tbody>\n",
       "</table>\n",
       "</div>"
      ],
      "text/plain": [
       "  Category  Values\n",
       "0        A       1\n",
       "1        A       2\n",
       "2        B       3\n",
       "3        B       4\n",
       "4        C       5\n",
       "5        C       6"
      ]
     },
     "execution_count": 7,
     "metadata": {},
     "output_type": "execute_result"
    }
   ],
   "source": [
    "df"
   ]
  },
  {
   "cell_type": "code",
   "execution_count": 8,
   "metadata": {},
   "outputs": [
    {
     "data": {
      "text/html": [
       "<div>\n",
       "<style scoped>\n",
       "    .dataframe tbody tr th:only-of-type {\n",
       "        vertical-align: middle;\n",
       "    }\n",
       "\n",
       "    .dataframe tbody tr th {\n",
       "        vertical-align: top;\n",
       "    }\n",
       "\n",
       "    .dataframe thead th {\n",
       "        text-align: right;\n",
       "    }\n",
       "</style>\n",
       "<table border=\"1\" class=\"dataframe\">\n",
       "  <thead>\n",
       "    <tr style=\"text-align: right;\">\n",
       "      <th></th>\n",
       "      <th>Values</th>\n",
       "    </tr>\n",
       "    <tr>\n",
       "      <th>Category</th>\n",
       "      <th></th>\n",
       "    </tr>\n",
       "  </thead>\n",
       "  <tbody>\n",
       "    <tr>\n",
       "      <th>A</th>\n",
       "      <td>2</td>\n",
       "    </tr>\n",
       "    <tr>\n",
       "      <th>B</th>\n",
       "      <td>2</td>\n",
       "    </tr>\n",
       "    <tr>\n",
       "      <th>C</th>\n",
       "      <td>2</td>\n",
       "    </tr>\n",
       "  </tbody>\n",
       "</table>\n",
       "</div>"
      ],
      "text/plain": [
       "          Values\n",
       "Category        \n",
       "A              2\n",
       "B              2\n",
       "C              2"
      ]
     },
     "execution_count": 8,
     "metadata": {},
     "output_type": "execute_result"
    }
   ],
   "source": [
    "# Compute count of group, excluding missing values.\n",
    "grouped.count()"
   ]
  },
  {
   "cell_type": "code",
   "execution_count": 9,
   "metadata": {},
   "outputs": [
    {
     "data": {
      "text/html": [
       "<div>\n",
       "<style scoped>\n",
       "    .dataframe tbody tr th:only-of-type {\n",
       "        vertical-align: middle;\n",
       "    }\n",
       "\n",
       "    .dataframe tbody tr th {\n",
       "        vertical-align: top;\n",
       "    }\n",
       "\n",
       "    .dataframe thead th {\n",
       "        text-align: right;\n",
       "    }\n",
       "</style>\n",
       "<table border=\"1\" class=\"dataframe\">\n",
       "  <thead>\n",
       "    <tr style=\"text-align: right;\">\n",
       "      <th></th>\n",
       "      <th>Values</th>\n",
       "    </tr>\n",
       "    <tr>\n",
       "      <th>Category</th>\n",
       "      <th></th>\n",
       "    </tr>\n",
       "  </thead>\n",
       "  <tbody>\n",
       "    <tr>\n",
       "      <th>A</th>\n",
       "      <td>2</td>\n",
       "    </tr>\n",
       "    <tr>\n",
       "      <th>B</th>\n",
       "      <td>4</td>\n",
       "    </tr>\n",
       "    <tr>\n",
       "      <th>C</th>\n",
       "      <td>6</td>\n",
       "    </tr>\n",
       "  </tbody>\n",
       "</table>\n",
       "</div>"
      ],
      "text/plain": [
       "          Values\n",
       "Category        \n",
       "A              2\n",
       "B              4\n",
       "C              6"
      ]
     },
     "execution_count": 9,
     "metadata": {},
     "output_type": "execute_result"
    }
   ],
   "source": [
    "# Compute max of group values\n",
    "grouped.max()"
   ]
  },
  {
   "cell_type": "code",
   "execution_count": 10,
   "metadata": {},
   "outputs": [
    {
     "data": {
      "text/html": [
       "<div>\n",
       "<style scoped>\n",
       "    .dataframe tbody tr th:only-of-type {\n",
       "        vertical-align: middle;\n",
       "    }\n",
       "\n",
       "    .dataframe tbody tr th {\n",
       "        vertical-align: top;\n",
       "    }\n",
       "\n",
       "    .dataframe thead th {\n",
       "        text-align: right;\n",
       "    }\n",
       "</style>\n",
       "<table border=\"1\" class=\"dataframe\">\n",
       "  <thead>\n",
       "    <tr style=\"text-align: right;\">\n",
       "      <th></th>\n",
       "      <th>Values</th>\n",
       "    </tr>\n",
       "    <tr>\n",
       "      <th>Category</th>\n",
       "      <th></th>\n",
       "    </tr>\n",
       "  </thead>\n",
       "  <tbody>\n",
       "    <tr>\n",
       "      <th>A</th>\n",
       "      <td>3</td>\n",
       "    </tr>\n",
       "    <tr>\n",
       "      <th>B</th>\n",
       "      <td>7</td>\n",
       "    </tr>\n",
       "    <tr>\n",
       "      <th>C</th>\n",
       "      <td>11</td>\n",
       "    </tr>\n",
       "  </tbody>\n",
       "</table>\n",
       "</div>"
      ],
      "text/plain": [
       "          Values\n",
       "Category        \n",
       "A              3\n",
       "B              7\n",
       "C             11"
      ]
     },
     "execution_count": 10,
     "metadata": {},
     "output_type": "execute_result"
    }
   ],
   "source": [
    "# Compute sum of group values\n",
    "grouped.sum()"
   ]
  },
  {
   "cell_type": "code",
   "execution_count": 11,
   "metadata": {},
   "outputs": [
    {
     "data": {
      "text/html": [
       "<div>\n",
       "<style scoped>\n",
       "    .dataframe tbody tr th:only-of-type {\n",
       "        vertical-align: middle;\n",
       "    }\n",
       "\n",
       "    .dataframe tbody tr th {\n",
       "        vertical-align: top;\n",
       "    }\n",
       "\n",
       "    .dataframe thead th {\n",
       "        text-align: right;\n",
       "    }\n",
       "</style>\n",
       "<table border=\"1\" class=\"dataframe\">\n",
       "  <thead>\n",
       "    <tr style=\"text-align: right;\">\n",
       "      <th></th>\n",
       "      <th>Category</th>\n",
       "      <th>Values</th>\n",
       "    </tr>\n",
       "  </thead>\n",
       "  <tbody>\n",
       "    <tr>\n",
       "      <th>0</th>\n",
       "      <td>A</td>\n",
       "      <td>1</td>\n",
       "    </tr>\n",
       "    <tr>\n",
       "      <th>1</th>\n",
       "      <td>A</td>\n",
       "      <td>2</td>\n",
       "    </tr>\n",
       "    <tr>\n",
       "      <th>2</th>\n",
       "      <td>B</td>\n",
       "      <td>3</td>\n",
       "    </tr>\n",
       "    <tr>\n",
       "      <th>3</th>\n",
       "      <td>B</td>\n",
       "      <td>4</td>\n",
       "    </tr>\n",
       "    <tr>\n",
       "      <th>4</th>\n",
       "      <td>C</td>\n",
       "      <td>5</td>\n",
       "    </tr>\n",
       "    <tr>\n",
       "      <th>5</th>\n",
       "      <td>C</td>\n",
       "      <td>6</td>\n",
       "    </tr>\n",
       "  </tbody>\n",
       "</table>\n",
       "</div>"
      ],
      "text/plain": [
       "  Category  Values\n",
       "0        A       1\n",
       "1        A       2\n",
       "2        B       3\n",
       "3        B       4\n",
       "4        C       5\n",
       "5        C       6"
      ]
     },
     "execution_count": 11,
     "metadata": {},
     "output_type": "execute_result"
    }
   ],
   "source": [
    "# Take the nth row from each group if n is an int, or a subset of rows if n is a list of ints.\n",
    "# continents_group.nth(1)\n",
    "grouped.nth([0,-1])"
   ]
  },
  {
   "cell_type": "markdown",
   "metadata": {},
   "source": [
    "## More examples\n",
    "\n",
    "### Example 1: Sales Data\n",
    "\n",
    "Scenario: You have a dataset of sales records for a store, including the date, product category, and sales amount. You want to analyze the total sales by category and month."
   ]
  },
  {
   "cell_type": "code",
   "execution_count": 12,
   "metadata": {},
   "outputs": [
    {
     "data": {
      "text/html": [
       "<div>\n",
       "<style scoped>\n",
       "    .dataframe tbody tr th:only-of-type {\n",
       "        vertical-align: middle;\n",
       "    }\n",
       "\n",
       "    .dataframe tbody tr th {\n",
       "        vertical-align: top;\n",
       "    }\n",
       "\n",
       "    .dataframe thead th {\n",
       "        text-align: right;\n",
       "    }\n",
       "</style>\n",
       "<table border=\"1\" class=\"dataframe\">\n",
       "  <thead>\n",
       "    <tr style=\"text-align: right;\">\n",
       "      <th></th>\n",
       "      <th>Date</th>\n",
       "      <th>Category</th>\n",
       "      <th>Sales_Amount</th>\n",
       "    </tr>\n",
       "  </thead>\n",
       "  <tbody>\n",
       "    <tr>\n",
       "      <th>0</th>\n",
       "      <td>2023-03-15</td>\n",
       "      <td>Clothing</td>\n",
       "      <td>91.996660</td>\n",
       "    </tr>\n",
       "    <tr>\n",
       "      <th>1</th>\n",
       "      <td>2023-01-11</td>\n",
       "      <td>Clothing</td>\n",
       "      <td>399.065020</td>\n",
       "    </tr>\n",
       "    <tr>\n",
       "      <th>2</th>\n",
       "      <td>2023-01-16</td>\n",
       "      <td>Clothing</td>\n",
       "      <td>201.340619</td>\n",
       "    </tr>\n",
       "    <tr>\n",
       "      <th>3</th>\n",
       "      <td>2023-02-28</td>\n",
       "      <td>Electronics</td>\n",
       "      <td>58.810047</td>\n",
       "    </tr>\n",
       "    <tr>\n",
       "      <th>4</th>\n",
       "      <td>2023-01-04</td>\n",
       "      <td>Furniture</td>\n",
       "      <td>110.784225</td>\n",
       "    </tr>\n",
       "  </tbody>\n",
       "</table>\n",
       "</div>"
      ],
      "text/plain": [
       "        Date     Category  Sales_Amount\n",
       "0 2023-03-15     Clothing     91.996660\n",
       "1 2023-01-11     Clothing    399.065020\n",
       "2 2023-01-16     Clothing    201.340619\n",
       "3 2023-02-28  Electronics     58.810047\n",
       "4 2023-01-04    Furniture    110.784225"
      ]
     },
     "execution_count": 12,
     "metadata": {},
     "output_type": "execute_result"
    }
   ],
   "source": [
    "# Generate sample sales data\n",
    "\n",
    "rng = np.random.default_rng(42)\n",
    "dates = pd.date_range('2023-01-01', periods=100, freq='D')\n",
    "categories = ['Electronics', 'Clothing', 'Furniture']\n",
    "sales_data = {\n",
    "    'Date': np.random.choice(dates, 100),\n",
    "    'Category': np.random.choice(categories, 100),\n",
    "    'Sales_Amount': np.random.uniform(20, 500, 100)\n",
    "}\n",
    "df_sales = pd.DataFrame(sales_data)\n",
    "df_sales.head()"
   ]
  },
  {
   "cell_type": "code",
   "execution_count": 13,
   "metadata": {},
   "outputs": [
    {
     "data": {
      "text/plain": [
       "Category\n",
       "Clothing       9594.802793\n",
       "Electronics    8455.121560\n",
       "Furniture      8124.840420\n",
       "Name: Sales_Amount, dtype: float64"
      ]
     },
     "execution_count": 13,
     "metadata": {},
     "output_type": "execute_result"
    }
   ],
   "source": [
    "### Calculate total sales by category\n",
    "# Group by 'Category' and calculate total sales\n",
    "grouped_sales = df_sales.groupby('Category')\n",
    "grouped_sales['Sales_Amount'].sum()"
   ]
  },
  {
   "cell_type": "code",
   "execution_count": 14,
   "metadata": {},
   "outputs": [
    {
     "data": {
      "text/plain": [
       "Category     Month  \n",
       "Clothing     2023-01    2043.936203\n",
       "             2023-02    5902.079431\n",
       "             2023-03     841.839688\n",
       "             2023-04     806.947470\n",
       "Electronics  2023-01    3498.116774\n",
       "             2023-02    2299.813938\n",
       "             2023-03    2530.924610\n",
       "             2023-04     126.266238\n",
       "Furniture    2023-01    2110.887860\n",
       "             2023-02    2683.403718\n",
       "             2023-03    1749.057290\n",
       "             2023-04    1581.491551\n",
       "Name: Sales_Amount, dtype: float64"
      ]
     },
     "execution_count": 14,
     "metadata": {},
     "output_type": "execute_result"
    }
   ],
   "source": [
    "### Calculate total sales by category and month\n",
    "# add Month column, extract from 'Date':\n",
    "df_sales['Month'] = df_sales['Date'].dt.to_period('M')\n",
    "\n",
    "# Group by 'Category' and 'Month' and calculate total sales\n",
    "grouped_sales_month = df_sales.groupby(['Category', 'Month'])\n",
    "grouped_sales_month['Sales_Amount'].sum()"
   ]
  },
  {
   "cell_type": "markdown",
   "metadata": {},
   "source": [
    "### Example 2: Customer Transactions\n",
    "\n",
    "*Scenario*: You have a dataset of customer transactions, including customer ID, transaction date, and transaction amount. You want to perform the following tasks:\n",
    "\n",
    "1. Calculate the total transaction amount for each customer.\n",
    "1. Find the average transaction amount per customer.\n",
    "1. Identify customers with transactions above a certain threshold.\n",
    "1. Analyze monthly transactions for each customer.\n"
   ]
  },
  {
   "cell_type": "code",
   "execution_count": 15,
   "metadata": {},
   "outputs": [
    {
     "data": {
      "text/html": [
       "<div>\n",
       "<style scoped>\n",
       "    .dataframe tbody tr th:only-of-type {\n",
       "        vertical-align: middle;\n",
       "    }\n",
       "\n",
       "    .dataframe tbody tr th {\n",
       "        vertical-align: top;\n",
       "    }\n",
       "\n",
       "    .dataframe thead th {\n",
       "        text-align: right;\n",
       "    }\n",
       "</style>\n",
       "<table border=\"1\" class=\"dataframe\">\n",
       "  <thead>\n",
       "    <tr style=\"text-align: right;\">\n",
       "      <th></th>\n",
       "      <th>Customer_ID</th>\n",
       "      <th>Transaction_Date</th>\n",
       "      <th>Transaction_Amount</th>\n",
       "    </tr>\n",
       "  </thead>\n",
       "  <tbody>\n",
       "    <tr>\n",
       "      <th>0</th>\n",
       "      <td>7</td>\n",
       "      <td>2023-01-12</td>\n",
       "      <td>285.860000</td>\n",
       "    </tr>\n",
       "    <tr>\n",
       "      <th>1</th>\n",
       "      <td>4</td>\n",
       "      <td>2023-02-03</td>\n",
       "      <td>909.183227</td>\n",
       "    </tr>\n",
       "    <tr>\n",
       "      <th>2</th>\n",
       "      <td>8</td>\n",
       "      <td>2023-02-02</td>\n",
       "      <td>247.166272</td>\n",
       "    </tr>\n",
       "    <tr>\n",
       "      <th>3</th>\n",
       "      <td>5</td>\n",
       "      <td>2023-02-17</td>\n",
       "      <td>153.445923</td>\n",
       "    </tr>\n",
       "    <tr>\n",
       "      <th>4</th>\n",
       "      <td>7</td>\n",
       "      <td>2023-01-23</td>\n",
       "      <td>494.558233</td>\n",
       "    </tr>\n",
       "    <tr>\n",
       "      <th>...</th>\n",
       "      <td>...</td>\n",
       "      <td>...</td>\n",
       "      <td>...</td>\n",
       "    </tr>\n",
       "    <tr>\n",
       "      <th>95</th>\n",
       "      <td>10</td>\n",
       "      <td>2023-01-02</td>\n",
       "      <td>25.302050</td>\n",
       "    </tr>\n",
       "    <tr>\n",
       "      <th>96</th>\n",
       "      <td>9</td>\n",
       "      <td>2023-01-02</td>\n",
       "      <td>929.035377</td>\n",
       "    </tr>\n",
       "    <tr>\n",
       "      <th>97</th>\n",
       "      <td>7</td>\n",
       "      <td>2023-04-02</td>\n",
       "      <td>433.902307</td>\n",
       "    </tr>\n",
       "    <tr>\n",
       "      <th>98</th>\n",
       "      <td>9</td>\n",
       "      <td>2023-02-23</td>\n",
       "      <td>966.988271</td>\n",
       "    </tr>\n",
       "    <tr>\n",
       "      <th>99</th>\n",
       "      <td>8</td>\n",
       "      <td>2023-03-28</td>\n",
       "      <td>963.983777</td>\n",
       "    </tr>\n",
       "  </tbody>\n",
       "</table>\n",
       "<p>100 rows × 3 columns</p>\n",
       "</div>"
      ],
      "text/plain": [
       "    Customer_ID Transaction_Date  Transaction_Amount\n",
       "0             7       2023-01-12          285.860000\n",
       "1             4       2023-02-03          909.183227\n",
       "2             8       2023-02-02          247.166272\n",
       "3             5       2023-02-17          153.445923\n",
       "4             7       2023-01-23          494.558233\n",
       "..          ...              ...                 ...\n",
       "95           10       2023-01-02           25.302050\n",
       "96            9       2023-01-02          929.035377\n",
       "97            7       2023-04-02          433.902307\n",
       "98            9       2023-02-23          966.988271\n",
       "99            8       2023-03-28          963.983777\n",
       "\n",
       "[100 rows x 3 columns]"
      ]
     },
     "execution_count": 15,
     "metadata": {},
     "output_type": "execute_result"
    }
   ],
   "source": [
    "# Generate sample customer transactions data\n",
    "np.random.seed(42)\n",
    "customer_ids = np.arange(1, 11)\n",
    "dates = pd.date_range('2023-01-01', periods=100, freq='D')\n",
    "transaction_data = {\n",
    "    'Customer_ID': np.random.choice(customer_ids, 100),\n",
    "    'Transaction_Date': np.random.choice(dates, 100),\n",
    "    'Transaction_Amount': np.random.uniform(10, 1000, 100)\n",
    "}\n",
    "df_transactions = pd.DataFrame(transaction_data)\n",
    "df_transactions"
   ]
  },
  {
   "cell_type": "code",
   "execution_count": 16,
   "metadata": {},
   "outputs": [
    {
     "name": "stdout",
     "output_type": "stream",
     "text": [
      "Total transaction amount for each customer:\n"
     ]
    },
    {
     "data": {
      "text/plain": [
       "Customer_ID\n",
       "1     4184.441341\n",
       "2     3593.600771\n",
       "3     5195.621393\n",
       "4     4958.270198\n",
       "5     3544.582543\n",
       "6     2582.612421\n",
       "7     6638.668663\n",
       "8     7900.080139\n",
       "9     7658.588096\n",
       "10    5328.930893\n",
       "Name: Transaction_Amount, dtype: float64"
      ]
     },
     "execution_count": 16,
     "metadata": {},
     "output_type": "execute_result"
    }
   ],
   "source": [
    "# Task 1: Calculate the total transaction amount for each customer\n",
    "total_transaction_amount = df_transactions.groupby('Customer_ID')['Transaction_Amount'].sum()\n",
    "print(\"Total transaction amount for each customer:\")\n",
    "total_transaction_amount"
   ]
  },
  {
   "cell_type": "code",
   "execution_count": 17,
   "metadata": {},
   "outputs": [
    {
     "name": "stdout",
     "output_type": "stream",
     "text": [
      "\n",
      "Average transaction amount per customer:\n"
     ]
    },
    {
     "data": {
      "text/plain": [
       "Customer_ID\n",
       "1     597.777334\n",
       "2     359.360077\n",
       "3     577.291266\n",
       "4     550.918911\n",
       "5     354.458254\n",
       "6     430.435403\n",
       "7     603.515333\n",
       "8     526.672009\n",
       "9     638.215675\n",
       "10    484.448263\n",
       "Name: Transaction_Amount, dtype: float64"
      ]
     },
     "execution_count": 17,
     "metadata": {},
     "output_type": "execute_result"
    }
   ],
   "source": [
    "# Task 2: Find the average transaction amount per customer\n",
    "average_transaction_amount = df_transactions.groupby('Customer_ID')['Transaction_Amount'].mean()\n",
    "print(\"\\nAverage transaction amount per customer:\")\n",
    "average_transaction_amount\n"
   ]
  },
  {
   "cell_type": "code",
   "execution_count": 18,
   "metadata": {},
   "outputs": [
    {
     "name": "stdout",
     "output_type": "stream",
     "text": [
      "\n",
      "Customers with total transactions above threshold:\n"
     ]
    },
    {
     "data": {
      "text/plain": [
       "Customer_ID\n",
       "3     5195.621393\n",
       "7     6638.668663\n",
       "8     7900.080139\n",
       "9     7658.588096\n",
       "10    5328.930893\n",
       "Name: Transaction_Amount, dtype: float64"
      ]
     },
     "execution_count": 18,
     "metadata": {},
     "output_type": "execute_result"
    }
   ],
   "source": [
    "# Task 3: Identify customers with transactions above a certain threshold (e.g., 5000)\n",
    "threshold = 5000\n",
    "high_value_customers = total_transaction_amount[total_transaction_amount > threshold]\n",
    "print(\"\\nCustomers with total transactions above threshold:\")\n",
    "high_value_customers"
   ]
  },
  {
   "cell_type": "code",
   "execution_count": 19,
   "metadata": {},
   "outputs": [
    {
     "name": "stdout",
     "output_type": "stream",
     "text": [
      "Monthly transactions for each customer:\n"
     ]
    },
    {
     "data": {
      "text/plain": [
       "Customer_ID  Month  \n",
       "1            2023-01    2669.730527\n",
       "             2023-02     933.575969\n",
       "             2023-03     581.134846\n",
       "2            2023-01    1482.921170\n",
       "             2023-02     559.648803\n",
       "             2023-03    1551.030797\n",
       "3            2023-01     185.339573\n",
       "             2023-02    2068.273528\n",
       "             2023-03    1668.905923\n",
       "             2023-04    1273.102370\n",
       "4            2023-01     627.652638\n",
       "             2023-02    2456.910685\n",
       "             2023-03    1704.506904\n",
       "             2023-04     169.199971\n",
       "5            2023-01     661.036763\n",
       "             2023-02    1574.822042\n",
       "             2023-03    1043.361527\n",
       "             2023-04     265.362211\n",
       "6            2023-01     822.082280\n",
       "             2023-03    1220.113203\n",
       "             2023-04     540.416937\n",
       "7            2023-01    3227.060661\n",
       "             2023-02    2584.837702\n",
       "             2023-03     392.867993\n",
       "             2023-04     433.902307\n",
       "8            2023-01    1261.213718\n",
       "             2023-02    2642.995766\n",
       "             2023-03    2350.151213\n",
       "             2023-04    1645.719443\n",
       "9            2023-01    1592.419583\n",
       "             2023-02    3238.115426\n",
       "             2023-03    2828.053088\n",
       "10           2023-01     766.781430\n",
       "             2023-02    1535.014043\n",
       "             2023-03    2099.143429\n",
       "             2023-04     927.991991\n",
       "Name: Transaction_Amount, dtype: float64"
      ]
     },
     "execution_count": 19,
     "metadata": {},
     "output_type": "execute_result"
    }
   ],
   "source": [
    "# Task 4: Analyze monthly transactions for each customer\n",
    "df_transactions['Month'] = df_transactions['Transaction_Date'].dt.to_period('M')\n",
    "monthly_transactions = df_transactions.groupby(['Customer_ID', 'Month'])['Transaction_Amount'].sum()\n",
    "print(\"Monthly transactions for each customer:\")\n",
    "monthly_transactions"
   ]
  },
  {
   "cell_type": "markdown",
   "metadata": {},
   "source": [
    "### Example 3: Employee salaries per department  \n",
    "\n",
    "*Scenario*: You have a DataFrame with employee data (id, gender, department, salary)\n",
    "\n",
    "You task is to answer next questions:\n",
    "\n",
    "1. Find the employee with max salaray\n",
    "2. How many males and females works in each departments\n",
    "3. What is the average salary for males and females per each department.\n",
    "4. In which department the male/female have higher average salary?"
   ]
  },
  {
   "cell_type": "code",
   "execution_count": 20,
   "metadata": {},
   "outputs": [
    {
     "data": {
      "text/html": [
       "<div>\n",
       "<style scoped>\n",
       "    .dataframe tbody tr th:only-of-type {\n",
       "        vertical-align: middle;\n",
       "    }\n",
       "\n",
       "    .dataframe tbody tr th {\n",
       "        vertical-align: top;\n",
       "    }\n",
       "\n",
       "    .dataframe thead th {\n",
       "        text-align: right;\n",
       "    }\n",
       "</style>\n",
       "<table border=\"1\" class=\"dataframe\">\n",
       "  <thead>\n",
       "    <tr style=\"text-align: right;\">\n",
       "      <th></th>\n",
       "      <th>employee_id</th>\n",
       "      <th>gender</th>\n",
       "      <th>department</th>\n",
       "      <th>salary</th>\n",
       "    </tr>\n",
       "  </thead>\n",
       "  <tbody>\n",
       "    <tr>\n",
       "      <th>0</th>\n",
       "      <td>1</td>\n",
       "      <td>Male</td>\n",
       "      <td>Finance</td>\n",
       "      <td>106770.850992</td>\n",
       "    </tr>\n",
       "    <tr>\n",
       "      <th>1</th>\n",
       "      <td>2</td>\n",
       "      <td>Female</td>\n",
       "      <td>Marketing</td>\n",
       "      <td>56500.400286</td>\n",
       "    </tr>\n",
       "    <tr>\n",
       "      <th>2</th>\n",
       "      <td>3</td>\n",
       "      <td>Female</td>\n",
       "      <td>Finance</td>\n",
       "      <td>64658.795574</td>\n",
       "    </tr>\n",
       "    <tr>\n",
       "      <th>3</th>\n",
       "      <td>4</td>\n",
       "      <td>Male</td>\n",
       "      <td>Marketing</td>\n",
       "      <td>106602.300437</td>\n",
       "    </tr>\n",
       "    <tr>\n",
       "      <th>4</th>\n",
       "      <td>5</td>\n",
       "      <td>Male</td>\n",
       "      <td>Finance</td>\n",
       "      <td>58522.980464</td>\n",
       "    </tr>\n",
       "    <tr>\n",
       "      <th>5</th>\n",
       "      <td>6</td>\n",
       "      <td>Female</td>\n",
       "      <td>Marketing</td>\n",
       "      <td>45254.347202</td>\n",
       "    </tr>\n",
       "    <tr>\n",
       "      <th>6</th>\n",
       "      <td>7</td>\n",
       "      <td>Male</td>\n",
       "      <td>Finance</td>\n",
       "      <td>80112.113621</td>\n",
       "    </tr>\n",
       "    <tr>\n",
       "      <th>7</th>\n",
       "      <td>8</td>\n",
       "      <td>Female</td>\n",
       "      <td>HR</td>\n",
       "      <td>114253.929674</td>\n",
       "    </tr>\n",
       "    <tr>\n",
       "      <th>8</th>\n",
       "      <td>9</td>\n",
       "      <td>Male</td>\n",
       "      <td>Marketing</td>\n",
       "      <td>92642.681701</td>\n",
       "    </tr>\n",
       "    <tr>\n",
       "      <th>9</th>\n",
       "      <td>10</td>\n",
       "      <td>Male</td>\n",
       "      <td>IT</td>\n",
       "      <td>81305.505308</td>\n",
       "    </tr>\n",
       "  </tbody>\n",
       "</table>\n",
       "</div>"
      ],
      "text/plain": [
       "   employee_id  gender department         salary\n",
       "0            1    Male    Finance  106770.850992\n",
       "1            2  Female  Marketing   56500.400286\n",
       "2            3  Female    Finance   64658.795574\n",
       "3            4    Male  Marketing  106602.300437\n",
       "4            5    Male    Finance   58522.980464\n",
       "5            6  Female  Marketing   45254.347202\n",
       "6            7    Male    Finance   80112.113621\n",
       "7            8  Female         HR  114253.929674\n",
       "8            9    Male  Marketing   92642.681701\n",
       "9           10    Male         IT   81305.505308"
      ]
     },
     "execution_count": 20,
     "metadata": {},
     "output_type": "execute_result"
    }
   ],
   "source": [
    "# Generate sample data:\n",
    "data_rows = 10\n",
    "\n",
    "# Define possible values for each column\n",
    "employee_ids = range(1, data_rows+1)\n",
    "genders = rng.choice(['Male', 'Female'], size=data_rows)\n",
    "departments = rng.choice(['HR', 'IT', 'Finance', 'Marketing'], size=data_rows)\n",
    "salaries = np.random.uniform(30000, 120000, size=data_rows)\n",
    "\n",
    "# Create the DataFrame\n",
    "employee_data = pd.DataFrame({\n",
    "    'employee_id': employee_ids,\n",
    "    'gender': genders,\n",
    "    'department': departments,\n",
    "    'salary': salaries\n",
    "})\n",
    "employee_data"
   ]
  },
  {
   "cell_type": "code",
   "execution_count": 21,
   "metadata": {},
   "outputs": [
    {
     "data": {
      "text/plain": [
       "employee_id                8\n",
       "gender                Female\n",
       "department                HR\n",
       "salary         114253.929674\n",
       "Name: 7, dtype: object"
      ]
     },
     "execution_count": 21,
     "metadata": {},
     "output_type": "execute_result"
    }
   ],
   "source": [
    "### Find the employee with max salaray\n",
    "max_salary_employee_idx = employee_data['salary'].idxmax()\n",
    "employee_data.loc[max_salary_employee_idx,:]\n",
    "\n",
    "# The idxmax() method is used to find the index of the first occurrence of the maximum value along a specified axis in a DataFrame."
   ]
  },
  {
   "cell_type": "code",
   "execution_count": 22,
   "metadata": {},
   "outputs": [
    {
     "data": {
      "text/html": [
       "<div>\n",
       "<style scoped>\n",
       "    .dataframe tbody tr th:only-of-type {\n",
       "        vertical-align: middle;\n",
       "    }\n",
       "\n",
       "    .dataframe tbody tr th {\n",
       "        vertical-align: top;\n",
       "    }\n",
       "\n",
       "    .dataframe thead th {\n",
       "        text-align: right;\n",
       "    }\n",
       "</style>\n",
       "<table border=\"1\" class=\"dataframe\">\n",
       "  <thead>\n",
       "    <tr style=\"text-align: right;\">\n",
       "      <th>gender</th>\n",
       "      <th>Female</th>\n",
       "      <th>Male</th>\n",
       "    </tr>\n",
       "    <tr>\n",
       "      <th>department</th>\n",
       "      <th></th>\n",
       "      <th></th>\n",
       "    </tr>\n",
       "  </thead>\n",
       "  <tbody>\n",
       "    <tr>\n",
       "      <th>Finance</th>\n",
       "      <td>1</td>\n",
       "      <td>3</td>\n",
       "    </tr>\n",
       "    <tr>\n",
       "      <th>HR</th>\n",
       "      <td>1</td>\n",
       "      <td>0</td>\n",
       "    </tr>\n",
       "    <tr>\n",
       "      <th>IT</th>\n",
       "      <td>0</td>\n",
       "      <td>1</td>\n",
       "    </tr>\n",
       "    <tr>\n",
       "      <th>Marketing</th>\n",
       "      <td>2</td>\n",
       "      <td>2</td>\n",
       "    </tr>\n",
       "  </tbody>\n",
       "</table>\n",
       "</div>"
      ],
      "text/plain": [
       "gender      Female  Male\n",
       "department              \n",
       "Finance          1     3\n",
       "HR               1     0\n",
       "IT               0     1\n",
       "Marketing        2     2"
      ]
     },
     "execution_count": 22,
     "metadata": {},
     "output_type": "execute_result"
    }
   ],
   "source": [
    "### How many males and females works in each departments\n",
    "gender_size = employee_data.groupby(['department','gender']).size()\n",
    "gender_size.unstack(fill_value=0)\n",
    "\n",
    "\n",
    "# The unstack() method in pandas pivots the level of the (typically hierarchical) index labels to the columns, producing a DataFrame with a new shape. This is particularly useful when you have a MultiIndex (an index with multiple levels) and you want to convert one of the index levels into columns."
   ]
  },
  {
   "cell_type": "code",
   "execution_count": 23,
   "metadata": {},
   "outputs": [
    {
     "data": {
      "text/html": [
       "<div>\n",
       "<style scoped>\n",
       "    .dataframe tbody tr th:only-of-type {\n",
       "        vertical-align: middle;\n",
       "    }\n",
       "\n",
       "    .dataframe tbody tr th {\n",
       "        vertical-align: top;\n",
       "    }\n",
       "\n",
       "    .dataframe thead th {\n",
       "        text-align: right;\n",
       "    }\n",
       "</style>\n",
       "<table border=\"1\" class=\"dataframe\">\n",
       "  <thead>\n",
       "    <tr style=\"text-align: right;\">\n",
       "      <th>gender</th>\n",
       "      <th>Female</th>\n",
       "      <th>Male</th>\n",
       "    </tr>\n",
       "    <tr>\n",
       "      <th>department</th>\n",
       "      <th></th>\n",
       "      <th></th>\n",
       "    </tr>\n",
       "  </thead>\n",
       "  <tbody>\n",
       "    <tr>\n",
       "      <th>Finance</th>\n",
       "      <td>64658.795574</td>\n",
       "      <td>81801.981692</td>\n",
       "    </tr>\n",
       "    <tr>\n",
       "      <th>HR</th>\n",
       "      <td>114253.929674</td>\n",
       "      <td>NaN</td>\n",
       "    </tr>\n",
       "    <tr>\n",
       "      <th>IT</th>\n",
       "      <td>NaN</td>\n",
       "      <td>81305.505308</td>\n",
       "    </tr>\n",
       "    <tr>\n",
       "      <th>Marketing</th>\n",
       "      <td>50877.373744</td>\n",
       "      <td>99622.491069</td>\n",
       "    </tr>\n",
       "  </tbody>\n",
       "</table>\n",
       "</div>"
      ],
      "text/plain": [
       "gender             Female          Male\n",
       "department                             \n",
       "Finance      64658.795574  81801.981692\n",
       "HR          114253.929674           NaN\n",
       "IT                    NaN  81305.505308\n",
       "Marketing    50877.373744  99622.491069"
      ]
     },
     "execution_count": 23,
     "metadata": {},
     "output_type": "execute_result"
    }
   ],
   "source": [
    "###  What is the average salary for males and females per each department.\n",
    "average_salaries = employee_data.groupby(['department', 'gender'])['salary'].mean()\n",
    "average_salaries.unstack()\n"
   ]
  },
  {
   "cell_type": "code",
   "execution_count": 24,
   "metadata": {},
   "outputs": [
    {
     "data": {
      "text/plain": [
       "gender\n",
       "Female           HR\n",
       "Male      Marketing\n",
       "Name: salary, dtype: object"
      ]
     },
     "execution_count": 24,
     "metadata": {},
     "output_type": "execute_result"
    }
   ],
   "source": [
    "### In which department the male/female have higher average salary?\n",
    "\n",
    "# find the department with the highest average salary for each gender\n",
    "highest_average_salary_by_gender = average_salaries.groupby('gender').idxmax()\n",
    "highest_average_salary_by_gender.apply( lambda value:value[0] )\n",
    "\n",
    "# The apply function in pandas is a versatile method that allows you to apply a function along the axis of a DataFrame or a Series. It can be used to apply a function to each element, row, or column of a DataFrame or Series."
   ]
  }
 ],
 "metadata": {
  "interpreter": {
   "hash": "6ff067a0fdd468d21234896ffbb9cd57a905a2e40964bad2ca7f8fead7ef9bc7"
  },
  "kernelspec": {
   "display_name": "Python 3.9.7 64-bit ('ml_python_3.9': pyenv)",
   "name": "python3"
  },
  "language_info": {
   "codemirror_mode": {
    "name": "ipython",
    "version": 3
   },
   "file_extension": ".py",
   "mimetype": "text/x-python",
   "name": "python",
   "nbconvert_exporter": "python",
   "pygments_lexer": "ipython3",
   "version": "3.12.3"
  },
  "orig_nbformat": 4
 },
 "nbformat": 4,
 "nbformat_minor": 2
}
