{
 "cells": [
  {
   "cell_type": "code",
   "id": "f274940b",
   "metadata": {
    "ExecuteTime": {
     "end_time": "2024-07-13T11:31:15.051951Z",
     "start_time": "2024-07-13T11:31:14.996733Z"
    }
   },
   "source": [
    "import numpy as np"
   ],
   "outputs": [],
   "execution_count": 3
  },
  {
   "cell_type": "code",
   "execution_count": null,
   "id": "798f4046",
   "metadata": {},
   "outputs": [],
   "source": [
    "# ---------------------------------- Task 1 ---------------------------------- #\n",
    "\"\"\" DESCRIPTION:\n",
    "Create a function (create_numpy_array) that takes a list of numbers and returns a NumPy array.\n",
    "\"\"\""
   ]
  },
  {
   "cell_type": "markdown",
   "id": "d3428fd3",
   "metadata": {},
   "source": [
    "## YOUR CODE HERE:"
   ]
  },
  {
   "cell_type": "code",
   "id": "930cbc9b",
   "metadata": {
    "ExecuteTime": {
     "end_time": "2024-07-13T11:31:08.114603Z",
     "start_time": "2024-07-13T11:31:08.109836Z"
    }
   },
   "source": [
    "def create_numpy_array(num):\n",
    "    return np.array(num)"
   ],
   "outputs": [],
   "execution_count": 1
  },
  {
   "cell_type": "code",
   "id": "9473ed87",
   "metadata": {
    "ExecuteTime": {
     "end_time": "2024-07-13T11:31:17.585586Z",
     "start_time": "2024-07-13T11:31:17.582307Z"
    }
   },
   "source": [
    "### TEST:\n",
    "print(create_numpy_array([1, 2, 3, 4, 5]))"
   ],
   "outputs": [
    {
     "name": "stdout",
     "output_type": "stream",
     "text": [
      "[1 2 3 4 5]\n"
     ]
    }
   ],
   "execution_count": 4
  },
  {
   "cell_type": "markdown",
   "id": "349a8138",
   "metadata": {
    "lines_to_next_cell": 2
   },
   "source": [
    "## EXPECTED OUTPUT:\n",
    "[1 2 3 4 5]"
   ]
  },
  {
   "cell_type": "code",
   "execution_count": null,
   "id": "6619f98d",
   "metadata": {},
   "outputs": [],
   "source": [
    "# ---------------------------------- Task 2 ---------------------------------- #\n",
    "\"\"\"\n",
    "DESCRIPTION:\n",
    "Create a function (array_sum) that takes a NumPy array and returns the sum of its elements.\n",
    "\"\"\""
   ]
  },
  {
   "metadata": {
    "ExecuteTime": {
     "end_time": "2024-07-13T11:31:27.027878Z",
     "start_time": "2024-07-13T11:31:27.025224Z"
    }
   },
   "cell_type": "code",
   "source": [
    "## YOUR CODE HERE:\n",
    "\n",
    "def array_sum(arr):\n",
    "    return arr.sum()"
   ],
   "id": "a1867a5ed1452d70",
   "outputs": [],
   "execution_count": 5
  },
  {
   "cell_type": "code",
   "id": "33faf37b",
   "metadata": {
    "ExecuteTime": {
     "end_time": "2024-07-13T11:31:28.096884Z",
     "start_time": "2024-07-13T11:31:28.092943Z"
    }
   },
   "source": [
    "### TEST:\n",
    "print(array_sum(np.array([1, 2, 3, 4, 5])))\n"
   ],
   "outputs": [
    {
     "name": "stdout",
     "output_type": "stream",
     "text": [
      "15\n"
     ]
    }
   ],
   "execution_count": 6
  },
  {
   "cell_type": "markdown",
   "id": "a641ac0b",
   "metadata": {
    "lines_to_next_cell": 2
   },
   "source": [
    "## EXPECTED OUTPUT:\n",
    "15"
   ]
  },
  {
   "cell_type": "code",
   "execution_count": null,
   "id": "96409a86",
   "metadata": {},
   "outputs": [],
   "source": [
    "# ---------------------------------- Task 3 ---------------------------------- #\n",
    "\"\"\" DESCRIPTION:\n",
    "Create a function (evens_in_array) that takes a NumPy array and returns a new array containing only the even numbers.\n",
    "\"\"\""
   ]
  },
  {
   "metadata": {
    "ExecuteTime": {
     "end_time": "2024-07-13T11:32:34.055708Z",
     "start_time": "2024-07-13T11:32:34.052734Z"
    }
   },
   "cell_type": "code",
   "source": [
    "## YOUR CODE HERE:\n",
    "\n",
    "def evens_in_array(arr):\n",
    "    mask=arr%2==0\n",
    "    return arr[mask]"
   ],
   "id": "47774f696a9a7d0e",
   "outputs": [],
   "execution_count": 7
  },
  {
   "cell_type": "code",
   "id": "1a2ea13a",
   "metadata": {
    "ExecuteTime": {
     "end_time": "2024-07-13T11:32:36.135877Z",
     "start_time": "2024-07-13T11:32:36.132150Z"
    }
   },
   "source": [
    "### TEST:\n",
    "print(evens_in_array(np.array([1, 2, 3, 4, 5, 6])))"
   ],
   "outputs": [
    {
     "name": "stdout",
     "output_type": "stream",
     "text": [
      "[2 4 6]\n"
     ]
    }
   ],
   "execution_count": 8
  },
  {
   "cell_type": "markdown",
   "id": "67b1723a",
   "metadata": {
    "lines_to_next_cell": 2
   },
   "source": [
    "## EXPECTED OUTPUT:\n",
    "[2 4 6]"
   ]
  },
  {
   "cell_type": "code",
   "execution_count": null,
   "id": "2c54895a",
   "metadata": {},
   "outputs": [],
   "source": [
    "# ---------------------------------- Task 4 ---------------------------------- #\n",
    "\"\"\" DESCRIPTION:\n",
    "Create a function (count_greater_than) that takes a NumPy array and a threshold value, and returns the count of elements greater than the threshold.\n",
    "\"\"\""
   ]
  },
  {
   "metadata": {
    "ExecuteTime": {
     "end_time": "2024-07-13T11:36:36.266277Z",
     "start_time": "2024-07-13T11:36:36.262869Z"
    }
   },
   "cell_type": "code",
   "source": [
    "## YOUR CODE HERE:\n",
    "\n",
    "def count_greater_than(arr, threshold_val):\n",
    "    mask= arr > threshold_val \n",
    "    return len(arr[mask])\n"
   ],
   "id": "243d85e6a50f1c1",
   "outputs": [],
   "execution_count": 13
  },
  {
   "cell_type": "code",
   "id": "96156590",
   "metadata": {
    "ExecuteTime": {
     "end_time": "2024-07-13T11:36:39.064776Z",
     "start_time": "2024-07-13T11:36:39.062079Z"
    }
   },
   "source": [
    "### TEST:\n",
    "print(count_greater_than(np.array([1, 2, 3, 4, 5]), 3))"
   ],
   "outputs": [
    {
     "name": "stdout",
     "output_type": "stream",
     "text": [
      "2\n"
     ]
    }
   ],
   "execution_count": 14
  },
  {
   "cell_type": "markdown",
   "id": "df8fd97d",
   "metadata": {
    "lines_to_next_cell": 2
   },
   "source": [
    "## EXPECTED OUTPUT:\n",
    "2"
   ]
  },
  {
   "cell_type": "code",
   "execution_count": null,
   "id": "1d445ae4",
   "metadata": {},
   "outputs": [],
   "source": [
    "# ---------------------------------- Task 5 ---------------------------------- #\n",
    "\"\"\" DESCRIPTION:\n",
    "Create a function (access_element) that takes a NumPy array and an index, and returns the element at that index.\n",
    "\"\"\""
   ]
  },
  {
   "metadata": {
    "ExecuteTime": {
     "end_time": "2024-07-13T11:37:30.292604Z",
     "start_time": "2024-07-13T11:37:30.289118Z"
    }
   },
   "cell_type": "code",
   "source": [
    "## YOUR CODE HERE:\n",
    "\n",
    "def access_element(arr, idx):\n",
    "    return arr[idx]"
   ],
   "id": "a225f0c30f0e3849",
   "outputs": [],
   "execution_count": 15
  },
  {
   "cell_type": "code",
   "id": "394734e2",
   "metadata": {
    "ExecuteTime": {
     "end_time": "2024-07-13T11:37:31.776652Z",
     "start_time": "2024-07-13T11:37:31.773442Z"
    }
   },
   "source": [
    "### TEST:\n",
    "print(access_element(np.array([10, 20, 30, 40, 50]), 3))"
   ],
   "outputs": [
    {
     "name": "stdout",
     "output_type": "stream",
     "text": [
      "40\n"
     ]
    }
   ],
   "execution_count": 16
  },
  {
   "cell_type": "markdown",
   "id": "d2daf0b3",
   "metadata": {
    "lines_to_next_cell": 2
   },
   "source": [
    "## EXPECTED OUTPUT:\n",
    "40"
   ]
  },
  {
   "cell_type": "code",
   "execution_count": null,
   "id": "68076dab",
   "metadata": {},
   "outputs": [],
   "source": [
    "# ---------------------------------- Task 6 ---------------------------------- #\n",
    "\"\"\" DESCRIPTION:\n",
    "Create a function (slice_array) that takes a NumPy array and two indices, start and end, and returns the sliced array.\n",
    "\"\"\""
   ]
  },
  {
   "metadata": {
    "ExecuteTime": {
     "end_time": "2024-07-13T11:41:07.713962Z",
     "start_time": "2024-07-13T11:41:07.711169Z"
    }
   },
   "cell_type": "code",
   "source": [
    "## YOUR CODE HERE:\n",
    "\n",
    "def slice_array(arr, idx_tuple):\n",
    "    start_idx, end_idx = idx_tuple\n",
    "    return arr[start_idx:end_idx]\n",
    "    "
   ],
   "id": "b3472d0139c5544e",
   "outputs": [],
   "execution_count": 25
  },
  {
   "cell_type": "code",
   "id": "ef84ee2f",
   "metadata": {
    "ExecuteTime": {
     "end_time": "2024-07-13T11:41:17.686969Z",
     "start_time": "2024-07-13T11:41:17.683359Z"
    }
   },
   "source": [
    "### TEST:\n",
    "print(slice_array(np.array([10, 20, 30, 40, 50]), (1, 4)))"
   ],
   "outputs": [
    {
     "name": "stdout",
     "output_type": "stream",
     "text": [
      "[20 30 40]\n"
     ]
    }
   ],
   "execution_count": 28
  },
  {
   "cell_type": "markdown",
   "id": "e1558a8e",
   "metadata": {},
   "source": [
    "## EXPECTED OUTPUT:\n",
    "[20 30 40]"
   ]
  }
 ],
 "metadata": {
  "jupytext": {
   "cell_metadata_filter": "-all",
   "main_language": "python",
   "notebook_metadata_filter": "-all"
  },
  "kernelspec": {
   "name": "python3",
   "language": "python",
   "display_name": "Python 3 (ipykernel)"
  }
 },
 "nbformat": 4,
 "nbformat_minor": 5
}
